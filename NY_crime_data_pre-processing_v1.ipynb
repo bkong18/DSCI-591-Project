{
 "cells": [
  {
   "cell_type": "markdown",
   "metadata": {},
   "source": [
    "# DSCI 691 Capstone Project\n",
    "## Decoding Crime in NYC\n",
    "## Team: Safe CIty"
   ]
  },
  {
   "cell_type": "markdown",
   "metadata": {},
   "source": [
    "# 2. NYC crime data pre-processing"
   ]
  },
  {
   "cell_type": "code",
   "execution_count": 2,
   "metadata": {},
   "outputs": [],
   "source": [
    "import pandas as pd"
   ]
  },
  {
   "cell_type": "markdown",
   "metadata": {},
   "source": [
    "## 2.1 Read data from a file and a brief look\n",
    "### Year 2016 ~ 2020"
   ]
  },
  {
   "cell_type": "code",
   "execution_count": 3,
   "metadata": {},
   "outputs": [],
   "source": [
    "ny_df = pd.read_csv('ny_crm_all.csv') "
   ]
  },
  {
   "cell_type": "code",
   "execution_count": 4,
   "metadata": {},
   "outputs": [
    {
     "name": "stdout",
     "output_type": "stream",
     "text": [
      "<class 'pandas.core.frame.DataFrame'>\n",
      "RangeIndex: 2270337 entries, 0 to 2270336\n",
      "Data columns (total 19 columns):\n",
      " #   Column             Dtype  \n",
      "---  ------             -----  \n",
      " 0   cmplnt_num         int64  \n",
      " 1   cmplnt_fr_dt       object \n",
      " 2   cmplnt_fr_tm       object \n",
      " 3   ofns_desc          object \n",
      " 4   crm_atpt_cptd_cd   object \n",
      " 5   law_cat_cd         object \n",
      " 6   boro_nm            object \n",
      " 7   loc_of_occur_desc  object \n",
      " 8   prem_typ_desc      object \n",
      " 9   susp_age_group     object \n",
      " 10  susp_race          object \n",
      " 11  susp_sex           object \n",
      " 12  latitude           float64\n",
      " 13  longitude          float64\n",
      " 14  vic_age_group      object \n",
      " 15  vic_race           object \n",
      " 16  vic_sex            object \n",
      " 17  station_name       object \n",
      " 18  parks_nm           object \n",
      "dtypes: float64(2), int64(1), object(16)\n",
      "memory usage: 329.1+ MB\n"
     ]
    }
   ],
   "source": [
    "ny_df.info()"
   ]
  },
  {
   "cell_type": "code",
   "execution_count": 5,
   "metadata": {},
   "outputs": [
    {
     "data": {
      "text/html": [
       "<div>\n",
       "<style scoped>\n",
       "    .dataframe tbody tr th:only-of-type {\n",
       "        vertical-align: middle;\n",
       "    }\n",
       "\n",
       "    .dataframe tbody tr th {\n",
       "        vertical-align: top;\n",
       "    }\n",
       "\n",
       "    .dataframe thead th {\n",
       "        text-align: right;\n",
       "    }\n",
       "</style>\n",
       "<table border=\"1\" class=\"dataframe\">\n",
       "  <thead>\n",
       "    <tr style=\"text-align: right;\">\n",
       "      <th></th>\n",
       "      <th>cmplnt_num</th>\n",
       "      <th>latitude</th>\n",
       "      <th>longitude</th>\n",
       "    </tr>\n",
       "  </thead>\n",
       "  <tbody>\n",
       "    <tr>\n",
       "      <th>count</th>\n",
       "      <td>2.270337e+06</td>\n",
       "      <td>2.270225e+06</td>\n",
       "      <td>2.270225e+06</td>\n",
       "    </tr>\n",
       "    <tr>\n",
       "      <th>mean</th>\n",
       "      <td>5.498951e+08</td>\n",
       "      <td>4.073649e+01</td>\n",
       "      <td>-7.392475e+01</td>\n",
       "    </tr>\n",
       "    <tr>\n",
       "      <th>std</th>\n",
       "      <td>2.598493e+08</td>\n",
       "      <td>8.324506e-02</td>\n",
       "      <td>7.684773e-02</td>\n",
       "    </tr>\n",
       "    <tr>\n",
       "      <th>min</th>\n",
       "      <td>1.000001e+08</td>\n",
       "      <td>4.049891e+01</td>\n",
       "      <td>-7.425494e+01</td>\n",
       "    </tr>\n",
       "    <tr>\n",
       "      <th>25%</th>\n",
       "      <td>3.245917e+08</td>\n",
       "      <td>4.067402e+01</td>\n",
       "      <td>-7.397237e+01</td>\n",
       "    </tr>\n",
       "    <tr>\n",
       "      <th>50%</th>\n",
       "      <td>5.500132e+08</td>\n",
       "      <td>4.073423e+01</td>\n",
       "      <td>-7.392697e+01</td>\n",
       "    </tr>\n",
       "    <tr>\n",
       "      <th>75%</th>\n",
       "      <td>7.750059e+08</td>\n",
       "      <td>4.081270e+01</td>\n",
       "      <td>-7.388249e+01</td>\n",
       "    </tr>\n",
       "    <tr>\n",
       "      <th>max</th>\n",
       "      <td>9.999989e+08</td>\n",
       "      <td>4.091272e+01</td>\n",
       "      <td>-7.370057e+01</td>\n",
       "    </tr>\n",
       "  </tbody>\n",
       "</table>\n",
       "</div>"
      ],
      "text/plain": [
       "         cmplnt_num      latitude     longitude\n",
       "count  2.270337e+06  2.270225e+06  2.270225e+06\n",
       "mean   5.498951e+08  4.073649e+01 -7.392475e+01\n",
       "std    2.598493e+08  8.324506e-02  7.684773e-02\n",
       "min    1.000001e+08  4.049891e+01 -7.425494e+01\n",
       "25%    3.245917e+08  4.067402e+01 -7.397237e+01\n",
       "50%    5.500132e+08  4.073423e+01 -7.392697e+01\n",
       "75%    7.750059e+08  4.081270e+01 -7.388249e+01\n",
       "max    9.999989e+08  4.091272e+01 -7.370057e+01"
      ]
     },
     "execution_count": 5,
     "metadata": {},
     "output_type": "execute_result"
    }
   ],
   "source": [
    "ny_df.describe()"
   ]
  },
  {
   "cell_type": "code",
   "execution_count": 6,
   "metadata": {},
   "outputs": [
    {
     "data": {
      "text/html": [
       "<div>\n",
       "<style scoped>\n",
       "    .dataframe tbody tr th:only-of-type {\n",
       "        vertical-align: middle;\n",
       "    }\n",
       "\n",
       "    .dataframe tbody tr th {\n",
       "        vertical-align: top;\n",
       "    }\n",
       "\n",
       "    .dataframe thead th {\n",
       "        text-align: right;\n",
       "    }\n",
       "</style>\n",
       "<table border=\"1\" class=\"dataframe\">\n",
       "  <thead>\n",
       "    <tr style=\"text-align: right;\">\n",
       "      <th></th>\n",
       "      <th>cmplnt_fr_dt</th>\n",
       "      <th>cmplnt_fr_tm</th>\n",
       "      <th>ofns_desc</th>\n",
       "      <th>crm_atpt_cptd_cd</th>\n",
       "      <th>law_cat_cd</th>\n",
       "      <th>boro_nm</th>\n",
       "      <th>loc_of_occur_desc</th>\n",
       "      <th>prem_typ_desc</th>\n",
       "      <th>susp_age_group</th>\n",
       "      <th>susp_race</th>\n",
       "      <th>susp_sex</th>\n",
       "      <th>vic_age_group</th>\n",
       "      <th>vic_race</th>\n",
       "      <th>vic_sex</th>\n",
       "      <th>station_name</th>\n",
       "      <th>parks_nm</th>\n",
       "    </tr>\n",
       "  </thead>\n",
       "  <tbody>\n",
       "    <tr>\n",
       "      <th>count</th>\n",
       "      <td>2270337</td>\n",
       "      <td>2270337</td>\n",
       "      <td>2270240</td>\n",
       "      <td>2270337</td>\n",
       "      <td>2270337</td>\n",
       "      <td>2268649</td>\n",
       "      <td>1851156</td>\n",
       "      <td>2261742</td>\n",
       "      <td>1695026</td>\n",
       "      <td>1695026</td>\n",
       "      <td>1695026</td>\n",
       "      <td>2270332</td>\n",
       "      <td>2270332</td>\n",
       "      <td>2270332</td>\n",
       "      <td>55085</td>\n",
       "      <td>19794</td>\n",
       "    </tr>\n",
       "    <tr>\n",
       "      <th>unique</th>\n",
       "      <td>1827</td>\n",
       "      <td>1440</td>\n",
       "      <td>68</td>\n",
       "      <td>2</td>\n",
       "      <td>3</td>\n",
       "      <td>5</td>\n",
       "      <td>5</td>\n",
       "      <td>74</td>\n",
       "      <td>79</td>\n",
       "      <td>7</td>\n",
       "      <td>3</td>\n",
       "      <td>108</td>\n",
       "      <td>7</td>\n",
       "      <td>5</td>\n",
       "      <td>370</td>\n",
       "      <td>1106</td>\n",
       "    </tr>\n",
       "    <tr>\n",
       "      <th>top</th>\n",
       "      <td>2016-01-01T00:00:00.000</td>\n",
       "      <td>12:00:00</td>\n",
       "      <td>PETIT LARCENY</td>\n",
       "      <td>COMPLETED</td>\n",
       "      <td>MISDEMEANOR</td>\n",
       "      <td>BROOKLYN</td>\n",
       "      <td>INSIDE</td>\n",
       "      <td>STREET</td>\n",
       "      <td>UNKNOWN</td>\n",
       "      <td>BLACK</td>\n",
       "      <td>M</td>\n",
       "      <td>25-44</td>\n",
       "      <td>UNKNOWN</td>\n",
       "      <td>F</td>\n",
       "      <td>125 STREET</td>\n",
       "      <td>CENTRAL PARK</td>\n",
       "    </tr>\n",
       "    <tr>\n",
       "      <th>freq</th>\n",
       "      <td>2345</td>\n",
       "      <td>58991</td>\n",
       "      <td>420731</td>\n",
       "      <td>2232410</td>\n",
       "      <td>1222876</td>\n",
       "      <td>662112</td>\n",
       "      <td>1211332</td>\n",
       "      <td>657819</td>\n",
       "      <td>636957</td>\n",
       "      <td>639702</td>\n",
       "      <td>1033196</td>\n",
       "      <td>797291</td>\n",
       "      <td>684477</td>\n",
       "      <td>897097</td>\n",
       "      <td>2435</td>\n",
       "      <td>1092</td>\n",
       "    </tr>\n",
       "  </tbody>\n",
       "</table>\n",
       "</div>"
      ],
      "text/plain": [
       "                   cmplnt_fr_dt cmplnt_fr_tm      ofns_desc crm_atpt_cptd_cd  \\\n",
       "count                   2270337      2270337        2270240          2270337   \n",
       "unique                     1827         1440             68                2   \n",
       "top     2016-01-01T00:00:00.000     12:00:00  PETIT LARCENY        COMPLETED   \n",
       "freq                       2345        58991         420731          2232410   \n",
       "\n",
       "         law_cat_cd   boro_nm loc_of_occur_desc prem_typ_desc susp_age_group  \\\n",
       "count       2270337   2268649           1851156       2261742        1695026   \n",
       "unique            3         5                 5            74             79   \n",
       "top     MISDEMEANOR  BROOKLYN            INSIDE        STREET        UNKNOWN   \n",
       "freq        1222876    662112           1211332        657819         636957   \n",
       "\n",
       "       susp_race susp_sex vic_age_group vic_race  vic_sex station_name  \\\n",
       "count    1695026  1695026       2270332  2270332  2270332        55085   \n",
       "unique         7        3           108        7        5          370   \n",
       "top        BLACK        M         25-44  UNKNOWN        F   125 STREET   \n",
       "freq      639702  1033196        797291   684477   897097         2435   \n",
       "\n",
       "            parks_nm  \n",
       "count          19794  \n",
       "unique          1106  \n",
       "top     CENTRAL PARK  \n",
       "freq            1092  "
      ]
     },
     "execution_count": 6,
     "metadata": {},
     "output_type": "execute_result"
    }
   ],
   "source": [
    "ny_df.describe(include=['object'])"
   ]
  },
  {
   "cell_type": "markdown",
   "metadata": {},
   "source": [
    "### Check null values in the dataset"
   ]
  },
  {
   "cell_type": "code",
   "execution_count": 7,
   "metadata": {
    "scrolled": true
   },
   "outputs": [
    {
     "data": {
      "text/plain": [
       "cmplnt_num                 0\n",
       "cmplnt_fr_dt               0\n",
       "cmplnt_fr_tm               0\n",
       "ofns_desc                 97\n",
       "crm_atpt_cptd_cd           0\n",
       "law_cat_cd                 0\n",
       "boro_nm                 1688\n",
       "loc_of_occur_desc     419181\n",
       "prem_typ_desc           8595\n",
       "susp_age_group        575311\n",
       "susp_race             575311\n",
       "susp_sex              575311\n",
       "latitude                 112\n",
       "longitude                112\n",
       "vic_age_group              5\n",
       "vic_race                   5\n",
       "vic_sex                    5\n",
       "station_name         2215252\n",
       "parks_nm             2250543\n",
       "dtype: int64"
      ]
     },
     "execution_count": 7,
     "metadata": {},
     "output_type": "execute_result"
    }
   ],
   "source": [
    "ny_df.isnull().sum()"
   ]
  },
  {
   "cell_type": "markdown",
   "metadata": {},
   "source": [
    "## 2.2 Check column values"
   ]
  },
  {
   "cell_type": "code",
   "execution_count": 8,
   "metadata": {},
   "outputs": [
    {
     "name": "stdout",
     "output_type": "stream",
     "text": [
      "['SEX CRIMES' 'THEFT-FRAUD' 'MISCELLANEOUS PENAL LAW' 'GRAND LARCENY'\n",
      " 'RAPE' 'OFF. AGNST PUB ORD SENSBLTY &' 'FRAUDS'\n",
      " 'NYS LAWS-UNCLASSIFIED FELONY' 'HARRASSMENT 2' 'PETIT LARCENY'\n",
      " 'INTOXICATED & IMPAIRED DRIVING' 'CRIMINAL MISCHIEF & RELATED OF'\n",
      " 'ASSAULT 3 & RELATED OFFENSES' 'ROBBERY' 'VEHICLE AND TRAFFIC LAWS'\n",
      " 'FELONY ASSAULT' 'DANGEROUS WEAPONS' 'FORGERY' 'DANGEROUS DRUGS'\n",
      " 'UNAUTHORIZED USE OF A VEHICLE' 'BURGLARY'\n",
      " 'GRAND LARCENY OF MOTOR VEHICLE' 'PROSTITUTION & RELATED OFFENSES'\n",
      " 'OFFENSES AGAINST PUBLIC ADMINI' 'CRIMINAL TRESPASS'\n",
      " 'OFFENSES AGAINST THE PERSON' 'AGRICULTURE & MRKTS LAW-UNCLASSIFIED'\n",
      " 'OTHER OFFENSES RELATED TO THEF' 'POSSESSION OF STOLEN PROPERTY'\n",
      " 'ENDAN WELFARE INCOMP' 'THEFT OF SERVICES' 'ADMINISTRATIVE CODE' 'ARSON'\n",
      " \"BURGLAR'S TOOLS\" 'OFFENSES INVOLVING FRAUD'\n",
      " 'PETIT LARCENY OF MOTOR VEHICLE' 'MURDER & NON-NEGL. MANSLAUGHTER'\n",
      " 'OFFENSES RELATED TO CHILDREN' 'OTHER STATE LAWS (NON PENAL LA'\n",
      " 'CHILD ABANDONMENT/NON SUPPORT' 'GAMBLING' 'DISORDERLY CONDUCT' nan\n",
      " 'FRAUDULENT ACCOSTING' 'ANTICIPATORY OFFENSES'\n",
      " 'OFFENSES AGAINST PUBLIC SAFETY' 'KIDNAPPING & RELATED OFFENSES'\n",
      " 'JOSTLING' 'ALCOHOLIC BEVERAGE CONTROL LAW'\n",
      " 'NYS LAWS-UNCLASSIFIED VIOLATION' 'ADMINISTRATIVE CODES'\n",
      " 'OTHER STATE LAWS' 'KIDNAPPING' 'NEW YORK CITY HEALTH CODE'\n",
      " 'HOMICIDE-NEGLIGENT,UNCLASSIFIE' 'ESCAPE 3'\n",
      " 'OTHER STATE LAWS (NON PENAL LAW)' 'DISRUPTION OF A RELIGIOUS SERV'\n",
      " 'UNLAWFUL POSS. WEAP. ON SCHOOL' 'LOITERING/GAMBLING (CARDS, DIC'\n",
      " 'HOMICIDE-NEGLIGENT-VEHICLE' 'LOITERING' 'INTOXICATED/IMPAIRED DRIVING'\n",
      " 'ABORTION' 'OTHER TRAFFIC INFRACTION' 'FELONY SEX CRIMES'\n",
      " 'KIDNAPPING AND RELATED OFFENSES' 'OFFENSES AGAINST MARRIAGE UNCL'\n",
      " 'FORTUNE TELLING']\n",
      "\n",
      "PETIT LARCENY                      420731\n",
      "HARRASSMENT 2                      340208\n",
      "ASSAULT 3 & RELATED OFFENSES       253130\n",
      "CRIMINAL MISCHIEF & RELATED OF     238767\n",
      "GRAND LARCENY                      207115\n",
      "                                    ...  \n",
      "OTHER TRAFFIC INFRACTION                1\n",
      "KIDNAPPING AND RELATED OFFENSES         1\n",
      "FORTUNE TELLING                         1\n",
      "OFFENSES AGAINST MARRIAGE UNCL          1\n",
      "ADMINISTRATIVE CODES                    1\n",
      "Name: ofns_desc, Length: 68, dtype: int64\n"
     ]
    }
   ],
   "source": [
    "# offense description\n",
    "print(ny_df['ofns_desc'].unique())\n",
    "print()\n",
    "print(ny_df['ofns_desc'].value_counts())"
   ]
  },
  {
   "cell_type": "code",
   "execution_count": 9,
   "metadata": {},
   "outputs": [
    {
     "name": "stdout",
     "output_type": "stream",
     "text": [
      "['COMPLETED' 'ATTEMPTED']\n",
      "\n",
      "COMPLETED    2232410\n",
      "ATTEMPTED      37927\n",
      "Name: crm_atpt_cptd_cd, dtype: int64\n"
     ]
    }
   ],
   "source": [
    "# crm_atpt_cptd_cd\n",
    "print(ny_df['crm_atpt_cptd_cd'].unique())\n",
    "print()\n",
    "print(ny_df['crm_atpt_cptd_cd'].value_counts())"
   ]
  },
  {
   "cell_type": "code",
   "execution_count": 10,
   "metadata": {},
   "outputs": [
    {
     "name": "stdout",
     "output_type": "stream",
     "text": [
      "['FELONY' 'MISDEMEANOR' 'VIOLATION']\n",
      "\n",
      "MISDEMEANOR    1222876\n",
      "FELONY          703540\n",
      "VIOLATION       343921\n",
      "Name: law_cat_cd, dtype: int64\n"
     ]
    }
   ],
   "source": [
    "# law_cat_cd\n",
    "print(ny_df['law_cat_cd'].unique())\n",
    "print()\n",
    "print(ny_df['law_cat_cd'].value_counts())"
   ]
  },
  {
   "cell_type": "code",
   "execution_count": 11,
   "metadata": {},
   "outputs": [
    {
     "name": "stdout",
     "output_type": "stream",
     "text": [
      "['MANHATTAN' 'BROOKLYN' 'STATEN ISLAND' 'BRONX' 'QUEENS' nan]\n",
      "\n",
      "BROOKLYN         662112\n",
      "MANHATTAN        554596\n",
      "BRONX            498462\n",
      "QUEENS           454228\n",
      "STATEN ISLAND     99251\n",
      "Name: boro_nm, dtype: int64\n"
     ]
    }
   ],
   "source": [
    "# boro_nm\n",
    "print(ny_df['boro_nm'].unique())\n",
    "print()\n",
    "print(ny_df['boro_nm'].value_counts())"
   ]
  },
  {
   "cell_type": "code",
   "execution_count": 12,
   "metadata": {},
   "outputs": [
    {
     "name": "stdout",
     "output_type": "stream",
     "text": [
      "['INSIDE' 'FRONT OF' nan 'REAR OF' 'OPPOSITE OF' 'OUTSIDE']\n",
      "\n",
      "INSIDE         1211332\n",
      "FRONT OF        539210\n",
      "OPPOSITE OF      55409\n",
      "REAR OF          44193\n",
      "OUTSIDE           1012\n",
      "Name: loc_of_occur_desc, dtype: int64\n"
     ]
    }
   ],
   "source": [
    "# loc_of_occur_desc\n",
    "print(ny_df['loc_of_occur_desc'].unique())\n",
    "print()\n",
    "print(ny_df['loc_of_occur_desc'].value_counts())"
   ]
  },
  {
   "cell_type": "code",
   "execution_count": 13,
   "metadata": {},
   "outputs": [
    {
     "name": "stdout",
     "output_type": "stream",
     "text": [
      "['RESIDENCE - APT. HOUSE' 'RESIDENCE-HOUSE' 'RESIDENCE - PUBLIC HOUSING'\n",
      " 'BANK' 'PHOTO/COPY' 'DEPARTMENT STORE' 'STREET' 'OTHER' 'PUBLIC BUILDING'\n",
      " 'COMMERCIAL BUILDING' 'DRY CLEANER/LAUNDRY' 'TRANSIT - NYC SUBWAY'\n",
      " 'FAST FOOD' 'PARKING LOT/GARAGE (PUBLIC)' 'JEWELRY' 'PARK/PLAYGROUND'\n",
      " 'VARIETY STORE' 'CONSTRUCTION SITE' 'RESTAURANT/DINER' 'BAR/NIGHT CLUB'\n",
      " 'GROCERY/BODEGA' 'FOOD SUPERMARKET' 'BUS (NYC TRANSIT)'\n",
      " 'STORE UNCLASSIFIED' 'SMALL MERCHANT' 'HOSPITAL' 'HOTEL/MOTEL'\n",
      " 'GYM/FITNESS FACILITY' 'CHAIN STORE' 'TUNNEL' 'SOCIAL CLUB/POLICY' nan\n",
      " 'HIGHWAY/PARKWAY' 'TRANSIT FACILITY (OTHER)' 'ABANDONED BUILDING'\n",
      " 'TAXI (YELLOW LICENSED)' 'HOMELESS SHELTER' 'BEAUTY & NAIL SALON'\n",
      " 'PARKING LOT/GARAGE (PRIVATE)' 'BRIDGE' 'DRUG STORE' 'CLOTHING/BOUTIQUE'\n",
      " 'MARINA/PIER' 'FERRY/FERRY TERMINAL' 'PRIVATE/PAROCHIAL SCHOOL'\n",
      " 'BUS TERMINAL' 'GAS STATION' 'FACTORY/WAREHOUSE' 'VIDEO STORE'\n",
      " 'OPEN AREAS (OPEN LOTS)' 'DOCTOR/DENTIST OFFICE' 'SHOE' 'CHURCH'\n",
      " 'CANDY STORE' 'LIQUOR STORE' 'TELECOMM. STORE' 'AIRPORT TERMINAL'\n",
      " 'STORAGE FACILITY' 'CEMETERY' 'BUS STOP' 'LOAN COMPANY'\n",
      " 'TAXI (LIVERY LICENSED)' 'CHECK CASHING BUSINESS' 'BOOK/CARD' 'SYNAGOGUE'\n",
      " 'MOSQUE' 'PUBLIC SCHOOL' 'TAXI/LIVERY (UNLICENSED)' 'ATM' 'BUS (OTHER)'\n",
      " 'OTHER HOUSE OF WORSHIP' 'MAILBOX OUTSIDE' 'MAILBOX INSIDE' 'TRAMWAY'\n",
      " 'DAYCARE FACILITY']\n",
      "\n",
      "STREET                        657819\n",
      "RESIDENCE - APT. HOUSE        505330\n",
      "RESIDENCE-HOUSE               219310\n",
      "RESIDENCE - PUBLIC HOUSING    171253\n",
      "CHAIN STORE                    72038\n",
      "                               ...  \n",
      "PHOTO/COPY                       248\n",
      "CEMETERY                         188\n",
      "LOAN COMPANY                     118\n",
      "DAYCARE FACILITY                  53\n",
      "TRAMWAY                           37\n",
      "Name: prem_typ_desc, Length: 74, dtype: int64\n"
     ]
    }
   ],
   "source": [
    "# prem_typ_desc\n",
    "print(ny_df['prem_typ_desc'].unique())\n",
    "print()\n",
    "print(ny_df['prem_typ_desc'].value_counts())"
   ]
  },
  {
   "cell_type": "code",
   "execution_count": 14,
   "metadata": {},
   "outputs": [
    {
     "name": "stdout",
     "output_type": "stream",
     "text": [
      "['45-64' nan '25-44' 'UNKNOWN' '<18' '65+' '18-24' '926' '2016' '-974'\n",
      " '1016' '-54' '-979' '327' '-83' '-975' '-67' '923' '931' '-969' '1932'\n",
      " '-2' '-965' '1053' '935' '2017' '934' '-72' '1017' '940' '-971' '942'\n",
      " '927' '-960' '1933' '-972' '945' '-968' '-42' '944' '-953' '949' '-981'\n",
      " '954' '1967' '1018' '938' '2018' '928' '920' '952' '-63' '-978' '-939'\n",
      " '1012' '922' '924' '948' '955' '-80' '-941' '929' '-1' '1019' '2019'\n",
      " '-973' '947' '-966' '-64' '930' '-964' '-928' '-942' '-71' '2020' '1925'\n",
      " '-12' '1020' '-962' '-977']\n",
      "\n",
      "UNKNOWN    636957\n",
      "25-44      564861\n",
      "18-24      207660\n",
      "45-64      206022\n",
      "<18         61217\n",
      "            ...  \n",
      "-962            1\n",
      "1932            1\n",
      "1925            1\n",
      "944             1\n",
      "-941            1\n",
      "Name: susp_age_group, Length: 79, dtype: int64\n"
     ]
    }
   ],
   "source": [
    "# susp_age_group\n",
    "print(ny_df['susp_age_group'].unique())\n",
    "print()\n",
    "print(ny_df['susp_age_group'].value_counts())"
   ]
  },
  {
   "cell_type": "markdown",
   "metadata": {},
   "source": [
    "- Need data cleaning for 'susp_age_group'"
   ]
  },
  {
   "cell_type": "code",
   "execution_count": 15,
   "metadata": {},
   "outputs": [
    {
     "name": "stdout",
     "output_type": "stream",
     "text": [
      "['WHITE HISPANIC' nan 'UNKNOWN' 'ASIAN / PACIFIC ISLANDER' 'BLACK'\n",
      " 'BLACK HISPANIC' 'WHITE' 'AMERICAN INDIAN/ALASKAN NATIVE']\n",
      "\n",
      "BLACK                             639702\n",
      "UNKNOWN                           424602\n",
      "WHITE HISPANIC                    297481\n",
      "WHITE                             172618\n",
      "BLACK HISPANIC                     93082\n",
      "ASIAN / PACIFIC ISLANDER           62675\n",
      "AMERICAN INDIAN/ALASKAN NATIVE      4866\n",
      "Name: susp_race, dtype: int64\n"
     ]
    }
   ],
   "source": [
    "# susp_race\n",
    "print(ny_df['susp_race'].unique())\n",
    "print()\n",
    "print(ny_df['susp_race'].value_counts())"
   ]
  },
  {
   "cell_type": "code",
   "execution_count": 16,
   "metadata": {},
   "outputs": [
    {
     "name": "stdout",
     "output_type": "stream",
     "text": [
      "['M' nan 'U' 'F']\n",
      "\n",
      "M    1033196\n",
      "U     352293\n",
      "F     309537\n",
      "Name: susp_sex, dtype: int64\n"
     ]
    }
   ],
   "source": [
    "# susp_sex\n",
    "print(ny_df['susp_sex'].unique())\n",
    "print()\n",
    "print(ny_df['susp_sex'].value_counts())"
   ]
  },
  {
   "cell_type": "code",
   "execution_count": 17,
   "metadata": {},
   "outputs": [
    {
     "name": "stdout",
     "output_type": "stream",
     "text": [
      "['<18' '25-44' 'UNKNOWN' '18-24' '45-64' '65+' '928' '1014' '-972' '-40'\n",
      " '929' '-65' '922' '-32' '-61' '950' '-37' '-970' '977' '-52' '-975'\n",
      " '-931' '-981' '-63' '-70' '-1' '-973' '936' '-72' '-2' '945' '955' '-45'\n",
      " '-49' '-934' '-60' '-945' nan '-48' '-73' '-962' '-964' '-980' '-938'\n",
      " '-959' '940' '-937' '972' '-966' '-978' '956' '-36' '-942' '-55' '947'\n",
      " '-81' '-53' '1012' '946' '-3' '938' '-936' '-950' '-974' '951' '-43'\n",
      " '-958' '970' '-5' '-956' '-51' '-968' '-76' '-940' '954' '-955' '-948'\n",
      " '948' '957' '965' '953' '1017' '-4' '-67' '-59' '-952' '-56' '927' '960'\n",
      " '-946' '-69' '937' '-967' '1013' '-39' '941' '-50' '-943' '-954' '-71'\n",
      " '-961' '1018' '943' '-963' '-31' '1016' '932' '-965' '949']\n",
      "\n",
      "25-44      797291\n",
      "UNKNOWN    639074\n",
      "45-64      427104\n",
      "18-24      218910\n",
      "65+         95436\n",
      "            ...  \n",
      "-45             1\n",
      "-959            1\n",
      "940             1\n",
      "932             1\n",
      "-965            1\n",
      "Name: vic_age_group, Length: 108, dtype: int64\n"
     ]
    }
   ],
   "source": [
    "# vic_age_group\n",
    "print(ny_df['vic_age_group'].unique())\n",
    "print()\n",
    "print(ny_df['vic_age_group'].value_counts())"
   ]
  },
  {
   "cell_type": "markdown",
   "metadata": {},
   "source": [
    "- Need data cleaning for 'vic_age_group'"
   ]
  },
  {
   "cell_type": "code",
   "execution_count": 18,
   "metadata": {},
   "outputs": [
    {
     "name": "stdout",
     "output_type": "stream",
     "text": [
      "['BLACK HISPANIC' 'BLACK' 'UNKNOWN' 'WHITE HISPANIC'\n",
      " 'ASIAN / PACIFIC ISLANDER' 'WHITE' 'AMERICAN INDIAN/ALASKAN NATIVE' nan]\n",
      "\n",
      "UNKNOWN                           684477\n",
      "BLACK                             571489\n",
      "WHITE HISPANIC                    390789\n",
      "WHITE                             362516\n",
      "ASIAN / PACIFIC ISLANDER          161086\n",
      "BLACK HISPANIC                     88756\n",
      "AMERICAN INDIAN/ALASKAN NATIVE     11219\n",
      "Name: vic_race, dtype: int64\n"
     ]
    }
   ],
   "source": [
    "# vic_race\n",
    "print(ny_df['vic_race'].unique())\n",
    "print()\n",
    "print(ny_df['vic_race'].value_counts())"
   ]
  },
  {
   "cell_type": "code",
   "execution_count": 19,
   "metadata": {},
   "outputs": [
    {
     "name": "stdout",
     "output_type": "stream",
     "text": [
      "['F' 'E' 'M' 'D' nan 'U']\n",
      "\n",
      "F    897097\n",
      "M    786447\n",
      "D    315846\n",
      "E    270941\n",
      "U         1\n",
      "Name: vic_sex, dtype: int64\n"
     ]
    }
   ],
   "source": [
    "# vic_sex\n",
    "print(ny_df['vic_sex'].unique())\n",
    "print()\n",
    "print(ny_df['vic_sex'].value_counts())"
   ]
  },
  {
   "cell_type": "code",
   "execution_count": 20,
   "metadata": {},
   "outputs": [
    {
     "name": "stdout",
     "output_type": "stream",
     "text": [
      "[nan 'ECHO TRIANGLE' 'HIGHBRIDGE PARK MANHATTAN SIDE' ... 'CLEARVIEW PARK'\n",
      " 'SGT. JOYCE KILMER TRIANGLE' 'TECUMSEH PLAYGROUND']\n",
      "\n",
      "CENTRAL PARK                      1092\n",
      "FLUSHING MEADOWS CORONA PARK      1013\n",
      "CONEY ISLAND BEACH & BOARDWALK     875\n",
      "WASHINGTON SQUARE PARK             675\n",
      "UNION SQUARE PARK                  448\n",
      "                                  ... \n",
      "UNNAMED PARK ON E 175TH STREET       1\n",
      "SAW MILL CREEK MARSH                 1\n",
      "SCHIFF MALL                          1\n",
      "JACKIE ROBINSON PARKWAY              1\n",
      "SOCRATES SCULPTURE PARK              1\n",
      "Name: parks_nm, Length: 1106, dtype: int64\n"
     ]
    }
   ],
   "source": [
    "# parks_nm\n",
    "print(ny_df['parks_nm'].unique())\n",
    "print()\n",
    "print(ny_df['parks_nm'].value_counts())"
   ]
  },
  {
   "cell_type": "code",
   "execution_count": 21,
   "metadata": {
    "scrolled": true
   },
   "outputs": [
    {
     "name": "stdout",
     "output_type": "stream",
     "text": [
      "[nan 'JAMAICA-VAN WYCK' 'WHITEHALL ST.-SOUTH FERRY' '8 ST.-NYU'\n",
      " '42 ST.-TIMES SQUARE' 'BEDFORD PK. BLVD.' 'MORRIS PARK' 'ROCKAWAY BLVD.'\n",
      " '116 STREET' 'TREMONT AVENUE' '157 STREET' 'BAY PARKWAY' '14 STREET'\n",
      " 'UTICA AVE.-CROWN HEIGHTS' 'EAST 174 STREET' 'NORWOOD AVENUE'\n",
      " 'FULTON STREET' 'STILLWELL AVENUE-CONEY ISLAND' 'UTICA AVENUE'\n",
      " '96 STREET' 'INTERVALE AVENUE' '174-175 STREETS'\n",
      " 'FLATBUSH AVE.-BROOKLYN COLLEGE' '42 ST.-PORT AUTHORITY BUS TERM'\n",
      " '125 STREET' '59 ST.-COLUMBUS CIRCLE' '8 AVENUE' 'NOSTRAND AVENUE'\n",
      " '138 ST.-GRAND CONCOURSE' '3 AVENUE-149 STREET' '5 AVENUE' '86 STREET'\n",
      " 'CHAMBERS ST.-WORLD TRADE CENTE' 'BROADWAY/LAFAYETTE'\n",
      " 'PARSONS/ARCHER-JAMAICA CENTER' '2 AVENUE' '1 AVENUE' 'FORDHAM ROAD'\n",
      " '34 ST.-PENN STATION' '161 ST.-YANKEE STADIUM' '179 ST.-JAMAICA'\n",
      " 'UNION SQUARE' '103 STREET' '49 STREET' 'CLINTON-WASHINGTON AVENUES'\n",
      " 'PELHAM BAY PARK' 'HOYT-SCHERMERHORN' '168 ST.-WASHINGTON HTS.'\n",
      " '42 ST.-GRAND CENTRAL' '50 STREET' 'ATLANTIC AVENUE'\n",
      " 'BEDFORD PK. BLVD.-LEHMAN COLLE' '110 STREET' '72 STREET'\n",
      " '242 ST.-VAN CORTLANDT PARK' '170 STREET' 'JAY STREET-BOROUGH HALL'\n",
      " '36 STREET' 'EAST 105 STREET' 'MORGAN AVENUE' 'GUN HILL ROAD'\n",
      " 'BLEECKER STREET' '207 ST.-INWOOD' 'PACIFIC STREET' 'PRINCE STREET'\n",
      " 'NEW LOTS AVENUE' 'SUTTER AVENUE' 'CHURCH AVENUE' '23 STREET-ELY AVENUE'\n",
      " 'SHEEPSHEAD BAY' 'AVENUE \"U\"' \"EAST 143 ST.-ST. MARY'S STREET\"\n",
      " '25 AVENUE' 'BOWERY' 'BROOKLYN BRIDGE-CITY HALL'\n",
      " '110 ST.-CENTRAL PARK NORTH' 'CANAL STREET' 'BURNSIDE AVENUE' '59 STREET'\n",
      " '71 AVE.-FOREST HILLS' 'LEXINGTON AVENUE' 'WOODHAVEN BLVD.'\n",
      " '103 ST.-CORONA PLAZA' 'EAST 149 STREET' 'WEST 8 STREET-NY AQUARIUM'\n",
      " 'BAY RIDGE AVENUE' 'ROCKAWAY AVENUE' 'UNION TURNPIKE-KEW GARDENS'\n",
      " 'AVENUE \"M\"' 'SIMPSON STREET' '15 ST.-PROSPECT PARK' 'QUEENSBORO PLAZA'\n",
      " 'SARATOGA AVENUE' 'FRANKLIN AVENUE' '51 STREET' 'HUNTERS POINT AVENUE'\n",
      " 'KINGSBRIDGE ROAD' '28 STREET' '74 ST.-BROADWAY' 'SPRING STREET'\n",
      " '145 STREET' 'FORT HAMILTON PKWY' 'BOROUGH HALL' 'KINGS HIGHWAY'\n",
      " 'KOSCIUSKO STREET' 'HEWES STREET' 'GRAHAM AVENUE' 'DISTRICT 1 OFFICE'\n",
      " 'PENNSYLVANIA AVENUE' 'WOODLAWN' '47-50 STS./ROCKEFELLER CTR.'\n",
      " '68 ST.-HUNTER COLLEGE' '39 AVENUE' '3 AVENUE-138 STREET'\n",
      " '110 ST.-CATHEDRAL PKWY.' '53 STREET' 'SOUTH FERRY'\n",
      " '81 ST.-MUSEUM OF NATURAL HISTO' '167 STREET' 'SHEPHERD AVENUE'\n",
      " 'MT. EDEN AVENUE' '21 ST.-QUEENSBRIDGE' '23 STREET' 'EAST 180 STREET'\n",
      " 'EAST BROADWAY' 'CHRISTOPHER ST.-SHERIDAN SQ.' 'EUCLID AVENUE'\n",
      " '14 ST.-UNION SQUARE' 'HALSEY STREET' '135 STREET' 'BEDFORD AVENUE'\n",
      " 'DEKALB AVENUE' '231 STREET' 'STERLING STREET' 'LORIMER STREET'\n",
      " '33 STREET' 'SMITH-9 STREETS' '42 STREET' '34 ST.-HERALD SQ.' '77 STREET'\n",
      " 'DISTRICT 4 OFFICE' 'BROADWAY' '66 ST.-LINCOLN CENTER'\n",
      " '241 ST.-WAKEFIELD' 'GRAND STREET' 'BAYCHESTER AVENUE' '57 STREET'\n",
      " '95 STREET-BAY RIDGE' 'PELHAM PKWY.' 'BRONX PARK EAST' 'WYCKOFF AVENUE'\n",
      " '46 STREET' 'DITMARS BLVD.-ASTORIA' 'MYRTLE AVENUE'\n",
      " 'HOWARD BEACH-JFK AIRPORT' 'GRAND AVE.-NEWTON' 'BRIGHTON BEACH'\n",
      " 'BROADWAY-EAST NEW YORK' '18 AVENUE' '67 AVENUE' 'PROSPECT PARK'\n",
      " '176 STREET' 'LEXINGTON AVE.' '155 STREET' 'METROPOLITAN AVENUE'\n",
      " 'VAN WYCK BLVD.-BRIARWOOD' 'ASTORIA BLVD.' 'NEVINS STREET'\n",
      " 'CYPRESS AVENUE' 'NORTHERN BLVD.' 'SUTTER AVENUE-RUTLAND ROAD'\n",
      " 'BEACH 25 STREET' '207 STREET' 'EAST 177 ST.-PARKCHESTER'\n",
      " 'ALLERTON AVENUE' 'DELANCEY STREET' 'FLUSHING AVENUE' 'NEWKIRK AVENUE'\n",
      " 'WILSON AVENUE' 'SUTPHIN BLVD.-ARCHER AVE.' '111 STREET'\n",
      " 'KINGSTON AVENUE' 'GATES AVENUE' '191 STREET' 'MOSHOLU PKWY.'\n",
      " 'DYRE AVE.-EASTCHESTER' 'BROADWAY/NASSAU' '9 AVENUE' 'JUNCTION BLVD.'\n",
      " '45 ROAD-COURT HOUSE SQUARE' '225 ST.-MARBLE HILL' 'GREENPOINT AVENUE'\n",
      " 'W. 4 STREET' '18 STREET' 'BUSHWICK AVE.-ABERDEEN ST.' 'NECK ROAD'\n",
      " 'BEACH 44 STREET' 'BROAD CHANNEL' 'PROSPECT AVENUE'\n",
      " '90 ST.-ELMHURST AVE.' '82 ST.-JACKSON HEIGHTS' 'CLASSON AVENUE'\n",
      " 'WALL STREET' 'BOWLING GREEN' 'CHAMBERS STREET' 'HOYT STREET'\n",
      " 'BEACH 60 STREET' '238 ST.-NEREID AVE.' 'ESSEX STREET'\n",
      " '137 ST.-CITY COLLEGE' '62 STREET' '34 STREET' '20 AVENUE'\n",
      " 'BROADWAY-EASTERN PKWY' 'BEVERLEY ROAD' '4 AVENUE-9 STREET'\n",
      " '205 ST.-NORWOOD' 'PARSONS BLVD.' 'STEINWAY ST.' 'MYRTLE/WYCKOFF AVENUES'\n",
      " 'ASTOR PLACE' '121 STREET' '7TH AVENUE' 'FREEMAN STREET'\n",
      " 'FAR ROCKAWAY-MOTT AVE.' 'LEFFERTS BLVD.' 'AVENUE \"I\"'\n",
      " 'HUNTS POINT AVENUE' '175 STREET' 'BEACH 36 STREET'\n",
      " 'ROCKAWAY PKWY-CANARSIE' 'QUEENS PLAZA' '233 STREET'\n",
      " '149 ST.-GRAND CONCOURSE' 'GRANT AVENUE' 'EASTERN PKWY-BROOKLYN MUSEUM'\n",
      " 'BERGEN STREET' '225 STREET' 'ELMHURST AVE.'\n",
      " '116 ST.-COLUMBIA UNIVERSITY' 'ROOSEVELT AVE.-JACKSON HEIGHTS'\n",
      " '181 STREET' 'CARROLL STREET' 'LAFAYETTE AVENUE' '85 ST.-FOREST PKWY.'\n",
      " 'VAN SICLEN AVENUE' 'EAST TREMONT AV.-WESTCHESTER S'\n",
      " 'AQUEDUCT-NORTH CONDUIT AVE.' 'LIVONIA AVENUE' 'BROOK AVENUE'\n",
      " '102 STREET' 'NEW UTRECHT AVENUE' 'MAIN ST.-FLUSHING' '3 AVENUE'\n",
      " 'LONGWOOD AVENUE' '61 ST.-WOODSIDE' 'HOUSTON STREET' 'ALABAMA AVENUE'\n",
      " 'CORTLANDT STREET' 'BUHRE AVENUE' 'CASTLE HILL AVENUE' 'BAY 50 STREET'\n",
      " 'HIGH STREET' '163 ST.-AMSTERDAM AVE.' 'KINGSTON-THROOP AVENUES'\n",
      " 'YORK STREET' 'LAWRENCE STREET' 'COURT SQUARE' 'LIBERTY AVENUE'\n",
      " 'BURKE AVENUE' 'RALPH AVENUE' 'EAST TREMONT AVE.-WEST FARMS S'\n",
      " 'ELDER AVENUE' '169 STREET' 'MIDDLETOWN ROAD' '65 STREET' 'MARCY AVENUE'\n",
      " '25 STREET' 'BEACH 67 STREET' '219 STREET' 'JACKSON AVENUE'\n",
      " 'DISTRICT 33 OFFICE' 'DISTRICT 11 OFFICE' 'WILLETS POINT-SHEA STADIUM'\n",
      " 'AVENUE \"X\"' 'AVENUE \"J\"' 'VERNON BLVD.-JACKSON AVE.' 'JEFFERSON STREET'\n",
      " 'CLEVELAND STREET' '6 AVENUE' 'FRESH POND ROAD' 'PARK PLACE'\n",
      " 'SENECA AVENUE' 'BEACH 98 STREET' '148 ST.-HARLEM' 'SOUNDVIEW AVENUE'\n",
      " '7 AVENUE' 'CLARK STREET' 'CITY HALL' '69 STREET' 'WINTHROP STREET'\n",
      " 'MYRTLE-WILLOUGHBY AVENUES' 'ST. LAWRENCE AVENUE' '200 ST.-DYCKMAN ST.'\n",
      " 'BEDFORD-NOSTRAND AVENUES' 'CENTRAL AVENUE' 'NASSAU AVENUE'\n",
      " 'DISTRICT 2 OFFICE' 'CRESCENT STREET' '79 STREET' 'PARKSIDE AVENUE'\n",
      " 'CHAUNCEY STREET' 'BROAD STREET' '183 STREET' '190 STREET' 'AVENUE \"N\"'\n",
      " 'ROOSEVELT ISLAND' 'JUNIUS STREET' '182-183 STREETS' 'GRAND ARMY PLAZA'\n",
      " 'PRESIDENT STREET' '36 AVENUE' 'BEVERLY ROAD' 'DISTRICT 34 OFFICE'\n",
      " 'DISTRICT 12 OFFICE' '238 STREET' 'RECTOR STREET' 'WHITLOCK AVENUE'\n",
      " 'MONTROSE AVENUE' '88 STREET' '75 AVENUE' '80 STREET' 'OCEAN PKWY'\n",
      " 'AQUEDUCT-RACETRACK' 'CORTELYOU ROAD' 'AVENUE \"P\"'\n",
      " 'ROCKAWAY PARK-BEACH 116 ST.' 'SUTPHIN BLVD.' '52 STREET' 'CYPRESS HILLS'\n",
      " 'ZEREGA AVENUE' 'UNION STREET' 'FRANKLIN STREET' '215 STREET'\n",
      " 'NEPTUNE AVENUE' '40 STREET' 'DISTRICT 20 OFFICE' 'DITMAS AVENUE'\n",
      " 'BEACH 90 STREET' '9TH STREET' '63 DRIVE-REGO PARK' 'COURT STREET'\n",
      " '21 STREET' '45 STREET' 'AVENUE \"H\"' 'BEACH 105 STREET'\n",
      " 'DISTRICT 3 OFFICE' '75 ST.-ELDERTS LANE' '104 STREET' '71 STREET'\n",
      " '55 STREET' 'FOREST AVENUE' 'BOTANIC GARDEN' '30 AVENUE'\n",
      " 'KNICKERBOCKER AVENUE' '72ND STREET' '86TH STREET' '96TH STREET'\n",
      " 'DISTRICT 32 OFFICE' 'DISTRICT 30 OFFICE' 'WEST 34 STREET/HUDSON YARDS']\n",
      "\n",
      "125 STREET                        2435\n",
      "14 STREET                         1448\n",
      "42 ST.-PORT AUTHORITY BUS TERM    1228\n",
      "42 ST.-TIMES SQUARE               1134\n",
      "34 ST.-PENN STATION               1127\n",
      "                                  ... \n",
      "AQUEDUCT-RACETRACK                   5\n",
      "DISTRICT 32 OFFICE                   5\n",
      "DISTRICT 12 OFFICE                   5\n",
      "DISTRICT 20 OFFICE                   4\n",
      "DISTRICT 30 OFFICE                   4\n",
      "Name: station_name, Length: 370, dtype: int64\n"
     ]
    }
   ],
   "source": [
    "# station_name\n",
    "print(ny_df['station_name'].unique())\n",
    "print()\n",
    "print(ny_df['station_name'].value_counts())"
   ]
  },
  {
   "cell_type": "markdown",
   "metadata": {},
   "source": [
    "## 2.3 Data Cleaning"
   ]
  },
  {
   "cell_type": "markdown",
   "metadata": {},
   "source": [
    "### 2.3.1 Remove rows with null values"
   ]
  },
  {
   "cell_type": "code",
   "execution_count": 22,
   "metadata": {},
   "outputs": [
    {
     "data": {
      "text/plain": [
       "cmplnt_num                 0\n",
       "cmplnt_fr_dt               0\n",
       "cmplnt_fr_tm               0\n",
       "ofns_desc                 97\n",
       "crm_atpt_cptd_cd           0\n",
       "law_cat_cd                 0\n",
       "boro_nm                 1688\n",
       "loc_of_occur_desc     419181\n",
       "prem_typ_desc           8595\n",
       "susp_age_group        575311\n",
       "susp_race             575311\n",
       "susp_sex              575311\n",
       "latitude                 112\n",
       "longitude                112\n",
       "vic_age_group              5\n",
       "vic_race                   5\n",
       "vic_sex                    5\n",
       "station_name         2215252\n",
       "parks_nm             2250543\n",
       "dtype: int64"
      ]
     },
     "execution_count": 22,
     "metadata": {},
     "output_type": "execute_result"
    }
   ],
   "source": [
    "ny_df.isnull().sum()"
   ]
  },
  {
   "cell_type": "markdown",
   "metadata": {},
   "source": [
    "- Data without offense description will be removed.\n",
    "- Data without location will be removed"
   ]
  },
  {
   "cell_type": "code",
   "execution_count": 23,
   "metadata": {},
   "outputs": [],
   "source": [
    "subset_row_removal = [\"ofns_desc\", \"latitude\",\"longitude\",\"boro_nm\",\"prem_typ_desc\", \"vic_age_group\"]\n",
    "ny_df = ny_df.dropna(subset = subset_row_removal)"
   ]
  },
  {
   "cell_type": "code",
   "execution_count": 24,
   "metadata": {},
   "outputs": [
    {
     "data": {
      "text/plain": [
       "cmplnt_num                 0\n",
       "cmplnt_fr_dt               0\n",
       "cmplnt_fr_tm               0\n",
       "ofns_desc                  0\n",
       "crm_atpt_cptd_cd           0\n",
       "law_cat_cd                 0\n",
       "boro_nm                    0\n",
       "loc_of_occur_desc     418703\n",
       "prem_typ_desc              0\n",
       "susp_age_group        572539\n",
       "susp_race             572539\n",
       "susp_sex              572539\n",
       "latitude                   0\n",
       "longitude                  0\n",
       "vic_age_group              0\n",
       "vic_race                   0\n",
       "vic_sex                    0\n",
       "station_name         2206439\n",
       "parks_nm             2241718\n",
       "dtype: int64"
      ]
     },
     "execution_count": 24,
     "metadata": {},
     "output_type": "execute_result"
    }
   ],
   "source": [
    "ny_df.isnull().sum()"
   ]
  },
  {
   "cell_type": "markdown",
   "metadata": {},
   "source": [
    "### 2.3.2 Data imputation for missing values\n",
    "- Place \"NA\" for for park and station name without values"
   ]
  },
  {
   "cell_type": "code",
   "execution_count": 25,
   "metadata": {},
   "outputs": [],
   "source": [
    "# Place 'NA' for park and station name attributes\n",
    "ny_df['parks_nm'].fillna('NA', inplace=True)\n",
    "ny_df['station_name'].fillna('NA', inplace=True)"
   ]
  },
  {
   "cell_type": "markdown",
   "metadata": {},
   "source": [
    "- Place 'NA' where there are blanks in 'loc_of_occur_desc'"
   ]
  },
  {
   "cell_type": "code",
   "execution_count": 26,
   "metadata": {},
   "outputs": [],
   "source": [
    "# Place 'NA' where there are blanks\n",
    "ny_df['loc_of_occur_desc'].fillna('NA', inplace=True)"
   ]
  },
  {
   "cell_type": "markdown",
   "metadata": {},
   "source": [
    "- Since there are already 'UNKNOWN' category, place 'UNKNOWN' where there are blanks in 'susp_age_group', 'susp_race', and 'susp_sex'. "
   ]
  },
  {
   "cell_type": "code",
   "execution_count": 27,
   "metadata": {},
   "outputs": [],
   "source": [
    "# Place 'blank' where there are blanks\n",
    "ny_df['susp_age_group'].fillna('UNKNOWN', inplace=True)\n",
    "ny_df['susp_race'].fillna('UNKNOWN', inplace=True)\n",
    "ny_df['susp_sex'].fillna('UNKNOWN', inplace=True)"
   ]
  },
  {
   "cell_type": "code",
   "execution_count": 28,
   "metadata": {},
   "outputs": [
    {
     "data": {
      "text/plain": [
       "cmplnt_num           0\n",
       "cmplnt_fr_dt         0\n",
       "cmplnt_fr_tm         0\n",
       "ofns_desc            0\n",
       "crm_atpt_cptd_cd     0\n",
       "law_cat_cd           0\n",
       "boro_nm              0\n",
       "loc_of_occur_desc    0\n",
       "prem_typ_desc        0\n",
       "susp_age_group       0\n",
       "susp_race            0\n",
       "susp_sex             0\n",
       "latitude             0\n",
       "longitude            0\n",
       "vic_age_group        0\n",
       "vic_race             0\n",
       "vic_sex              0\n",
       "station_name         0\n",
       "parks_nm             0\n",
       "dtype: int64"
      ]
     },
     "execution_count": 28,
     "metadata": {},
     "output_type": "execute_result"
    }
   ],
   "source": [
    "ny_df.isnull().sum()"
   ]
  },
  {
   "cell_type": "markdown",
   "metadata": {},
   "source": [
    "- There is no more null values in the dataset."
   ]
  },
  {
   "cell_type": "markdown",
   "metadata": {},
   "source": [
    "#### 2.3.3 Replace dirty data in 'susp_age_group'"
   ]
  },
  {
   "cell_type": "code",
   "execution_count": 29,
   "metadata": {},
   "outputs": [
    {
     "name": "stdout",
     "output_type": "stream",
     "text": [
      "['45-64' 'UNKNOWN' '25-44' '<18' '65+' '18-24' '926' '2016' '-974' '1016'\n",
      " '-54' '-979' '327' '-83' '-975' '-67' '923' '931' '-969' '1932' '-2'\n",
      " '-965' '1053' '935' '2017' '934' '-72' '1017' '940' '-971' '942' '927'\n",
      " '-960' '1933' '-972' '945' '-968' '-42' '944' '-953' '949' '-981' '954'\n",
      " '1967' '1018' '938' '2018' '928' '920' '952' '-63' '-978' '-939' '1012'\n",
      " '922' '924' '948' '955' '-80' '-941' '929' '-1' '1019' '2019' '-973'\n",
      " '947' '-966' '-64' '930' '-964' '-928' '-942' '-71' '2020' '1925' '-12'\n",
      " '1020' '-962' '-977']\n"
     ]
    }
   ],
   "source": [
    "# 'susp_age_group'\n",
    "print(ny_df['susp_age_group'].unique())"
   ]
  },
  {
   "cell_type": "markdown",
   "metadata": {},
   "source": [
    "- There are many dirty values to process."
   ]
  },
  {
   "cell_type": "code",
   "execution_count": 30,
   "metadata": {},
   "outputs": [
    {
     "data": {
      "text/plain": [
       "UNKNOWN    1207071\n",
       "25-44       563150\n",
       "18-24       206654\n",
       "45-64       205483\n",
       "<18          60872\n",
       "65+          18124\n",
       "2018            10\n",
       "2020            10\n",
       "2019            10\n",
       "2016             8\n",
       "2017             8\n",
       "1018             3\n",
       "-965             3\n",
       "-2               3\n",
       "1017             3\n",
       "-968             3\n",
       "940              2\n",
       "929              2\n",
       "928              2\n",
       "-1               2\n",
       "Name: susp_age_group, dtype: int64"
      ]
     },
     "execution_count": 30,
     "metadata": {},
     "output_type": "execute_result"
    }
   ],
   "source": [
    "ny_df['susp_age_group'].value_counts()[:20]"
   ]
  },
  {
   "cell_type": "markdown",
   "metadata": {},
   "source": [
    "- Number of dirty values are not many. \n",
    "- So we have option to remove the dirty values or impute values with 'UNKNOWN' since it is already in the category."
   ]
  },
  {
   "cell_type": "code",
   "execution_count": 31,
   "metadata": {},
   "outputs": [
    {
     "name": "stdout",
     "output_type": "stream",
     "text": [
      "['45-64', 'UNKNOWN', '25-44', '<18', '65+', '18-24', '926', '2016', '-974', '1016', '-54', '-979', '327', '-83', '-975', '-67', '923', '931', '-969', '1932', '-2', '-965', '1053', '935', '2017', '934', '-72', '1017', '940', '-971', '942', '927', '-960', '1933', '-972', '945', '-968', '-42', '944', '-953', '949', '-981', '954', '1967', '1018', '938', '2018', '928', '920', '952', '-63', '-978', '-939', '1012', '922', '924', '948', '955', '-80', '-941', '929', '-1', '1019', '2019', '-973', '947', '-966', '-64', '930', '-964', '-928', '-942', '-71', '2020', '1925', '-12', '1020', '-962', '-977']\n"
     ]
    }
   ],
   "source": [
    "age_list = list(ny_df['susp_age_group'].unique())\n",
    "print(age_list)"
   ]
  },
  {
   "cell_type": "code",
   "execution_count": 32,
   "metadata": {},
   "outputs": [
    {
     "data": {
      "text/plain": [
       "['45-64', 'UNKNOWN', '25-44', '<18', '65+', '18-24']"
      ]
     },
     "execution_count": 32,
     "metadata": {},
     "output_type": "execute_result"
    }
   ],
   "source": [
    "age_list_good = age_list[0:6]\n",
    "age_list_good"
   ]
  },
  {
   "cell_type": "code",
   "execution_count": 33,
   "metadata": {},
   "outputs": [
    {
     "name": "stdout",
     "output_type": "stream",
     "text": [
      "['926', '2016', '-974', '1016', '-54', '-979', '327', '-83', '-975', '-67', '923', '931', '-969', '1932', '-2', '-965', '1053', '935', '2017', '934', '-72', '1017', '940', '-971', '942', '927', '-960', '1933', '-972', '945', '-968', '-42', '944', '-953', '949', '-981', '954', '1967', '1018', '938', '2018', '928', '920', '952', '-63', '-978', '-939', '1012', '922', '924', '948', '955', '-80', '-941', '929', '-1', '1019', '2019', '-973', '947', '-966', '-64', '930', '-964', '-928', '-942', '-71', '2020', '1925', '-12', '1020', '-962', '-977']\n"
     ]
    }
   ],
   "source": [
    "age_list_bad = age_list[6:]\n",
    "print(age_list_bad)"
   ]
  },
  {
   "cell_type": "markdown",
   "metadata": {},
   "source": [
    "- Merge bad catagories to \"UNKNOWN\". (This data may be removed if we whish.)"
   ]
  },
  {
   "cell_type": "code",
   "execution_count": 34,
   "metadata": {},
   "outputs": [],
   "source": [
    "ny_df['susp_age_group'].replace(age_list_bad,\"UNKNOWN\", inplace=True)"
   ]
  },
  {
   "cell_type": "code",
   "execution_count": 35,
   "metadata": {},
   "outputs": [
    {
     "data": {
      "text/plain": [
       "UNKNOWN    1207208\n",
       "25-44       563150\n",
       "18-24       206654\n",
       "45-64       205483\n",
       "<18          60872\n",
       "65+          18124\n",
       "Name: susp_age_group, dtype: int64"
      ]
     },
     "execution_count": 35,
     "metadata": {},
     "output_type": "execute_result"
    }
   ],
   "source": [
    "ny_df['susp_age_group'].value_counts()"
   ]
  },
  {
   "cell_type": "markdown",
   "metadata": {},
   "source": [
    "#### 2.3.4 Replace dirty data in 'vic_age_group'"
   ]
  },
  {
   "cell_type": "code",
   "execution_count": 36,
   "metadata": {},
   "outputs": [
    {
     "name": "stdout",
     "output_type": "stream",
     "text": [
      "['<18', '25-44', 'UNKNOWN', '18-24', '45-64', '65+', '928', '1014', '-972', '-40', '929', '-65', '922', '-32', '-61', '950', '-37', '-970', '977', '-52', '-975', '-931', '-981', '-63', '-70', '-1', '-973', '936', '-72', '-2', '945', '955', '-45', '-49', '-934', '-60', '-945', '-48', '-73', '-962', '-964', '-980', '-938', '-959', '940', '-937', '972', '-966', '-978', '956', '-36', '-942', '-55', '947', '-81', '-53', '1012', '946', '-3', '938', '-936', '-950', '-974', '951', '-43', '-958', '970', '-5', '-956', '-51', '-968', '-76', '-940', '954', '-955', '-948', '948', '957', '965', '953', '1017', '-4', '-67', '-59', '-952', '-56', '927', '960', '-946', '-69', '937', '-967', '1013', '-39', '941', '-50', '-943', '-954', '-71', '-961', '1018', '943', '-963', '-31', '1016', '932', '-965', '949']\n"
     ]
    }
   ],
   "source": [
    "age_list = list(ny_df['vic_age_group'].unique())\n",
    "print(age_list)"
   ]
  },
  {
   "cell_type": "code",
   "execution_count": 37,
   "metadata": {},
   "outputs": [
    {
     "name": "stdout",
     "output_type": "stream",
     "text": [
      "['928', '1014', '-972', '-40', '929', '-65', '922', '-32', '-61', '950', '-37', '-970', '977', '-52', '-975', '-931', '-981', '-63', '-70', '-1', '-973', '936', '-72', '-2', '945', '955', '-45', '-49', '-934', '-60', '-945', '-48', '-73', '-962', '-964', '-980', '-938', '-959', '940', '-937', '972', '-966', '-978', '956', '-36', '-942', '-55', '947', '-81', '-53', '1012', '946', '-3', '938', '-936', '-950', '-974', '951', '-43', '-958', '970', '-5', '-956', '-51', '-968', '-76', '-940', '954', '-955', '-948', '948', '957', '965', '953', '1017', '-4', '-67', '-59', '-952', '-56', '927', '960', '-946', '-69', '937', '-967', '1013', '-39', '941', '-50', '-943', '-954', '-71', '-961', '1018', '943', '-963', '-31', '1016', '932', '-965', '949']\n"
     ]
    }
   ],
   "source": [
    "age_list_bad = age_list[6:]\n",
    "print(age_list_bad)"
   ]
  },
  {
   "cell_type": "markdown",
   "metadata": {},
   "source": [
    "- Merge bad catagories to \"UNKNOWN\". (This data may be removed if we whish.)"
   ]
  },
  {
   "cell_type": "code",
   "execution_count": 38,
   "metadata": {},
   "outputs": [],
   "source": [
    "ny_df['vic_age_group'].replace(age_list_bad,\"UNKNOWN\", inplace=True)"
   ]
  },
  {
   "cell_type": "code",
   "execution_count": 39,
   "metadata": {},
   "outputs": [
    {
     "data": {
      "text/plain": [
       "25-44      794757\n",
       "UNKNOWN    636983\n",
       "45-64      425914\n",
       "18-24      216847\n",
       "65+         95223\n",
       "<18         91767\n",
       "Name: vic_age_group, dtype: int64"
      ]
     },
     "execution_count": 39,
     "metadata": {},
     "output_type": "execute_result"
    }
   ],
   "source": [
    "# 'vic_age_group'\n",
    "ny_df['vic_age_group'].value_counts()"
   ]
  },
  {
   "cell_type": "markdown",
   "metadata": {},
   "source": [
    "- Data is cleaned."
   ]
  },
  {
   "cell_type": "code",
   "execution_count": 40,
   "metadata": {},
   "outputs": [
    {
     "data": {
      "text/html": [
       "<div>\n",
       "<style scoped>\n",
       "    .dataframe tbody tr th:only-of-type {\n",
       "        vertical-align: middle;\n",
       "    }\n",
       "\n",
       "    .dataframe tbody tr th {\n",
       "        vertical-align: top;\n",
       "    }\n",
       "\n",
       "    .dataframe thead th {\n",
       "        text-align: right;\n",
       "    }\n",
       "</style>\n",
       "<table border=\"1\" class=\"dataframe\">\n",
       "  <thead>\n",
       "    <tr style=\"text-align: right;\">\n",
       "      <th></th>\n",
       "      <th>cmplnt_num</th>\n",
       "      <th>latitude</th>\n",
       "      <th>longitude</th>\n",
       "    </tr>\n",
       "  </thead>\n",
       "  <tbody>\n",
       "    <tr>\n",
       "      <th>count</th>\n",
       "      <td>2.261491e+06</td>\n",
       "      <td>2.261491e+06</td>\n",
       "      <td>2.261491e+06</td>\n",
       "    </tr>\n",
       "    <tr>\n",
       "      <th>mean</th>\n",
       "      <td>5.498912e+08</td>\n",
       "      <td>4.073646e+01</td>\n",
       "      <td>-7.392470e+01</td>\n",
       "    </tr>\n",
       "    <tr>\n",
       "      <th>std</th>\n",
       "      <td>2.598544e+08</td>\n",
       "      <td>8.327189e-02</td>\n",
       "      <td>7.685207e-02</td>\n",
       "    </tr>\n",
       "    <tr>\n",
       "      <th>min</th>\n",
       "      <td>1.000001e+08</td>\n",
       "      <td>4.049891e+01</td>\n",
       "      <td>-7.425494e+01</td>\n",
       "    </tr>\n",
       "    <tr>\n",
       "      <th>25%</th>\n",
       "      <td>3.245738e+08</td>\n",
       "      <td>4.067395e+01</td>\n",
       "      <td>-7.397220e+01</td>\n",
       "    </tr>\n",
       "    <tr>\n",
       "      <th>50%</th>\n",
       "      <td>5.500068e+08</td>\n",
       "      <td>4.073418e+01</td>\n",
       "      <td>-7.392688e+01</td>\n",
       "    </tr>\n",
       "    <tr>\n",
       "      <th>75%</th>\n",
       "      <td>7.750015e+08</td>\n",
       "      <td>4.081270e+01</td>\n",
       "      <td>-7.388241e+01</td>\n",
       "    </tr>\n",
       "    <tr>\n",
       "      <th>max</th>\n",
       "      <td>9.999989e+08</td>\n",
       "      <td>4.091272e+01</td>\n",
       "      <td>-7.370057e+01</td>\n",
       "    </tr>\n",
       "  </tbody>\n",
       "</table>\n",
       "</div>"
      ],
      "text/plain": [
       "         cmplnt_num      latitude     longitude\n",
       "count  2.261491e+06  2.261491e+06  2.261491e+06\n",
       "mean   5.498912e+08  4.073646e+01 -7.392470e+01\n",
       "std    2.598544e+08  8.327189e-02  7.685207e-02\n",
       "min    1.000001e+08  4.049891e+01 -7.425494e+01\n",
       "25%    3.245738e+08  4.067395e+01 -7.397220e+01\n",
       "50%    5.500068e+08  4.073418e+01 -7.392688e+01\n",
       "75%    7.750015e+08  4.081270e+01 -7.388241e+01\n",
       "max    9.999989e+08  4.091272e+01 -7.370057e+01"
      ]
     },
     "execution_count": 40,
     "metadata": {},
     "output_type": "execute_result"
    }
   ],
   "source": [
    "ny_df.describe()"
   ]
  },
  {
   "cell_type": "code",
   "execution_count": 41,
   "metadata": {},
   "outputs": [
    {
     "data": {
      "text/html": [
       "<div>\n",
       "<style scoped>\n",
       "    .dataframe tbody tr th:only-of-type {\n",
       "        vertical-align: middle;\n",
       "    }\n",
       "\n",
       "    .dataframe tbody tr th {\n",
       "        vertical-align: top;\n",
       "    }\n",
       "\n",
       "    .dataframe thead th {\n",
       "        text-align: right;\n",
       "    }\n",
       "</style>\n",
       "<table border=\"1\" class=\"dataframe\">\n",
       "  <thead>\n",
       "    <tr style=\"text-align: right;\">\n",
       "      <th></th>\n",
       "      <th>cmplnt_fr_dt</th>\n",
       "      <th>cmplnt_fr_tm</th>\n",
       "      <th>ofns_desc</th>\n",
       "      <th>crm_atpt_cptd_cd</th>\n",
       "      <th>law_cat_cd</th>\n",
       "      <th>boro_nm</th>\n",
       "      <th>loc_of_occur_desc</th>\n",
       "      <th>prem_typ_desc</th>\n",
       "      <th>susp_age_group</th>\n",
       "      <th>susp_race</th>\n",
       "      <th>susp_sex</th>\n",
       "      <th>vic_age_group</th>\n",
       "      <th>vic_race</th>\n",
       "      <th>vic_sex</th>\n",
       "      <th>station_name</th>\n",
       "      <th>parks_nm</th>\n",
       "    </tr>\n",
       "  </thead>\n",
       "  <tbody>\n",
       "    <tr>\n",
       "      <th>count</th>\n",
       "      <td>2261491</td>\n",
       "      <td>2261491</td>\n",
       "      <td>2261491</td>\n",
       "      <td>2261491</td>\n",
       "      <td>2261491</td>\n",
       "      <td>2261491</td>\n",
       "      <td>2261491</td>\n",
       "      <td>2261491</td>\n",
       "      <td>2261491</td>\n",
       "      <td>2261491</td>\n",
       "      <td>2261491</td>\n",
       "      <td>2261491</td>\n",
       "      <td>2261491</td>\n",
       "      <td>2261491</td>\n",
       "      <td>2261491</td>\n",
       "      <td>2261491</td>\n",
       "    </tr>\n",
       "    <tr>\n",
       "      <th>unique</th>\n",
       "      <td>1827</td>\n",
       "      <td>1440</td>\n",
       "      <td>67</td>\n",
       "      <td>2</td>\n",
       "      <td>3</td>\n",
       "      <td>5</td>\n",
       "      <td>5</td>\n",
       "      <td>74</td>\n",
       "      <td>6</td>\n",
       "      <td>7</td>\n",
       "      <td>4</td>\n",
       "      <td>6</td>\n",
       "      <td>7</td>\n",
       "      <td>4</td>\n",
       "      <td>371</td>\n",
       "      <td>1107</td>\n",
       "    </tr>\n",
       "    <tr>\n",
       "      <th>top</th>\n",
       "      <td>2016-01-01T00:00:00.000</td>\n",
       "      <td>12:00:00</td>\n",
       "      <td>PETIT LARCENY</td>\n",
       "      <td>COMPLETED</td>\n",
       "      <td>MISDEMEANOR</td>\n",
       "      <td>BROOKLYN</td>\n",
       "      <td>INSIDE</td>\n",
       "      <td>STREET</td>\n",
       "      <td>UNKNOWN</td>\n",
       "      <td>UNKNOWN</td>\n",
       "      <td>M</td>\n",
       "      <td>25-44</td>\n",
       "      <td>UNKNOWN</td>\n",
       "      <td>F</td>\n",
       "      <td>NA</td>\n",
       "      <td>NA</td>\n",
       "    </tr>\n",
       "    <tr>\n",
       "      <th>freq</th>\n",
       "      <td>2342</td>\n",
       "      <td>58655</td>\n",
       "      <td>419246</td>\n",
       "      <td>2223679</td>\n",
       "      <td>1219278</td>\n",
       "      <td>660700</td>\n",
       "      <td>1205273</td>\n",
       "      <td>657794</td>\n",
       "      <td>1207208</td>\n",
       "      <td>995232</td>\n",
       "      <td>1029583</td>\n",
       "      <td>794757</td>\n",
       "      <td>682019</td>\n",
       "      <td>893699</td>\n",
       "      <td>2206439</td>\n",
       "      <td>2241718</td>\n",
       "    </tr>\n",
       "  </tbody>\n",
       "</table>\n",
       "</div>"
      ],
      "text/plain": [
       "                   cmplnt_fr_dt cmplnt_fr_tm      ofns_desc crm_atpt_cptd_cd  \\\n",
       "count                   2261491      2261491        2261491          2261491   \n",
       "unique                     1827         1440             67                2   \n",
       "top     2016-01-01T00:00:00.000     12:00:00  PETIT LARCENY        COMPLETED   \n",
       "freq                       2342        58655         419246          2223679   \n",
       "\n",
       "         law_cat_cd   boro_nm loc_of_occur_desc prem_typ_desc susp_age_group  \\\n",
       "count       2261491   2261491           2261491       2261491        2261491   \n",
       "unique            3         5                 5            74              6   \n",
       "top     MISDEMEANOR  BROOKLYN            INSIDE        STREET        UNKNOWN   \n",
       "freq        1219278    660700           1205273        657794        1207208   \n",
       "\n",
       "       susp_race susp_sex vic_age_group vic_race  vic_sex station_name  \\\n",
       "count    2261491  2261491       2261491  2261491  2261491      2261491   \n",
       "unique         7        4             6        7        4          371   \n",
       "top      UNKNOWN        M         25-44  UNKNOWN        F           NA   \n",
       "freq      995232  1029583        794757   682019   893699      2206439   \n",
       "\n",
       "       parks_nm  \n",
       "count   2261491  \n",
       "unique     1107  \n",
       "top          NA  \n",
       "freq    2241718  "
      ]
     },
     "execution_count": 41,
     "metadata": {},
     "output_type": "execute_result"
    }
   ],
   "source": [
    "ny_df.describe(include=['object'])"
   ]
  },
  {
   "cell_type": "code",
   "execution_count": 42,
   "metadata": {},
   "outputs": [
    {
     "data": {
      "text/html": [
       "<div>\n",
       "<style scoped>\n",
       "    .dataframe tbody tr th:only-of-type {\n",
       "        vertical-align: middle;\n",
       "    }\n",
       "\n",
       "    .dataframe tbody tr th {\n",
       "        vertical-align: top;\n",
       "    }\n",
       "\n",
       "    .dataframe thead th {\n",
       "        text-align: right;\n",
       "    }\n",
       "</style>\n",
       "<table border=\"1\" class=\"dataframe\">\n",
       "  <thead>\n",
       "    <tr style=\"text-align: right;\">\n",
       "      <th></th>\n",
       "      <th>cmplnt_num</th>\n",
       "      <th>cmplnt_fr_dt</th>\n",
       "      <th>cmplnt_fr_tm</th>\n",
       "      <th>ofns_desc</th>\n",
       "      <th>crm_atpt_cptd_cd</th>\n",
       "      <th>law_cat_cd</th>\n",
       "      <th>boro_nm</th>\n",
       "      <th>loc_of_occur_desc</th>\n",
       "      <th>prem_typ_desc</th>\n",
       "      <th>susp_age_group</th>\n",
       "      <th>susp_race</th>\n",
       "      <th>susp_sex</th>\n",
       "      <th>latitude</th>\n",
       "      <th>longitude</th>\n",
       "      <th>vic_age_group</th>\n",
       "      <th>vic_race</th>\n",
       "      <th>vic_sex</th>\n",
       "      <th>station_name</th>\n",
       "      <th>parks_nm</th>\n",
       "    </tr>\n",
       "  </thead>\n",
       "  <tbody>\n",
       "    <tr>\n",
       "      <th>0</th>\n",
       "      <td>932184137</td>\n",
       "      <td>2016-01-01T00:00:00.000</td>\n",
       "      <td>00:00:00</td>\n",
       "      <td>SEX CRIMES</td>\n",
       "      <td>COMPLETED</td>\n",
       "      <td>FELONY</td>\n",
       "      <td>MANHATTAN</td>\n",
       "      <td>INSIDE</td>\n",
       "      <td>RESIDENCE - APT. HOUSE</td>\n",
       "      <td>45-64</td>\n",
       "      <td>WHITE HISPANIC</td>\n",
       "      <td>M</td>\n",
       "      <td>40.851488</td>\n",
       "      <td>-73.935458</td>\n",
       "      <td>&lt;18</td>\n",
       "      <td>BLACK HISPANIC</td>\n",
       "      <td>F</td>\n",
       "      <td>NA</td>\n",
       "      <td>NA</td>\n",
       "    </tr>\n",
       "    <tr>\n",
       "      <th>1</th>\n",
       "      <td>524734897</td>\n",
       "      <td>2016-01-01T00:00:00.000</td>\n",
       "      <td>00:20:00</td>\n",
       "      <td>THEFT-FRAUD</td>\n",
       "      <td>COMPLETED</td>\n",
       "      <td>FELONY</td>\n",
       "      <td>BROOKLYN</td>\n",
       "      <td>INSIDE</td>\n",
       "      <td>RESIDENCE - APT. HOUSE</td>\n",
       "      <td>UNKNOWN</td>\n",
       "      <td>UNKNOWN</td>\n",
       "      <td>UNKNOWN</td>\n",
       "      <td>40.645922</td>\n",
       "      <td>-73.950965</td>\n",
       "      <td>25-44</td>\n",
       "      <td>BLACK</td>\n",
       "      <td>F</td>\n",
       "      <td>NA</td>\n",
       "      <td>NA</td>\n",
       "    </tr>\n",
       "    <tr>\n",
       "      <th>2</th>\n",
       "      <td>425311840</td>\n",
       "      <td>2016-01-01T00:00:00.000</td>\n",
       "      <td>00:00:00</td>\n",
       "      <td>MISCELLANEOUS PENAL LAW</td>\n",
       "      <td>COMPLETED</td>\n",
       "      <td>FELONY</td>\n",
       "      <td>STATEN ISLAND</td>\n",
       "      <td>INSIDE</td>\n",
       "      <td>RESIDENCE - APT. HOUSE</td>\n",
       "      <td>25-44</td>\n",
       "      <td>WHITE HISPANIC</td>\n",
       "      <td>M</td>\n",
       "      <td>40.644726</td>\n",
       "      <td>-74.077483</td>\n",
       "      <td>UNKNOWN</td>\n",
       "      <td>UNKNOWN</td>\n",
       "      <td>E</td>\n",
       "      <td>NA</td>\n",
       "      <td>NA</td>\n",
       "    </tr>\n",
       "    <tr>\n",
       "      <th>3</th>\n",
       "      <td>211927249</td>\n",
       "      <td>2016-01-01T00:00:00.000</td>\n",
       "      <td>19:00:00</td>\n",
       "      <td>SEX CRIMES</td>\n",
       "      <td>COMPLETED</td>\n",
       "      <td>MISDEMEANOR</td>\n",
       "      <td>BRONX</td>\n",
       "      <td>INSIDE</td>\n",
       "      <td>RESIDENCE - APT. HOUSE</td>\n",
       "      <td>UNKNOWN</td>\n",
       "      <td>UNKNOWN</td>\n",
       "      <td>UNKNOWN</td>\n",
       "      <td>40.853960</td>\n",
       "      <td>-73.900121</td>\n",
       "      <td>&lt;18</td>\n",
       "      <td>BLACK HISPANIC</td>\n",
       "      <td>F</td>\n",
       "      <td>NA</td>\n",
       "      <td>NA</td>\n",
       "    </tr>\n",
       "    <tr>\n",
       "      <th>4</th>\n",
       "      <td>934187944</td>\n",
       "      <td>2016-01-01T00:00:00.000</td>\n",
       "      <td>12:00:00</td>\n",
       "      <td>SEX CRIMES</td>\n",
       "      <td>COMPLETED</td>\n",
       "      <td>MISDEMEANOR</td>\n",
       "      <td>QUEENS</td>\n",
       "      <td>INSIDE</td>\n",
       "      <td>RESIDENCE-HOUSE</td>\n",
       "      <td>UNKNOWN</td>\n",
       "      <td>UNKNOWN</td>\n",
       "      <td>U</td>\n",
       "      <td>40.722364</td>\n",
       "      <td>-73.851474</td>\n",
       "      <td>&lt;18</td>\n",
       "      <td>WHITE HISPANIC</td>\n",
       "      <td>F</td>\n",
       "      <td>NA</td>\n",
       "      <td>NA</td>\n",
       "    </tr>\n",
       "    <tr>\n",
       "      <th>...</th>\n",
       "      <td>...</td>\n",
       "      <td>...</td>\n",
       "      <td>...</td>\n",
       "      <td>...</td>\n",
       "      <td>...</td>\n",
       "      <td>...</td>\n",
       "      <td>...</td>\n",
       "      <td>...</td>\n",
       "      <td>...</td>\n",
       "      <td>...</td>\n",
       "      <td>...</td>\n",
       "      <td>...</td>\n",
       "      <td>...</td>\n",
       "      <td>...</td>\n",
       "      <td>...</td>\n",
       "      <td>...</td>\n",
       "      <td>...</td>\n",
       "      <td>...</td>\n",
       "      <td>...</td>\n",
       "    </tr>\n",
       "    <tr>\n",
       "      <th>2270332</th>\n",
       "      <td>165691435</td>\n",
       "      <td>2020-12-31T00:00:00.000</td>\n",
       "      <td>20:40:00</td>\n",
       "      <td>DANGEROUS WEAPONS</td>\n",
       "      <td>COMPLETED</td>\n",
       "      <td>FELONY</td>\n",
       "      <td>BROOKLYN</td>\n",
       "      <td>NA</td>\n",
       "      <td>STREET</td>\n",
       "      <td>UNKNOWN</td>\n",
       "      <td>UNKNOWN</td>\n",
       "      <td>UNKNOWN</td>\n",
       "      <td>40.679739</td>\n",
       "      <td>-73.937398</td>\n",
       "      <td>UNKNOWN</td>\n",
       "      <td>UNKNOWN</td>\n",
       "      <td>E</td>\n",
       "      <td>NA</td>\n",
       "      <td>NA</td>\n",
       "    </tr>\n",
       "    <tr>\n",
       "      <th>2270333</th>\n",
       "      <td>408014308</td>\n",
       "      <td>2020-12-31T00:00:00.000</td>\n",
       "      <td>15:00:00</td>\n",
       "      <td>PETIT LARCENY</td>\n",
       "      <td>COMPLETED</td>\n",
       "      <td>MISDEMEANOR</td>\n",
       "      <td>MANHATTAN</td>\n",
       "      <td>FRONT OF</td>\n",
       "      <td>RESIDENCE - PUBLIC HOUSING</td>\n",
       "      <td>UNKNOWN</td>\n",
       "      <td>UNKNOWN</td>\n",
       "      <td>U</td>\n",
       "      <td>40.723803</td>\n",
       "      <td>-73.979069</td>\n",
       "      <td>45-64</td>\n",
       "      <td>WHITE HISPANIC</td>\n",
       "      <td>M</td>\n",
       "      <td>NA</td>\n",
       "      <td>NA</td>\n",
       "    </tr>\n",
       "    <tr>\n",
       "      <th>2270334</th>\n",
       "      <td>152189917</td>\n",
       "      <td>2020-12-31T00:00:00.000</td>\n",
       "      <td>21:30:00</td>\n",
       "      <td>GRAND LARCENY</td>\n",
       "      <td>COMPLETED</td>\n",
       "      <td>FELONY</td>\n",
       "      <td>MANHATTAN</td>\n",
       "      <td>INSIDE</td>\n",
       "      <td>HOTEL/MOTEL</td>\n",
       "      <td>UNKNOWN</td>\n",
       "      <td>UNKNOWN</td>\n",
       "      <td>UNKNOWN</td>\n",
       "      <td>40.782077</td>\n",
       "      <td>-73.980835</td>\n",
       "      <td>25-44</td>\n",
       "      <td>WHITE HISPANIC</td>\n",
       "      <td>F</td>\n",
       "      <td>NA</td>\n",
       "      <td>NA</td>\n",
       "    </tr>\n",
       "    <tr>\n",
       "      <th>2270335</th>\n",
       "      <td>819066061</td>\n",
       "      <td>2020-12-31T00:00:00.000</td>\n",
       "      <td>20:22:00</td>\n",
       "      <td>DANGEROUS WEAPONS</td>\n",
       "      <td>COMPLETED</td>\n",
       "      <td>FELONY</td>\n",
       "      <td>BROOKLYN</td>\n",
       "      <td>NA</td>\n",
       "      <td>STREET</td>\n",
       "      <td>UNKNOWN</td>\n",
       "      <td>UNKNOWN</td>\n",
       "      <td>UNKNOWN</td>\n",
       "      <td>40.669345</td>\n",
       "      <td>-73.873801</td>\n",
       "      <td>UNKNOWN</td>\n",
       "      <td>UNKNOWN</td>\n",
       "      <td>E</td>\n",
       "      <td>NA</td>\n",
       "      <td>NA</td>\n",
       "    </tr>\n",
       "    <tr>\n",
       "      <th>2270336</th>\n",
       "      <td>675684827</td>\n",
       "      <td>2020-12-31T00:00:00.000</td>\n",
       "      <td>00:42:00</td>\n",
       "      <td>ROBBERY</td>\n",
       "      <td>COMPLETED</td>\n",
       "      <td>FELONY</td>\n",
       "      <td>BRONX</td>\n",
       "      <td>INSIDE</td>\n",
       "      <td>BEAUTY &amp; NAIL SALON</td>\n",
       "      <td>UNKNOWN</td>\n",
       "      <td>UNKNOWN</td>\n",
       "      <td>M</td>\n",
       "      <td>40.837978</td>\n",
       "      <td>-73.907149</td>\n",
       "      <td>25-44</td>\n",
       "      <td>WHITE HISPANIC</td>\n",
       "      <td>M</td>\n",
       "      <td>NA</td>\n",
       "      <td>NA</td>\n",
       "    </tr>\n",
       "  </tbody>\n",
       "</table>\n",
       "<p>2261491 rows × 19 columns</p>\n",
       "</div>"
      ],
      "text/plain": [
       "         cmplnt_num             cmplnt_fr_dt cmplnt_fr_tm  \\\n",
       "0         932184137  2016-01-01T00:00:00.000     00:00:00   \n",
       "1         524734897  2016-01-01T00:00:00.000     00:20:00   \n",
       "2         425311840  2016-01-01T00:00:00.000     00:00:00   \n",
       "3         211927249  2016-01-01T00:00:00.000     19:00:00   \n",
       "4         934187944  2016-01-01T00:00:00.000     12:00:00   \n",
       "...             ...                      ...          ...   \n",
       "2270332   165691435  2020-12-31T00:00:00.000     20:40:00   \n",
       "2270333   408014308  2020-12-31T00:00:00.000     15:00:00   \n",
       "2270334   152189917  2020-12-31T00:00:00.000     21:30:00   \n",
       "2270335   819066061  2020-12-31T00:00:00.000     20:22:00   \n",
       "2270336   675684827  2020-12-31T00:00:00.000     00:42:00   \n",
       "\n",
       "                       ofns_desc crm_atpt_cptd_cd   law_cat_cd        boro_nm  \\\n",
       "0                     SEX CRIMES        COMPLETED       FELONY      MANHATTAN   \n",
       "1                    THEFT-FRAUD        COMPLETED       FELONY       BROOKLYN   \n",
       "2        MISCELLANEOUS PENAL LAW        COMPLETED       FELONY  STATEN ISLAND   \n",
       "3                     SEX CRIMES        COMPLETED  MISDEMEANOR          BRONX   \n",
       "4                     SEX CRIMES        COMPLETED  MISDEMEANOR         QUEENS   \n",
       "...                          ...              ...          ...            ...   \n",
       "2270332        DANGEROUS WEAPONS        COMPLETED       FELONY       BROOKLYN   \n",
       "2270333            PETIT LARCENY        COMPLETED  MISDEMEANOR      MANHATTAN   \n",
       "2270334            GRAND LARCENY        COMPLETED       FELONY      MANHATTAN   \n",
       "2270335        DANGEROUS WEAPONS        COMPLETED       FELONY       BROOKLYN   \n",
       "2270336                  ROBBERY        COMPLETED       FELONY          BRONX   \n",
       "\n",
       "        loc_of_occur_desc               prem_typ_desc susp_age_group  \\\n",
       "0                  INSIDE      RESIDENCE - APT. HOUSE          45-64   \n",
       "1                  INSIDE      RESIDENCE - APT. HOUSE        UNKNOWN   \n",
       "2                  INSIDE      RESIDENCE - APT. HOUSE          25-44   \n",
       "3                  INSIDE      RESIDENCE - APT. HOUSE        UNKNOWN   \n",
       "4                  INSIDE             RESIDENCE-HOUSE        UNKNOWN   \n",
       "...                   ...                         ...            ...   \n",
       "2270332                NA                      STREET        UNKNOWN   \n",
       "2270333          FRONT OF  RESIDENCE - PUBLIC HOUSING        UNKNOWN   \n",
       "2270334            INSIDE                 HOTEL/MOTEL        UNKNOWN   \n",
       "2270335                NA                      STREET        UNKNOWN   \n",
       "2270336            INSIDE         BEAUTY & NAIL SALON        UNKNOWN   \n",
       "\n",
       "              susp_race susp_sex   latitude  longitude vic_age_group  \\\n",
       "0        WHITE HISPANIC        M  40.851488 -73.935458           <18   \n",
       "1               UNKNOWN  UNKNOWN  40.645922 -73.950965         25-44   \n",
       "2        WHITE HISPANIC        M  40.644726 -74.077483       UNKNOWN   \n",
       "3               UNKNOWN  UNKNOWN  40.853960 -73.900121           <18   \n",
       "4               UNKNOWN        U  40.722364 -73.851474           <18   \n",
       "...                 ...      ...        ...        ...           ...   \n",
       "2270332         UNKNOWN  UNKNOWN  40.679739 -73.937398       UNKNOWN   \n",
       "2270333         UNKNOWN        U  40.723803 -73.979069         45-64   \n",
       "2270334         UNKNOWN  UNKNOWN  40.782077 -73.980835         25-44   \n",
       "2270335         UNKNOWN  UNKNOWN  40.669345 -73.873801       UNKNOWN   \n",
       "2270336         UNKNOWN        M  40.837978 -73.907149         25-44   \n",
       "\n",
       "               vic_race vic_sex station_name parks_nm  \n",
       "0        BLACK HISPANIC       F           NA       NA  \n",
       "1                 BLACK       F           NA       NA  \n",
       "2               UNKNOWN       E           NA       NA  \n",
       "3        BLACK HISPANIC       F           NA       NA  \n",
       "4        WHITE HISPANIC       F           NA       NA  \n",
       "...                 ...     ...          ...      ...  \n",
       "2270332         UNKNOWN       E           NA       NA  \n",
       "2270333  WHITE HISPANIC       M           NA       NA  \n",
       "2270334  WHITE HISPANIC       F           NA       NA  \n",
       "2270335         UNKNOWN       E           NA       NA  \n",
       "2270336  WHITE HISPANIC       M           NA       NA  \n",
       "\n",
       "[2261491 rows x 19 columns]"
      ]
     },
     "execution_count": 42,
     "metadata": {},
     "output_type": "execute_result"
    }
   ],
   "source": [
    "ny_df"
   ]
  },
  {
   "cell_type": "code",
   "execution_count": 43,
   "metadata": {},
   "outputs": [],
   "source": [
    "# Write to a csv file\n",
    "ny_df.to_csv(\"ny_crm_all_cleaned.csv\", index = False)"
   ]
  },
  {
   "cell_type": "markdown",
   "metadata": {},
   "source": [
    "## 2.4 Add new colunms for data analysis\n",
    "- In this section we will add attributes related time will be processed and added."
   ]
  },
  {
   "cell_type": "markdown",
   "metadata": {},
   "source": [
    "### 2.4.1 Change datetime format\n",
    "- Changing reported date and time to datetime format for date-wise analysis"
   ]
  },
  {
   "cell_type": "code",
   "execution_count": 44,
   "metadata": {},
   "outputs": [],
   "source": [
    "ny_df['cmplnt_fr_dt'] = pd.to_datetime(ny_df['cmplnt_fr_dt'])\n",
    "ny_df['cmplnt_fr_tm'] = pd.to_datetime(ny_df['cmplnt_fr_tm'])"
   ]
  },
  {
   "cell_type": "code",
   "execution_count": 45,
   "metadata": {},
   "outputs": [
    {
     "data": {
      "text/plain": [
       "0         2016-01-01\n",
       "1         2016-01-01\n",
       "2         2016-01-01\n",
       "3         2016-01-01\n",
       "4         2016-01-01\n",
       "             ...    \n",
       "2270332   2020-12-31\n",
       "2270333   2020-12-31\n",
       "2270334   2020-12-31\n",
       "2270335   2020-12-31\n",
       "2270336   2020-12-31\n",
       "Name: cmplnt_fr_dt, Length: 2261491, dtype: datetime64[ns]"
      ]
     },
     "execution_count": 45,
     "metadata": {},
     "output_type": "execute_result"
    }
   ],
   "source": [
    "ny_df['cmplnt_fr_dt']"
   ]
  },
  {
   "cell_type": "code",
   "execution_count": 46,
   "metadata": {},
   "outputs": [
    {
     "data": {
      "text/plain": [
       "0         2021-10-28 00:00:00\n",
       "1         2021-10-28 00:20:00\n",
       "2         2021-10-28 00:00:00\n",
       "3         2021-10-28 19:00:00\n",
       "4         2021-10-28 12:00:00\n",
       "                  ...        \n",
       "2270332   2021-10-28 20:40:00\n",
       "2270333   2021-10-28 15:00:00\n",
       "2270334   2021-10-28 21:30:00\n",
       "2270335   2021-10-28 20:22:00\n",
       "2270336   2021-10-28 00:42:00\n",
       "Name: cmplnt_fr_tm, Length: 2261491, dtype: datetime64[ns]"
      ]
     },
     "execution_count": 46,
     "metadata": {},
     "output_type": "execute_result"
    }
   ],
   "source": [
    "ny_df['cmplnt_fr_tm']"
   ]
  },
  {
   "cell_type": "markdown",
   "metadata": {},
   "source": [
    "### 2.4.2 Add new colunms\n",
    "- YEAR, DAY, DAY_OF_WEEK, MONTH, and HOUR"
   ]
  },
  {
   "cell_type": "code",
   "execution_count": 47,
   "metadata": {},
   "outputs": [],
   "source": [
    "# Creating attributes year, day, day of week, month and hour\n",
    "ny_df[\"YEAR\"] = ny_df['cmplnt_fr_dt'].dt.year\n",
    "ny_df[\"DAY\"] = ny_df['cmplnt_fr_dt'].dt.day\n",
    "ny_df[\"DAY_OF_WEEK\"] = ny_df['cmplnt_fr_dt'].dt.dayofweek\n",
    "ny_df[\"MONTH\"] = ny_df['cmplnt_fr_dt'].dt.month\n",
    "ny_df[\"HOUR\"] = ny_df['cmplnt_fr_tm'].dt.hour\n",
    "\n",
    "# Convert day of week to plain text\n",
    "weekdays = [\"Sun\", \"Mon\", \"Tue\", \"Wed\", \"Thu\", \"Fri\", \"Sat\"]\n",
    "for i, wd in enumerate(weekdays):\n",
    "    ny_df[\"DAY_OF_WEEK\"].replace(i, wd, inplace=True)"
   ]
  },
  {
   "cell_type": "markdown",
   "metadata": {},
   "source": [
    "- Add season column"
   ]
  },
  {
   "cell_type": "code",
   "execution_count": 48,
   "metadata": {},
   "outputs": [],
   "source": [
    "# Add seasons column\n",
    "ny_df[\"Season\"] =  ny_df['cmplnt_fr_dt'].dt.month   # to be converted to season\n",
    "for i in [3, 4, 5]:\n",
    "    ny_df = ny_df.replace({'Season':i},'Spring')\n",
    "for i in [6, 7, 8]:\n",
    "    ny_df = ny_df.replace({'Season':i},'Summer')\n",
    "for i in [9, 10, 11]:\n",
    "    ny_df = ny_df.replace({'Season':i},'Fall')\n",
    "for i in [12, 1, 2]:\n",
    "    ny_df = ny_df.replace({'Season':i},'Winter')"
   ]
  },
  {
   "cell_type": "code",
   "execution_count": 49,
   "metadata": {},
   "outputs": [
    {
     "name": "stdout",
     "output_type": "stream",
     "text": [
      "<class 'pandas.core.frame.DataFrame'>\n",
      "Int64Index: 2261491 entries, 0 to 2270336\n",
      "Data columns (total 25 columns):\n",
      " #   Column             Dtype         \n",
      "---  ------             -----         \n",
      " 0   cmplnt_num         int64         \n",
      " 1   cmplnt_fr_dt       datetime64[ns]\n",
      " 2   cmplnt_fr_tm       datetime64[ns]\n",
      " 3   ofns_desc          object        \n",
      " 4   crm_atpt_cptd_cd   object        \n",
      " 5   law_cat_cd         object        \n",
      " 6   boro_nm            object        \n",
      " 7   loc_of_occur_desc  object        \n",
      " 8   prem_typ_desc      object        \n",
      " 9   susp_age_group     object        \n",
      " 10  susp_race          object        \n",
      " 11  susp_sex           object        \n",
      " 12  latitude           float64       \n",
      " 13  longitude          float64       \n",
      " 14  vic_age_group      object        \n",
      " 15  vic_race           object        \n",
      " 16  vic_sex            object        \n",
      " 17  station_name       object        \n",
      " 18  parks_nm           object        \n",
      " 19  YEAR               int64         \n",
      " 20  DAY                int64         \n",
      " 21  DAY_OF_WEEK        object        \n",
      " 22  MONTH              int64         \n",
      " 23  HOUR               int64         \n",
      " 24  Season             object        \n",
      "dtypes: datetime64[ns](2), float64(2), int64(5), object(16)\n",
      "memory usage: 448.6+ MB\n"
     ]
    }
   ],
   "source": [
    "ny_df.info()"
   ]
  },
  {
   "cell_type": "code",
   "execution_count": 50,
   "metadata": {},
   "outputs": [],
   "source": [
    "# Write to a csv file\n",
    "ny_df.to_csv(\"ny_df.csv\",index = False)"
   ]
  },
  {
   "cell_type": "markdown",
   "metadata": {},
   "source": [
    "## 2.5 Subset data for NYC district"
   ]
  },
  {
   "cell_type": "markdown",
   "metadata": {},
   "source": [
    "### 2.5.1 Mahattan dataset"
   ]
  },
  {
   "cell_type": "code",
   "execution_count": 51,
   "metadata": {},
   "outputs": [
    {
     "name": "stdout",
     "output_type": "stream",
     "text": [
      "551401\n"
     ]
    },
    {
     "data": {
      "text/html": [
       "<div>\n",
       "<style scoped>\n",
       "    .dataframe tbody tr th:only-of-type {\n",
       "        vertical-align: middle;\n",
       "    }\n",
       "\n",
       "    .dataframe tbody tr th {\n",
       "        vertical-align: top;\n",
       "    }\n",
       "\n",
       "    .dataframe thead th {\n",
       "        text-align: right;\n",
       "    }\n",
       "</style>\n",
       "<table border=\"1\" class=\"dataframe\">\n",
       "  <thead>\n",
       "    <tr style=\"text-align: right;\">\n",
       "      <th></th>\n",
       "      <th>cmplnt_num</th>\n",
       "      <th>cmplnt_fr_dt</th>\n",
       "      <th>cmplnt_fr_tm</th>\n",
       "      <th>ofns_desc</th>\n",
       "      <th>crm_atpt_cptd_cd</th>\n",
       "      <th>law_cat_cd</th>\n",
       "      <th>boro_nm</th>\n",
       "      <th>loc_of_occur_desc</th>\n",
       "      <th>prem_typ_desc</th>\n",
       "      <th>susp_age_group</th>\n",
       "      <th>...</th>\n",
       "      <th>vic_race</th>\n",
       "      <th>vic_sex</th>\n",
       "      <th>station_name</th>\n",
       "      <th>parks_nm</th>\n",
       "      <th>YEAR</th>\n",
       "      <th>DAY</th>\n",
       "      <th>DAY_OF_WEEK</th>\n",
       "      <th>MONTH</th>\n",
       "      <th>HOUR</th>\n",
       "      <th>Season</th>\n",
       "    </tr>\n",
       "  </thead>\n",
       "  <tbody>\n",
       "    <tr>\n",
       "      <th>551396</th>\n",
       "      <td>573050674</td>\n",
       "      <td>2020-12-31</td>\n",
       "      <td>2021-10-28 08:00:00</td>\n",
       "      <td>PETIT LARCENY</td>\n",
       "      <td>COMPLETED</td>\n",
       "      <td>MISDEMEANOR</td>\n",
       "      <td>MANHATTAN</td>\n",
       "      <td>REAR OF</td>\n",
       "      <td>STREET</td>\n",
       "      <td>UNKNOWN</td>\n",
       "      <td>...</td>\n",
       "      <td>WHITE</td>\n",
       "      <td>F</td>\n",
       "      <td>NA</td>\n",
       "      <td>NA</td>\n",
       "      <td>2020</td>\n",
       "      <td>31</td>\n",
       "      <td>Wed</td>\n",
       "      <td>12</td>\n",
       "      <td>8</td>\n",
       "      <td>Winter</td>\n",
       "    </tr>\n",
       "    <tr>\n",
       "      <th>551397</th>\n",
       "      <td>738066332</td>\n",
       "      <td>2020-12-31</td>\n",
       "      <td>2021-10-28 14:30:00</td>\n",
       "      <td>CRIMINAL MISCHIEF &amp; RELATED OF</td>\n",
       "      <td>COMPLETED</td>\n",
       "      <td>FELONY</td>\n",
       "      <td>MANHATTAN</td>\n",
       "      <td>INSIDE</td>\n",
       "      <td>RESIDENCE - APT. HOUSE</td>\n",
       "      <td>25-44</td>\n",
       "      <td>...</td>\n",
       "      <td>ASIAN / PACIFIC ISLANDER</td>\n",
       "      <td>M</td>\n",
       "      <td>NA</td>\n",
       "      <td>NA</td>\n",
       "      <td>2020</td>\n",
       "      <td>31</td>\n",
       "      <td>Wed</td>\n",
       "      <td>12</td>\n",
       "      <td>14</td>\n",
       "      <td>Winter</td>\n",
       "    </tr>\n",
       "    <tr>\n",
       "      <th>551398</th>\n",
       "      <td>838515176</td>\n",
       "      <td>2020-12-31</td>\n",
       "      <td>2021-10-28 11:40:00</td>\n",
       "      <td>RAPE</td>\n",
       "      <td>COMPLETED</td>\n",
       "      <td>FELONY</td>\n",
       "      <td>MANHATTAN</td>\n",
       "      <td>INSIDE</td>\n",
       "      <td>RESIDENCE - APT. HOUSE</td>\n",
       "      <td>UNKNOWN</td>\n",
       "      <td>...</td>\n",
       "      <td>WHITE</td>\n",
       "      <td>F</td>\n",
       "      <td>NA</td>\n",
       "      <td>NA</td>\n",
       "      <td>2020</td>\n",
       "      <td>31</td>\n",
       "      <td>Wed</td>\n",
       "      <td>12</td>\n",
       "      <td>11</td>\n",
       "      <td>Winter</td>\n",
       "    </tr>\n",
       "    <tr>\n",
       "      <th>551399</th>\n",
       "      <td>408014308</td>\n",
       "      <td>2020-12-31</td>\n",
       "      <td>2021-10-28 15:00:00</td>\n",
       "      <td>PETIT LARCENY</td>\n",
       "      <td>COMPLETED</td>\n",
       "      <td>MISDEMEANOR</td>\n",
       "      <td>MANHATTAN</td>\n",
       "      <td>FRONT OF</td>\n",
       "      <td>RESIDENCE - PUBLIC HOUSING</td>\n",
       "      <td>UNKNOWN</td>\n",
       "      <td>...</td>\n",
       "      <td>WHITE HISPANIC</td>\n",
       "      <td>M</td>\n",
       "      <td>NA</td>\n",
       "      <td>NA</td>\n",
       "      <td>2020</td>\n",
       "      <td>31</td>\n",
       "      <td>Wed</td>\n",
       "      <td>12</td>\n",
       "      <td>15</td>\n",
       "      <td>Winter</td>\n",
       "    </tr>\n",
       "    <tr>\n",
       "      <th>551400</th>\n",
       "      <td>152189917</td>\n",
       "      <td>2020-12-31</td>\n",
       "      <td>2021-10-28 21:30:00</td>\n",
       "      <td>GRAND LARCENY</td>\n",
       "      <td>COMPLETED</td>\n",
       "      <td>FELONY</td>\n",
       "      <td>MANHATTAN</td>\n",
       "      <td>INSIDE</td>\n",
       "      <td>HOTEL/MOTEL</td>\n",
       "      <td>UNKNOWN</td>\n",
       "      <td>...</td>\n",
       "      <td>WHITE HISPANIC</td>\n",
       "      <td>F</td>\n",
       "      <td>NA</td>\n",
       "      <td>NA</td>\n",
       "      <td>2020</td>\n",
       "      <td>31</td>\n",
       "      <td>Wed</td>\n",
       "      <td>12</td>\n",
       "      <td>21</td>\n",
       "      <td>Winter</td>\n",
       "    </tr>\n",
       "  </tbody>\n",
       "</table>\n",
       "<p>5 rows × 25 columns</p>\n",
       "</div>"
      ],
      "text/plain": [
       "        cmplnt_num cmplnt_fr_dt        cmplnt_fr_tm  \\\n",
       "551396   573050674   2020-12-31 2021-10-28 08:00:00   \n",
       "551397   738066332   2020-12-31 2021-10-28 14:30:00   \n",
       "551398   838515176   2020-12-31 2021-10-28 11:40:00   \n",
       "551399   408014308   2020-12-31 2021-10-28 15:00:00   \n",
       "551400   152189917   2020-12-31 2021-10-28 21:30:00   \n",
       "\n",
       "                             ofns_desc crm_atpt_cptd_cd   law_cat_cd  \\\n",
       "551396                   PETIT LARCENY        COMPLETED  MISDEMEANOR   \n",
       "551397  CRIMINAL MISCHIEF & RELATED OF        COMPLETED       FELONY   \n",
       "551398                            RAPE        COMPLETED       FELONY   \n",
       "551399                   PETIT LARCENY        COMPLETED  MISDEMEANOR   \n",
       "551400                   GRAND LARCENY        COMPLETED       FELONY   \n",
       "\n",
       "          boro_nm loc_of_occur_desc               prem_typ_desc  \\\n",
       "551396  MANHATTAN           REAR OF                      STREET   \n",
       "551397  MANHATTAN            INSIDE      RESIDENCE - APT. HOUSE   \n",
       "551398  MANHATTAN            INSIDE      RESIDENCE - APT. HOUSE   \n",
       "551399  MANHATTAN          FRONT OF  RESIDENCE - PUBLIC HOUSING   \n",
       "551400  MANHATTAN            INSIDE                 HOTEL/MOTEL   \n",
       "\n",
       "       susp_age_group  ...                  vic_race vic_sex  station_name  \\\n",
       "551396        UNKNOWN  ...                     WHITE       F            NA   \n",
       "551397          25-44  ...  ASIAN / PACIFIC ISLANDER       M            NA   \n",
       "551398        UNKNOWN  ...                     WHITE       F            NA   \n",
       "551399        UNKNOWN  ...            WHITE HISPANIC       M            NA   \n",
       "551400        UNKNOWN  ...            WHITE HISPANIC       F            NA   \n",
       "\n",
       "        parks_nm  YEAR DAY DAY_OF_WEEK MONTH HOUR  Season  \n",
       "551396        NA  2020  31         Wed    12    8  Winter  \n",
       "551397        NA  2020  31         Wed    12   14  Winter  \n",
       "551398        NA  2020  31         Wed    12   11  Winter  \n",
       "551399        NA  2020  31         Wed    12   15  Winter  \n",
       "551400        NA  2020  31         Wed    12   21  Winter  \n",
       "\n",
       "[5 rows x 25 columns]"
      ]
     },
     "execution_count": 51,
     "metadata": {},
     "output_type": "execute_result"
    }
   ],
   "source": [
    "manhattan_mask = [ boro == 'MANHATTAN' for boro in ny_df[\"boro_nm\"]]\n",
    "manhattan = ny_df[manhattan_mask].reset_index(drop=True) \n",
    "manhattan.to_csv(\"manhattan.csv\",index = False)\n",
    "print(len(manhattan))\n",
    "manhattan.tail()"
   ]
  },
  {
   "cell_type": "markdown",
   "metadata": {},
   "source": [
    "## * At this stage, we can decide which crimes to investigate such as our most interested crimes or top ten crimes or etc to reduce the data size."
   ]
  },
  {
   "cell_type": "markdown",
   "metadata": {},
   "source": [
    "## *example (top twenty crimes in Manhattan)"
   ]
  },
  {
   "cell_type": "code",
   "execution_count": 52,
   "metadata": {},
   "outputs": [
    {
     "data": {
      "text/plain": [
       "PETIT LARCENY                     130776\n",
       "GRAND LARCENY                      76245\n",
       "HARRASSMENT 2                      67867\n",
       "ASSAULT 3 & RELATED OFFENSES       51546\n",
       "CRIMINAL MISCHIEF & RELATED OF     48353\n",
       "DANGEROUS DRUGS                    22895\n",
       "OFF. AGNST PUB ORD SENSBLTY &      21714\n",
       "FELONY ASSAULT                     18886\n",
       "ROBBERY                            14475\n",
       "BURGLARY                           14407\n",
       "OFFENSES AGAINST PUBLIC ADMINI      9793\n",
       "MISCELLANEOUS PENAL LAW             9534\n",
       "SEX CRIMES                          8329\n",
       "DANGEROUS WEAPONS                   7709\n",
       "THEFT-FRAUD                         6078\n",
       "FORGERY                             6017\n",
       "VEHICLE AND TRAFFIC LAWS            5571\n",
       "CRIMINAL TRESPASS                   4569\n",
       "GRAND LARCENY OF MOTOR VEHICLE      4090\n",
       "FRAUDS                              3620\n",
       "Name: ofns_desc, dtype: int64"
      ]
     },
     "execution_count": 52,
     "metadata": {},
     "output_type": "execute_result"
    }
   ],
   "source": [
    "manhattan['ofns_desc'].value_counts()[:20]"
   ]
  },
  {
   "cell_type": "markdown",
   "metadata": {},
   "source": [
    "### 2.5.2 Brooklyn dataset"
   ]
  },
  {
   "cell_type": "code",
   "execution_count": 53,
   "metadata": {},
   "outputs": [
    {
     "name": "stdout",
     "output_type": "stream",
     "text": [
      "660700\n"
     ]
    },
    {
     "data": {
      "text/html": [
       "<div>\n",
       "<style scoped>\n",
       "    .dataframe tbody tr th:only-of-type {\n",
       "        vertical-align: middle;\n",
       "    }\n",
       "\n",
       "    .dataframe tbody tr th {\n",
       "        vertical-align: top;\n",
       "    }\n",
       "\n",
       "    .dataframe thead th {\n",
       "        text-align: right;\n",
       "    }\n",
       "</style>\n",
       "<table border=\"1\" class=\"dataframe\">\n",
       "  <thead>\n",
       "    <tr style=\"text-align: right;\">\n",
       "      <th></th>\n",
       "      <th>cmplnt_num</th>\n",
       "      <th>cmplnt_fr_dt</th>\n",
       "      <th>cmplnt_fr_tm</th>\n",
       "      <th>ofns_desc</th>\n",
       "      <th>crm_atpt_cptd_cd</th>\n",
       "      <th>law_cat_cd</th>\n",
       "      <th>boro_nm</th>\n",
       "      <th>loc_of_occur_desc</th>\n",
       "      <th>prem_typ_desc</th>\n",
       "      <th>susp_age_group</th>\n",
       "      <th>...</th>\n",
       "      <th>vic_race</th>\n",
       "      <th>vic_sex</th>\n",
       "      <th>station_name</th>\n",
       "      <th>parks_nm</th>\n",
       "      <th>YEAR</th>\n",
       "      <th>DAY</th>\n",
       "      <th>DAY_OF_WEEK</th>\n",
       "      <th>MONTH</th>\n",
       "      <th>HOUR</th>\n",
       "      <th>Season</th>\n",
       "    </tr>\n",
       "  </thead>\n",
       "  <tbody>\n",
       "    <tr>\n",
       "      <th>660695</th>\n",
       "      <td>229212279</td>\n",
       "      <td>2020-12-31</td>\n",
       "      <td>2021-10-28 10:50:00</td>\n",
       "      <td>BURGLARY</td>\n",
       "      <td>COMPLETED</td>\n",
       "      <td>FELONY</td>\n",
       "      <td>BROOKLYN</td>\n",
       "      <td>INSIDE</td>\n",
       "      <td>RESIDENCE-HOUSE</td>\n",
       "      <td>UNKNOWN</td>\n",
       "      <td>...</td>\n",
       "      <td>BLACK</td>\n",
       "      <td>F</td>\n",
       "      <td>NA</td>\n",
       "      <td>NA</td>\n",
       "      <td>2020</td>\n",
       "      <td>31</td>\n",
       "      <td>Wed</td>\n",
       "      <td>12</td>\n",
       "      <td>10</td>\n",
       "      <td>Winter</td>\n",
       "    </tr>\n",
       "    <tr>\n",
       "      <th>660696</th>\n",
       "      <td>443215419</td>\n",
       "      <td>2020-12-31</td>\n",
       "      <td>2021-10-28 15:00:00</td>\n",
       "      <td>ASSAULT 3 &amp; RELATED OFFENSES</td>\n",
       "      <td>COMPLETED</td>\n",
       "      <td>MISDEMEANOR</td>\n",
       "      <td>BROOKLYN</td>\n",
       "      <td>FRONT OF</td>\n",
       "      <td>STREET</td>\n",
       "      <td>25-44</td>\n",
       "      <td>...</td>\n",
       "      <td>WHITE</td>\n",
       "      <td>F</td>\n",
       "      <td>NA</td>\n",
       "      <td>NA</td>\n",
       "      <td>2020</td>\n",
       "      <td>31</td>\n",
       "      <td>Wed</td>\n",
       "      <td>12</td>\n",
       "      <td>15</td>\n",
       "      <td>Winter</td>\n",
       "    </tr>\n",
       "    <tr>\n",
       "      <th>660697</th>\n",
       "      <td>402064198</td>\n",
       "      <td>2020-12-31</td>\n",
       "      <td>2021-10-28 16:00:00</td>\n",
       "      <td>HARRASSMENT 2</td>\n",
       "      <td>COMPLETED</td>\n",
       "      <td>VIOLATION</td>\n",
       "      <td>BROOKLYN</td>\n",
       "      <td>INSIDE</td>\n",
       "      <td>OTHER</td>\n",
       "      <td>25-44</td>\n",
       "      <td>...</td>\n",
       "      <td>BLACK</td>\n",
       "      <td>F</td>\n",
       "      <td>NA</td>\n",
       "      <td>NA</td>\n",
       "      <td>2020</td>\n",
       "      <td>31</td>\n",
       "      <td>Wed</td>\n",
       "      <td>12</td>\n",
       "      <td>16</td>\n",
       "      <td>Winter</td>\n",
       "    </tr>\n",
       "    <tr>\n",
       "      <th>660698</th>\n",
       "      <td>165691435</td>\n",
       "      <td>2020-12-31</td>\n",
       "      <td>2021-10-28 20:40:00</td>\n",
       "      <td>DANGEROUS WEAPONS</td>\n",
       "      <td>COMPLETED</td>\n",
       "      <td>FELONY</td>\n",
       "      <td>BROOKLYN</td>\n",
       "      <td>NA</td>\n",
       "      <td>STREET</td>\n",
       "      <td>UNKNOWN</td>\n",
       "      <td>...</td>\n",
       "      <td>UNKNOWN</td>\n",
       "      <td>E</td>\n",
       "      <td>NA</td>\n",
       "      <td>NA</td>\n",
       "      <td>2020</td>\n",
       "      <td>31</td>\n",
       "      <td>Wed</td>\n",
       "      <td>12</td>\n",
       "      <td>20</td>\n",
       "      <td>Winter</td>\n",
       "    </tr>\n",
       "    <tr>\n",
       "      <th>660699</th>\n",
       "      <td>819066061</td>\n",
       "      <td>2020-12-31</td>\n",
       "      <td>2021-10-28 20:22:00</td>\n",
       "      <td>DANGEROUS WEAPONS</td>\n",
       "      <td>COMPLETED</td>\n",
       "      <td>FELONY</td>\n",
       "      <td>BROOKLYN</td>\n",
       "      <td>NA</td>\n",
       "      <td>STREET</td>\n",
       "      <td>UNKNOWN</td>\n",
       "      <td>...</td>\n",
       "      <td>UNKNOWN</td>\n",
       "      <td>E</td>\n",
       "      <td>NA</td>\n",
       "      <td>NA</td>\n",
       "      <td>2020</td>\n",
       "      <td>31</td>\n",
       "      <td>Wed</td>\n",
       "      <td>12</td>\n",
       "      <td>20</td>\n",
       "      <td>Winter</td>\n",
       "    </tr>\n",
       "  </tbody>\n",
       "</table>\n",
       "<p>5 rows × 25 columns</p>\n",
       "</div>"
      ],
      "text/plain": [
       "        cmplnt_num cmplnt_fr_dt        cmplnt_fr_tm  \\\n",
       "660695   229212279   2020-12-31 2021-10-28 10:50:00   \n",
       "660696   443215419   2020-12-31 2021-10-28 15:00:00   \n",
       "660697   402064198   2020-12-31 2021-10-28 16:00:00   \n",
       "660698   165691435   2020-12-31 2021-10-28 20:40:00   \n",
       "660699   819066061   2020-12-31 2021-10-28 20:22:00   \n",
       "\n",
       "                           ofns_desc crm_atpt_cptd_cd   law_cat_cd   boro_nm  \\\n",
       "660695                      BURGLARY        COMPLETED       FELONY  BROOKLYN   \n",
       "660696  ASSAULT 3 & RELATED OFFENSES        COMPLETED  MISDEMEANOR  BROOKLYN   \n",
       "660697                 HARRASSMENT 2        COMPLETED    VIOLATION  BROOKLYN   \n",
       "660698             DANGEROUS WEAPONS        COMPLETED       FELONY  BROOKLYN   \n",
       "660699             DANGEROUS WEAPONS        COMPLETED       FELONY  BROOKLYN   \n",
       "\n",
       "       loc_of_occur_desc    prem_typ_desc susp_age_group  ... vic_race  \\\n",
       "660695            INSIDE  RESIDENCE-HOUSE        UNKNOWN  ...    BLACK   \n",
       "660696          FRONT OF           STREET          25-44  ...    WHITE   \n",
       "660697            INSIDE            OTHER          25-44  ...    BLACK   \n",
       "660698                NA           STREET        UNKNOWN  ...  UNKNOWN   \n",
       "660699                NA           STREET        UNKNOWN  ...  UNKNOWN   \n",
       "\n",
       "       vic_sex  station_name  parks_nm  YEAR DAY DAY_OF_WEEK MONTH HOUR  \\\n",
       "660695       F            NA        NA  2020  31         Wed    12   10   \n",
       "660696       F            NA        NA  2020  31         Wed    12   15   \n",
       "660697       F            NA        NA  2020  31         Wed    12   16   \n",
       "660698       E            NA        NA  2020  31         Wed    12   20   \n",
       "660699       E            NA        NA  2020  31         Wed    12   20   \n",
       "\n",
       "        Season  \n",
       "660695  Winter  \n",
       "660696  Winter  \n",
       "660697  Winter  \n",
       "660698  Winter  \n",
       "660699  Winter  \n",
       "\n",
       "[5 rows x 25 columns]"
      ]
     },
     "execution_count": 53,
     "metadata": {},
     "output_type": "execute_result"
    }
   ],
   "source": [
    "brooklyn_mask = [ boro == 'BROOKLYN' for boro in ny_df[\"boro_nm\"]]\n",
    "brooklyn = ny_df[brooklyn_mask].reset_index(drop=True)\n",
    "brooklyn.to_csv(\"brooklyn.csv\",index = False)\n",
    "print(len(brooklyn))\n",
    "brooklyn.tail()"
   ]
  },
  {
   "cell_type": "markdown",
   "metadata": {},
   "source": [
    "### 2.5.3 Bronx dataset"
   ]
  },
  {
   "cell_type": "code",
   "execution_count": 54,
   "metadata": {},
   "outputs": [
    {
     "name": "stdout",
     "output_type": "stream",
     "text": [
      "497348\n"
     ]
    },
    {
     "data": {
      "text/html": [
       "<div>\n",
       "<style scoped>\n",
       "    .dataframe tbody tr th:only-of-type {\n",
       "        vertical-align: middle;\n",
       "    }\n",
       "\n",
       "    .dataframe tbody tr th {\n",
       "        vertical-align: top;\n",
       "    }\n",
       "\n",
       "    .dataframe thead th {\n",
       "        text-align: right;\n",
       "    }\n",
       "</style>\n",
       "<table border=\"1\" class=\"dataframe\">\n",
       "  <thead>\n",
       "    <tr style=\"text-align: right;\">\n",
       "      <th></th>\n",
       "      <th>cmplnt_num</th>\n",
       "      <th>cmplnt_fr_dt</th>\n",
       "      <th>cmplnt_fr_tm</th>\n",
       "      <th>ofns_desc</th>\n",
       "      <th>crm_atpt_cptd_cd</th>\n",
       "      <th>law_cat_cd</th>\n",
       "      <th>boro_nm</th>\n",
       "      <th>loc_of_occur_desc</th>\n",
       "      <th>prem_typ_desc</th>\n",
       "      <th>susp_age_group</th>\n",
       "      <th>...</th>\n",
       "      <th>vic_race</th>\n",
       "      <th>vic_sex</th>\n",
       "      <th>station_name</th>\n",
       "      <th>parks_nm</th>\n",
       "      <th>YEAR</th>\n",
       "      <th>DAY</th>\n",
       "      <th>DAY_OF_WEEK</th>\n",
       "      <th>MONTH</th>\n",
       "      <th>HOUR</th>\n",
       "      <th>Season</th>\n",
       "    </tr>\n",
       "  </thead>\n",
       "  <tbody>\n",
       "    <tr>\n",
       "      <th>497343</th>\n",
       "      <td>266563906</td>\n",
       "      <td>2020-12-31</td>\n",
       "      <td>2021-10-28 16:50:00</td>\n",
       "      <td>THEFT-FRAUD</td>\n",
       "      <td>COMPLETED</td>\n",
       "      <td>FELONY</td>\n",
       "      <td>BRONX</td>\n",
       "      <td>INSIDE</td>\n",
       "      <td>RESIDENCE - APT. HOUSE</td>\n",
       "      <td>UNKNOWN</td>\n",
       "      <td>...</td>\n",
       "      <td>WHITE HISPANIC</td>\n",
       "      <td>M</td>\n",
       "      <td>NA</td>\n",
       "      <td>NA</td>\n",
       "      <td>2020</td>\n",
       "      <td>31</td>\n",
       "      <td>Wed</td>\n",
       "      <td>12</td>\n",
       "      <td>16</td>\n",
       "      <td>Winter</td>\n",
       "    </tr>\n",
       "    <tr>\n",
       "      <th>497344</th>\n",
       "      <td>962835687</td>\n",
       "      <td>2020-12-31</td>\n",
       "      <td>2021-10-28 01:13:00</td>\n",
       "      <td>FELONY ASSAULT</td>\n",
       "      <td>COMPLETED</td>\n",
       "      <td>FELONY</td>\n",
       "      <td>BRONX</td>\n",
       "      <td>INSIDE</td>\n",
       "      <td>RESIDENCE - APT. HOUSE</td>\n",
       "      <td>18-24</td>\n",
       "      <td>...</td>\n",
       "      <td>BLACK</td>\n",
       "      <td>F</td>\n",
       "      <td>NA</td>\n",
       "      <td>NA</td>\n",
       "      <td>2020</td>\n",
       "      <td>31</td>\n",
       "      <td>Wed</td>\n",
       "      <td>12</td>\n",
       "      <td>1</td>\n",
       "      <td>Winter</td>\n",
       "    </tr>\n",
       "    <tr>\n",
       "      <th>497345</th>\n",
       "      <td>163995367</td>\n",
       "      <td>2020-12-31</td>\n",
       "      <td>2021-10-28 11:49:00</td>\n",
       "      <td>MISCELLANEOUS PENAL LAW</td>\n",
       "      <td>COMPLETED</td>\n",
       "      <td>FELONY</td>\n",
       "      <td>BRONX</td>\n",
       "      <td>INSIDE</td>\n",
       "      <td>RESIDENCE - APT. HOUSE</td>\n",
       "      <td>45-64</td>\n",
       "      <td>...</td>\n",
       "      <td>BLACK</td>\n",
       "      <td>F</td>\n",
       "      <td>NA</td>\n",
       "      <td>NA</td>\n",
       "      <td>2020</td>\n",
       "      <td>31</td>\n",
       "      <td>Wed</td>\n",
       "      <td>12</td>\n",
       "      <td>11</td>\n",
       "      <td>Winter</td>\n",
       "    </tr>\n",
       "    <tr>\n",
       "      <th>497346</th>\n",
       "      <td>566711114</td>\n",
       "      <td>2020-12-31</td>\n",
       "      <td>2021-10-28 19:40:00</td>\n",
       "      <td>ASSAULT 3 &amp; RELATED OFFENSES</td>\n",
       "      <td>COMPLETED</td>\n",
       "      <td>MISDEMEANOR</td>\n",
       "      <td>BRONX</td>\n",
       "      <td>INSIDE</td>\n",
       "      <td>RESIDENCE - APT. HOUSE</td>\n",
       "      <td>25-44</td>\n",
       "      <td>...</td>\n",
       "      <td>WHITE HISPANIC</td>\n",
       "      <td>F</td>\n",
       "      <td>NA</td>\n",
       "      <td>NA</td>\n",
       "      <td>2020</td>\n",
       "      <td>31</td>\n",
       "      <td>Wed</td>\n",
       "      <td>12</td>\n",
       "      <td>19</td>\n",
       "      <td>Winter</td>\n",
       "    </tr>\n",
       "    <tr>\n",
       "      <th>497347</th>\n",
       "      <td>675684827</td>\n",
       "      <td>2020-12-31</td>\n",
       "      <td>2021-10-28 00:42:00</td>\n",
       "      <td>ROBBERY</td>\n",
       "      <td>COMPLETED</td>\n",
       "      <td>FELONY</td>\n",
       "      <td>BRONX</td>\n",
       "      <td>INSIDE</td>\n",
       "      <td>BEAUTY &amp; NAIL SALON</td>\n",
       "      <td>UNKNOWN</td>\n",
       "      <td>...</td>\n",
       "      <td>WHITE HISPANIC</td>\n",
       "      <td>M</td>\n",
       "      <td>NA</td>\n",
       "      <td>NA</td>\n",
       "      <td>2020</td>\n",
       "      <td>31</td>\n",
       "      <td>Wed</td>\n",
       "      <td>12</td>\n",
       "      <td>0</td>\n",
       "      <td>Winter</td>\n",
       "    </tr>\n",
       "  </tbody>\n",
       "</table>\n",
       "<p>5 rows × 25 columns</p>\n",
       "</div>"
      ],
      "text/plain": [
       "        cmplnt_num cmplnt_fr_dt        cmplnt_fr_tm  \\\n",
       "497343   266563906   2020-12-31 2021-10-28 16:50:00   \n",
       "497344   962835687   2020-12-31 2021-10-28 01:13:00   \n",
       "497345   163995367   2020-12-31 2021-10-28 11:49:00   \n",
       "497346   566711114   2020-12-31 2021-10-28 19:40:00   \n",
       "497347   675684827   2020-12-31 2021-10-28 00:42:00   \n",
       "\n",
       "                           ofns_desc crm_atpt_cptd_cd   law_cat_cd boro_nm  \\\n",
       "497343                   THEFT-FRAUD        COMPLETED       FELONY   BRONX   \n",
       "497344                FELONY ASSAULT        COMPLETED       FELONY   BRONX   \n",
       "497345       MISCELLANEOUS PENAL LAW        COMPLETED       FELONY   BRONX   \n",
       "497346  ASSAULT 3 & RELATED OFFENSES        COMPLETED  MISDEMEANOR   BRONX   \n",
       "497347                       ROBBERY        COMPLETED       FELONY   BRONX   \n",
       "\n",
       "       loc_of_occur_desc           prem_typ_desc susp_age_group  ...  \\\n",
       "497343            INSIDE  RESIDENCE - APT. HOUSE        UNKNOWN  ...   \n",
       "497344            INSIDE  RESIDENCE - APT. HOUSE          18-24  ...   \n",
       "497345            INSIDE  RESIDENCE - APT. HOUSE          45-64  ...   \n",
       "497346            INSIDE  RESIDENCE - APT. HOUSE          25-44  ...   \n",
       "497347            INSIDE     BEAUTY & NAIL SALON        UNKNOWN  ...   \n",
       "\n",
       "              vic_race vic_sex  station_name  parks_nm  YEAR DAY DAY_OF_WEEK  \\\n",
       "497343  WHITE HISPANIC       M            NA        NA  2020  31         Wed   \n",
       "497344           BLACK       F            NA        NA  2020  31         Wed   \n",
       "497345           BLACK       F            NA        NA  2020  31         Wed   \n",
       "497346  WHITE HISPANIC       F            NA        NA  2020  31         Wed   \n",
       "497347  WHITE HISPANIC       M            NA        NA  2020  31         Wed   \n",
       "\n",
       "       MONTH HOUR  Season  \n",
       "497343    12   16  Winter  \n",
       "497344    12    1  Winter  \n",
       "497345    12   11  Winter  \n",
       "497346    12   19  Winter  \n",
       "497347    12    0  Winter  \n",
       "\n",
       "[5 rows x 25 columns]"
      ]
     },
     "execution_count": 54,
     "metadata": {},
     "output_type": "execute_result"
    }
   ],
   "source": [
    "bronx_mask = [ boro == 'BRONX' for boro in ny_df[\"boro_nm\"]]\n",
    "bronx = ny_df[bronx_mask].reset_index(drop=True)\n",
    "bronx.to_csv(\"bronx.csv\",index = False)\n",
    "print(len(bronx))\n",
    "bronx.tail()"
   ]
  },
  {
   "cell_type": "markdown",
   "metadata": {},
   "source": [
    "### 2.5.4 Queens dataset"
   ]
  },
  {
   "cell_type": "code",
   "execution_count": 55,
   "metadata": {},
   "outputs": [
    {
     "name": "stdout",
     "output_type": "stream",
     "text": [
      "453058\n"
     ]
    },
    {
     "data": {
      "text/html": [
       "<div>\n",
       "<style scoped>\n",
       "    .dataframe tbody tr th:only-of-type {\n",
       "        vertical-align: middle;\n",
       "    }\n",
       "\n",
       "    .dataframe tbody tr th {\n",
       "        vertical-align: top;\n",
       "    }\n",
       "\n",
       "    .dataframe thead th {\n",
       "        text-align: right;\n",
       "    }\n",
       "</style>\n",
       "<table border=\"1\" class=\"dataframe\">\n",
       "  <thead>\n",
       "    <tr style=\"text-align: right;\">\n",
       "      <th></th>\n",
       "      <th>cmplnt_num</th>\n",
       "      <th>cmplnt_fr_dt</th>\n",
       "      <th>cmplnt_fr_tm</th>\n",
       "      <th>ofns_desc</th>\n",
       "      <th>crm_atpt_cptd_cd</th>\n",
       "      <th>law_cat_cd</th>\n",
       "      <th>boro_nm</th>\n",
       "      <th>loc_of_occur_desc</th>\n",
       "      <th>prem_typ_desc</th>\n",
       "      <th>susp_age_group</th>\n",
       "      <th>...</th>\n",
       "      <th>vic_race</th>\n",
       "      <th>vic_sex</th>\n",
       "      <th>station_name</th>\n",
       "      <th>parks_nm</th>\n",
       "      <th>YEAR</th>\n",
       "      <th>DAY</th>\n",
       "      <th>DAY_OF_WEEK</th>\n",
       "      <th>MONTH</th>\n",
       "      <th>HOUR</th>\n",
       "      <th>Season</th>\n",
       "    </tr>\n",
       "  </thead>\n",
       "  <tbody>\n",
       "    <tr>\n",
       "      <th>453053</th>\n",
       "      <td>340893902</td>\n",
       "      <td>2020-12-31</td>\n",
       "      <td>2021-10-28 21:35:00</td>\n",
       "      <td>ASSAULT 3 &amp; RELATED OFFENSES</td>\n",
       "      <td>COMPLETED</td>\n",
       "      <td>MISDEMEANOR</td>\n",
       "      <td>QUEENS</td>\n",
       "      <td>INSIDE</td>\n",
       "      <td>RESIDENCE-HOUSE</td>\n",
       "      <td>25-44</td>\n",
       "      <td>...</td>\n",
       "      <td>WHITE HISPANIC</td>\n",
       "      <td>M</td>\n",
       "      <td>NA</td>\n",
       "      <td>NA</td>\n",
       "      <td>2020</td>\n",
       "      <td>31</td>\n",
       "      <td>Wed</td>\n",
       "      <td>12</td>\n",
       "      <td>21</td>\n",
       "      <td>Winter</td>\n",
       "    </tr>\n",
       "    <tr>\n",
       "      <th>453054</th>\n",
       "      <td>286697678</td>\n",
       "      <td>2020-12-31</td>\n",
       "      <td>2021-10-28 22:50:00</td>\n",
       "      <td>GRAND LARCENY OF MOTOR VEHICLE</td>\n",
       "      <td>COMPLETED</td>\n",
       "      <td>FELONY</td>\n",
       "      <td>QUEENS</td>\n",
       "      <td>NA</td>\n",
       "      <td>STREET</td>\n",
       "      <td>UNKNOWN</td>\n",
       "      <td>...</td>\n",
       "      <td>BLACK</td>\n",
       "      <td>F</td>\n",
       "      <td>NA</td>\n",
       "      <td>NA</td>\n",
       "      <td>2020</td>\n",
       "      <td>31</td>\n",
       "      <td>Wed</td>\n",
       "      <td>12</td>\n",
       "      <td>22</td>\n",
       "      <td>Winter</td>\n",
       "    </tr>\n",
       "    <tr>\n",
       "      <th>453055</th>\n",
       "      <td>467685437</td>\n",
       "      <td>2020-12-31</td>\n",
       "      <td>2021-10-28 14:30:00</td>\n",
       "      <td>CRIMINAL MISCHIEF &amp; RELATED OF</td>\n",
       "      <td>COMPLETED</td>\n",
       "      <td>FELONY</td>\n",
       "      <td>QUEENS</td>\n",
       "      <td>FRONT OF</td>\n",
       "      <td>STREET</td>\n",
       "      <td>25-44</td>\n",
       "      <td>...</td>\n",
       "      <td>WHITE HISPANIC</td>\n",
       "      <td>M</td>\n",
       "      <td>NA</td>\n",
       "      <td>NA</td>\n",
       "      <td>2020</td>\n",
       "      <td>31</td>\n",
       "      <td>Wed</td>\n",
       "      <td>12</td>\n",
       "      <td>14</td>\n",
       "      <td>Winter</td>\n",
       "    </tr>\n",
       "    <tr>\n",
       "      <th>453056</th>\n",
       "      <td>493076489</td>\n",
       "      <td>2020-12-31</td>\n",
       "      <td>2021-10-28 10:30:00</td>\n",
       "      <td>HARRASSMENT 2</td>\n",
       "      <td>COMPLETED</td>\n",
       "      <td>VIOLATION</td>\n",
       "      <td>QUEENS</td>\n",
       "      <td>FRONT OF</td>\n",
       "      <td>RESIDENCE - APT. HOUSE</td>\n",
       "      <td>25-44</td>\n",
       "      <td>...</td>\n",
       "      <td>WHITE</td>\n",
       "      <td>F</td>\n",
       "      <td>NA</td>\n",
       "      <td>NA</td>\n",
       "      <td>2020</td>\n",
       "      <td>31</td>\n",
       "      <td>Wed</td>\n",
       "      <td>12</td>\n",
       "      <td>10</td>\n",
       "      <td>Winter</td>\n",
       "    </tr>\n",
       "    <tr>\n",
       "      <th>453057</th>\n",
       "      <td>407230636</td>\n",
       "      <td>2020-12-31</td>\n",
       "      <td>2021-10-28 15:46:00</td>\n",
       "      <td>PETIT LARCENY</td>\n",
       "      <td>COMPLETED</td>\n",
       "      <td>MISDEMEANOR</td>\n",
       "      <td>QUEENS</td>\n",
       "      <td>INSIDE</td>\n",
       "      <td>DEPARTMENT STORE</td>\n",
       "      <td>25-44</td>\n",
       "      <td>...</td>\n",
       "      <td>UNKNOWN</td>\n",
       "      <td>D</td>\n",
       "      <td>NA</td>\n",
       "      <td>NA</td>\n",
       "      <td>2020</td>\n",
       "      <td>31</td>\n",
       "      <td>Wed</td>\n",
       "      <td>12</td>\n",
       "      <td>15</td>\n",
       "      <td>Winter</td>\n",
       "    </tr>\n",
       "  </tbody>\n",
       "</table>\n",
       "<p>5 rows × 25 columns</p>\n",
       "</div>"
      ],
      "text/plain": [
       "        cmplnt_num cmplnt_fr_dt        cmplnt_fr_tm  \\\n",
       "453053   340893902   2020-12-31 2021-10-28 21:35:00   \n",
       "453054   286697678   2020-12-31 2021-10-28 22:50:00   \n",
       "453055   467685437   2020-12-31 2021-10-28 14:30:00   \n",
       "453056   493076489   2020-12-31 2021-10-28 10:30:00   \n",
       "453057   407230636   2020-12-31 2021-10-28 15:46:00   \n",
       "\n",
       "                             ofns_desc crm_atpt_cptd_cd   law_cat_cd boro_nm  \\\n",
       "453053    ASSAULT 3 & RELATED OFFENSES        COMPLETED  MISDEMEANOR  QUEENS   \n",
       "453054  GRAND LARCENY OF MOTOR VEHICLE        COMPLETED       FELONY  QUEENS   \n",
       "453055  CRIMINAL MISCHIEF & RELATED OF        COMPLETED       FELONY  QUEENS   \n",
       "453056                   HARRASSMENT 2        COMPLETED    VIOLATION  QUEENS   \n",
       "453057                   PETIT LARCENY        COMPLETED  MISDEMEANOR  QUEENS   \n",
       "\n",
       "       loc_of_occur_desc           prem_typ_desc susp_age_group  ...  \\\n",
       "453053            INSIDE         RESIDENCE-HOUSE          25-44  ...   \n",
       "453054                NA                  STREET        UNKNOWN  ...   \n",
       "453055          FRONT OF                  STREET          25-44  ...   \n",
       "453056          FRONT OF  RESIDENCE - APT. HOUSE          25-44  ...   \n",
       "453057            INSIDE        DEPARTMENT STORE          25-44  ...   \n",
       "\n",
       "              vic_race vic_sex  station_name  parks_nm  YEAR DAY DAY_OF_WEEK  \\\n",
       "453053  WHITE HISPANIC       M            NA        NA  2020  31         Wed   \n",
       "453054           BLACK       F            NA        NA  2020  31         Wed   \n",
       "453055  WHITE HISPANIC       M            NA        NA  2020  31         Wed   \n",
       "453056           WHITE       F            NA        NA  2020  31         Wed   \n",
       "453057         UNKNOWN       D            NA        NA  2020  31         Wed   \n",
       "\n",
       "       MONTH HOUR  Season  \n",
       "453053    12   21  Winter  \n",
       "453054    12   22  Winter  \n",
       "453055    12   14  Winter  \n",
       "453056    12   10  Winter  \n",
       "453057    12   15  Winter  \n",
       "\n",
       "[5 rows x 25 columns]"
      ]
     },
     "execution_count": 55,
     "metadata": {},
     "output_type": "execute_result"
    }
   ],
   "source": [
    "queens_mask = [ boro == 'QUEENS' for boro in ny_df[\"boro_nm\"]]\n",
    "queens = ny_df[queens_mask].reset_index(drop=True)\n",
    "queens.to_csv(\"queens.csv\",index = False)\n",
    "print(len(queens))\n",
    "queens.tail()"
   ]
  },
  {
   "cell_type": "markdown",
   "metadata": {},
   "source": [
    "### 2.5.5 Staten Island dataset"
   ]
  },
  {
   "cell_type": "code",
   "execution_count": 56,
   "metadata": {},
   "outputs": [
    {
     "name": "stdout",
     "output_type": "stream",
     "text": [
      "98984\n"
     ]
    },
    {
     "data": {
      "text/html": [
       "<div>\n",
       "<style scoped>\n",
       "    .dataframe tbody tr th:only-of-type {\n",
       "        vertical-align: middle;\n",
       "    }\n",
       "\n",
       "    .dataframe tbody tr th {\n",
       "        vertical-align: top;\n",
       "    }\n",
       "\n",
       "    .dataframe thead th {\n",
       "        text-align: right;\n",
       "    }\n",
       "</style>\n",
       "<table border=\"1\" class=\"dataframe\">\n",
       "  <thead>\n",
       "    <tr style=\"text-align: right;\">\n",
       "      <th></th>\n",
       "      <th>cmplnt_num</th>\n",
       "      <th>cmplnt_fr_dt</th>\n",
       "      <th>cmplnt_fr_tm</th>\n",
       "      <th>ofns_desc</th>\n",
       "      <th>crm_atpt_cptd_cd</th>\n",
       "      <th>law_cat_cd</th>\n",
       "      <th>boro_nm</th>\n",
       "      <th>loc_of_occur_desc</th>\n",
       "      <th>prem_typ_desc</th>\n",
       "      <th>susp_age_group</th>\n",
       "      <th>...</th>\n",
       "      <th>vic_race</th>\n",
       "      <th>vic_sex</th>\n",
       "      <th>station_name</th>\n",
       "      <th>parks_nm</th>\n",
       "      <th>YEAR</th>\n",
       "      <th>DAY</th>\n",
       "      <th>DAY_OF_WEEK</th>\n",
       "      <th>MONTH</th>\n",
       "      <th>HOUR</th>\n",
       "      <th>Season</th>\n",
       "    </tr>\n",
       "  </thead>\n",
       "  <tbody>\n",
       "    <tr>\n",
       "      <th>98979</th>\n",
       "      <td>965063098</td>\n",
       "      <td>2020-12-31</td>\n",
       "      <td>2021-10-28 03:00:00</td>\n",
       "      <td>INTOXICATED &amp; IMPAIRED DRIVING</td>\n",
       "      <td>COMPLETED</td>\n",
       "      <td>MISDEMEANOR</td>\n",
       "      <td>STATEN ISLAND</td>\n",
       "      <td>NA</td>\n",
       "      <td>STREET</td>\n",
       "      <td>UNKNOWN</td>\n",
       "      <td>...</td>\n",
       "      <td>UNKNOWN</td>\n",
       "      <td>E</td>\n",
       "      <td>NA</td>\n",
       "      <td>NA</td>\n",
       "      <td>2020</td>\n",
       "      <td>31</td>\n",
       "      <td>Wed</td>\n",
       "      <td>12</td>\n",
       "      <td>3</td>\n",
       "      <td>Winter</td>\n",
       "    </tr>\n",
       "    <tr>\n",
       "      <th>98980</th>\n",
       "      <td>909024894</td>\n",
       "      <td>2020-12-31</td>\n",
       "      <td>2021-10-28 23:00:00</td>\n",
       "      <td>ASSAULT 3 &amp; RELATED OFFENSES</td>\n",
       "      <td>COMPLETED</td>\n",
       "      <td>MISDEMEANOR</td>\n",
       "      <td>STATEN ISLAND</td>\n",
       "      <td>INSIDE</td>\n",
       "      <td>RESIDENCE-HOUSE</td>\n",
       "      <td>25-44</td>\n",
       "      <td>...</td>\n",
       "      <td>BLACK</td>\n",
       "      <td>F</td>\n",
       "      <td>NA</td>\n",
       "      <td>NA</td>\n",
       "      <td>2020</td>\n",
       "      <td>31</td>\n",
       "      <td>Wed</td>\n",
       "      <td>12</td>\n",
       "      <td>23</td>\n",
       "      <td>Winter</td>\n",
       "    </tr>\n",
       "    <tr>\n",
       "      <th>98981</th>\n",
       "      <td>794056017</td>\n",
       "      <td>2020-12-31</td>\n",
       "      <td>2021-10-28 14:17:00</td>\n",
       "      <td>PETIT LARCENY</td>\n",
       "      <td>COMPLETED</td>\n",
       "      <td>MISDEMEANOR</td>\n",
       "      <td>STATEN ISLAND</td>\n",
       "      <td>REAR OF</td>\n",
       "      <td>DEPARTMENT STORE</td>\n",
       "      <td>25-44</td>\n",
       "      <td>...</td>\n",
       "      <td>WHITE HISPANIC</td>\n",
       "      <td>D</td>\n",
       "      <td>NA</td>\n",
       "      <td>NA</td>\n",
       "      <td>2020</td>\n",
       "      <td>31</td>\n",
       "      <td>Wed</td>\n",
       "      <td>12</td>\n",
       "      <td>14</td>\n",
       "      <td>Winter</td>\n",
       "    </tr>\n",
       "    <tr>\n",
       "      <th>98982</th>\n",
       "      <td>272635355</td>\n",
       "      <td>2020-12-31</td>\n",
       "      <td>2021-10-28 11:55:00</td>\n",
       "      <td>ROBBERY</td>\n",
       "      <td>COMPLETED</td>\n",
       "      <td>FELONY</td>\n",
       "      <td>STATEN ISLAND</td>\n",
       "      <td>INSIDE</td>\n",
       "      <td>COMMERCIAL BUILDING</td>\n",
       "      <td>25-44</td>\n",
       "      <td>...</td>\n",
       "      <td>UNKNOWN</td>\n",
       "      <td>D</td>\n",
       "      <td>NA</td>\n",
       "      <td>NA</td>\n",
       "      <td>2020</td>\n",
       "      <td>31</td>\n",
       "      <td>Wed</td>\n",
       "      <td>12</td>\n",
       "      <td>11</td>\n",
       "      <td>Winter</td>\n",
       "    </tr>\n",
       "    <tr>\n",
       "      <th>98983</th>\n",
       "      <td>595923054</td>\n",
       "      <td>2020-12-31</td>\n",
       "      <td>2021-10-28 00:50:00</td>\n",
       "      <td>VEHICLE AND TRAFFIC LAWS</td>\n",
       "      <td>COMPLETED</td>\n",
       "      <td>MISDEMEANOR</td>\n",
       "      <td>STATEN ISLAND</td>\n",
       "      <td>NA</td>\n",
       "      <td>STREET</td>\n",
       "      <td>UNKNOWN</td>\n",
       "      <td>...</td>\n",
       "      <td>WHITE HISPANIC</td>\n",
       "      <td>F</td>\n",
       "      <td>NA</td>\n",
       "      <td>NA</td>\n",
       "      <td>2020</td>\n",
       "      <td>31</td>\n",
       "      <td>Wed</td>\n",
       "      <td>12</td>\n",
       "      <td>0</td>\n",
       "      <td>Winter</td>\n",
       "    </tr>\n",
       "  </tbody>\n",
       "</table>\n",
       "<p>5 rows × 25 columns</p>\n",
       "</div>"
      ],
      "text/plain": [
       "       cmplnt_num cmplnt_fr_dt        cmplnt_fr_tm  \\\n",
       "98979   965063098   2020-12-31 2021-10-28 03:00:00   \n",
       "98980   909024894   2020-12-31 2021-10-28 23:00:00   \n",
       "98981   794056017   2020-12-31 2021-10-28 14:17:00   \n",
       "98982   272635355   2020-12-31 2021-10-28 11:55:00   \n",
       "98983   595923054   2020-12-31 2021-10-28 00:50:00   \n",
       "\n",
       "                            ofns_desc crm_atpt_cptd_cd   law_cat_cd  \\\n",
       "98979  INTOXICATED & IMPAIRED DRIVING        COMPLETED  MISDEMEANOR   \n",
       "98980    ASSAULT 3 & RELATED OFFENSES        COMPLETED  MISDEMEANOR   \n",
       "98981                   PETIT LARCENY        COMPLETED  MISDEMEANOR   \n",
       "98982                         ROBBERY        COMPLETED       FELONY   \n",
       "98983        VEHICLE AND TRAFFIC LAWS        COMPLETED  MISDEMEANOR   \n",
       "\n",
       "             boro_nm loc_of_occur_desc        prem_typ_desc susp_age_group  \\\n",
       "98979  STATEN ISLAND                NA               STREET        UNKNOWN   \n",
       "98980  STATEN ISLAND            INSIDE      RESIDENCE-HOUSE          25-44   \n",
       "98981  STATEN ISLAND           REAR OF     DEPARTMENT STORE          25-44   \n",
       "98982  STATEN ISLAND            INSIDE  COMMERCIAL BUILDING          25-44   \n",
       "98983  STATEN ISLAND                NA               STREET        UNKNOWN   \n",
       "\n",
       "       ...        vic_race vic_sex  station_name  parks_nm  YEAR DAY  \\\n",
       "98979  ...         UNKNOWN       E            NA        NA  2020  31   \n",
       "98980  ...           BLACK       F            NA        NA  2020  31   \n",
       "98981  ...  WHITE HISPANIC       D            NA        NA  2020  31   \n",
       "98982  ...         UNKNOWN       D            NA        NA  2020  31   \n",
       "98983  ...  WHITE HISPANIC       F            NA        NA  2020  31   \n",
       "\n",
       "      DAY_OF_WEEK MONTH HOUR  Season  \n",
       "98979         Wed    12    3  Winter  \n",
       "98980         Wed    12   23  Winter  \n",
       "98981         Wed    12   14  Winter  \n",
       "98982         Wed    12   11  Winter  \n",
       "98983         Wed    12    0  Winter  \n",
       "\n",
       "[5 rows x 25 columns]"
      ]
     },
     "execution_count": 56,
     "metadata": {},
     "output_type": "execute_result"
    }
   ],
   "source": [
    "island_mask = [ boro == 'STATEN ISLAND' for boro in ny_df[\"boro_nm\"]]\n",
    "island = ny_df[island_mask].reset_index(drop=True)\n",
    "island.to_csv(\"island.csv\",index = False)\n",
    "print(len(island))\n",
    "island.tail()"
   ]
  },
  {
   "cell_type": "code",
   "execution_count": null,
   "metadata": {},
   "outputs": [],
   "source": []
  },
  {
   "cell_type": "markdown",
   "metadata": {},
   "source": [
    "## 2.5 Preliminary EDA"
   ]
  },
  {
   "cell_type": "code",
   "execution_count": 57,
   "metadata": {},
   "outputs": [],
   "source": [
    "%matplotlib inline\n",
    "import matplotlib.pyplot as plt"
   ]
  },
  {
   "cell_type": "code",
   "execution_count": 58,
   "metadata": {},
   "outputs": [],
   "source": [
    "# Finding trend in the commited crimes\n",
    "ny_df.index = pd.DatetimeIndex(ny_df[\"cmplnt_fr_dt\"]) # Make time index\n",
    "crimes_per_day = pd.DataFrame(ny_df.resample('D').size())\n",
    "\n",
    "# mean and STD\n",
    "crimes_per_day[\"MEAN\"] = ny_df.resample('D').size().mean()\n",
    "crimes_per_day[\"STD\"] = ny_df.resample('D').size().std()"
   ]
  },
  {
   "cell_type": "code",
   "execution_count": 59,
   "metadata": {},
   "outputs": [
    {
     "data": {
      "image/png": "[encoded data removed]",
      "text/plain": [
       "<Figure size 1008x432 with 1 Axes>"
      ]
     },
     "metadata": {
      "needs_background": "light"
     },
     "output_type": "display_data"
    }
   ],
   "source": [
    "# Plotting the daily trend\n",
    "fig = plt.figure(figsize=(14,6))\n",
    "_ = ny_df.resample('D').size().plot()\n",
    "_ = crimes_per_day['MEAN'].plot()\n",
    "_ = plt.title('Number of crimes per day in NYC (2016-2020)', fontsize=16)\n",
    "_ = plt.xlabel('Day')\n",
    "_ = plt.ylabel('Number of crimes')"
   ]
  },
  {
   "cell_type": "code",
   "execution_count": null,
   "metadata": {},
   "outputs": [],
   "source": [
    "ny_df= ny_df.reset_index(drop=True)   # Reset time index back to normal index"
   ]
  },
  {
   "cell_type": "code",
   "execution_count": null,
   "metadata": {},
   "outputs": [],
   "source": [
    "# Offense description\n",
    "fig = plt.figure(figsize = (14,5))\n",
    "_ = ny_df['ofns_desc'].value_counts()[:30].plot(kind='bar', alpha = 0.6)"
   ]
  },
  {
   "cell_type": "code",
   "execution_count": null,
   "metadata": {},
   "outputs": [],
   "source": [
    "# prem_typ_desc\n",
    "fig = plt.figure(figsize = (14,5))\n",
    "_ = ny_df['prem_typ_desc'].value_counts()[:20].plot(kind='bar', alpha = 0.6)"
   ]
  },
  {
   "cell_type": "code",
   "execution_count": null,
   "metadata": {},
   "outputs": [],
   "source": [
    "# susp_age_group\n",
    "fig = plt.figure(figsize = (8,5))\n",
    "_ = ny_df['susp_age_group'].value_counts().plot(kind='bar', alpha = 0.6)"
   ]
  },
  {
   "cell_type": "code",
   "execution_count": null,
   "metadata": {},
   "outputs": [],
   "source": [
    "# susp_race\n",
    "fig = plt.figure(figsize = (8,5))\n",
    "_ = ny_df['susp_race'].value_counts().plot(kind='bar', alpha = 0.6)"
   ]
  },
  {
   "cell_type": "code",
   "execution_count": null,
   "metadata": {},
   "outputs": [],
   "source": [
    "# susp_sex\n",
    "fig = plt.figure(figsize = (6,5))\n",
    "_ = ny_df['susp_sex'].value_counts().plot(kind='bar', alpha = 0.6)"
   ]
  },
  {
   "cell_type": "code",
   "execution_count": null,
   "metadata": {},
   "outputs": [],
   "source": [
    "# boro_nm\n",
    "fig = plt.figure(figsize = (8,5))\n",
    "_ = ny_df['boro_nm'].value_counts().sort_index().plot(kind='bar', alpha = 0.6)"
   ]
  },
  {
   "cell_type": "code",
   "execution_count": null,
   "metadata": {
    "scrolled": true
   },
   "outputs": [],
   "source": [
    "# vic_age_group\n",
    "fig = plt.figure(figsize = (8,5))\n",
    "_ = ny_df['vic_age_group'].value_counts().sort_index().plot(kind='bar', alpha = 0.6)"
   ]
  },
  {
   "cell_type": "code",
   "execution_count": null,
   "metadata": {},
   "outputs": [],
   "source": [
    "# vic_race\n",
    "fig = plt.figure(figsize = (8,5))\n",
    "_ = ny_df['vic_race'].value_counts().plot(kind='bar', alpha = 0.6)"
   ]
  },
  {
   "cell_type": "code",
   "execution_count": null,
   "metadata": {},
   "outputs": [],
   "source": [
    "# vic_sex\n",
    "fig = plt.figure(figsize = (6,5))\n",
    "_ = ny_df['vic_sex'].value_counts().sort_index().plot(kind='bar', alpha = 0.6)"
   ]
  },
  {
   "cell_type": "code",
   "execution_count": null,
   "metadata": {},
   "outputs": [],
   "source": [
    "# law_cat_cd\n",
    "fig = plt.figure(figsize = (4,5))\n",
    "_ = ny_df['law_cat_cd'].value_counts().sort_index().plot(kind='bar', alpha = 0.6)"
   ]
  },
  {
   "cell_type": "code",
   "execution_count": null,
   "metadata": {},
   "outputs": [],
   "source": [
    "# loc_of_occur_desc\n",
    "fig = plt.figure(figsize = (8,5))\n",
    "_ = ny_df['loc_of_occur_desc'].value_counts().sort_index().plot(kind='bar', alpha = 0.6)"
   ]
  },
  {
   "cell_type": "code",
   "execution_count": null,
   "metadata": {},
   "outputs": [],
   "source": [
    "# Month\n",
    "fig = plt.figure(figsize = (8,5))\n",
    "_ = ny_df['MONTH'].value_counts().sort_index().plot(kind='bar', alpha = 0.6)"
   ]
  },
  {
   "cell_type": "code",
   "execution_count": null,
   "metadata": {},
   "outputs": [],
   "source": [
    "# DAY_OF_WEEK\n",
    "fig = plt.figure(figsize = (6,5))\n",
    "_ = ny_df['DAY_OF_WEEK'].value_counts().plot(kind='bar', alpha = 0.6)"
   ]
  },
  {
   "cell_type": "code",
   "execution_count": null,
   "metadata": {},
   "outputs": [],
   "source": [
    "# Season\n",
    "fig = plt.figure(figsize = (6,5))\n",
    "_ = ny_df['Season'].value_counts().sort_index().plot(kind='bar', alpha = 0.6)"
   ]
  },
  {
   "cell_type": "code",
   "execution_count": null,
   "metadata": {},
   "outputs": [],
   "source": []
  }
 ],
 "metadata": {
  "kernelspec": {
   "display_name": "Python 3",
   "language": "python",
   "name": "python3"
  },
  "language_info": {
   "codemirror_mode": {
    "name": "ipython",
    "version": 3
   },
   "file_extension": ".py",
   "mimetype": "text/x-python",
   "name": "python",
   "nbconvert_exporter": "python",
   "pygments_lexer": "ipython3",
   "version": "3.8.5"
  }
 },
 "nbformat": 4,
 "nbformat_minor": 4
}
