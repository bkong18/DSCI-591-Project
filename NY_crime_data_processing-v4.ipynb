{
 "cells": [
  {
   "cell_type": "markdown",
   "metadata": {},
   "source": [
    "# DSCI Group Project\n",
    "## Team: Safe CIty"
   ]
  },
  {
   "cell_type": "markdown",
   "metadata": {},
   "source": [
    "# 2. Code for NY crime data processing\n",
    "### Last modified: Oct. 17, 2021"
   ]
  },
  {
   "cell_type": "code",
   "execution_count": 1,
   "metadata": {},
   "outputs": [],
   "source": [
    "import pandas as pd"
   ]
  },
  {
   "cell_type": "markdown",
   "metadata": {},
   "source": [
    "## 2.1 Read data from a file and a brief look\n",
    "## Year 2018"
   ]
  },
  {
   "cell_type": "code",
   "execution_count": 2,
   "metadata": {},
   "outputs": [
    {
     "name": "stderr",
     "output_type": "stream",
     "text": [
      "C:\\ProgramData\\Anaconda3\\lib\\site-packages\\IPython\\core\\interactiveshell.py:3146: DtypeWarning: Columns (30) have mixed types.Specify dtype option on import or set low_memory=False.\n",
      "  has_raised = await self.run_ast_nodes(code_ast.body, cell_name,\n"
     ]
    }
   ],
   "source": [
    "ny_df = pd.read_csv('ny_2018-2020.csv') "
   ]
  },
  {
   "cell_type": "code",
   "execution_count": 3,
   "metadata": {},
   "outputs": [
    {
     "name": "stdout",
     "output_type": "stream",
     "text": [
      "<class 'pandas.core.frame.DataFrame'>\n",
      "RangeIndex: 1324339 entries, 0 to 1324338\n",
      "Data columns (total 35 columns):\n",
      " #   Column             Non-Null Count    Dtype  \n",
      "---  ------             --------------    -----  \n",
      " 0   cmplnt_num         1324339 non-null  int64  \n",
      " 1   cmplnt_fr_dt       1324339 non-null  object \n",
      " 2   cmplnt_fr_tm       1324339 non-null  object \n",
      " 3   cmplnt_to_dt       1164540 non-null  object \n",
      " 4   cmplnt_to_tm       1165153 non-null  object \n",
      " 5   addr_pct_cd        1324336 non-null  float64\n",
      " 6   rpt_dt             1324339 non-null  object \n",
      " 7   ky_cd              1324339 non-null  int64  \n",
      " 8   ofns_desc          1324316 non-null  object \n",
      " 9   pd_cd              1323300 non-null  float64\n",
      " 10  pd_desc            1323300 non-null  object \n",
      " 11  crm_atpt_cptd_cd   1324339 non-null  object \n",
      " 12  law_cat_cd         1324339 non-null  object \n",
      " 13  boro_nm            1323267 non-null  object \n",
      " 14  loc_of_occur_desc  1091978 non-null  object \n",
      " 15  prem_typ_desc      1319455 non-null  object \n",
      " 16  juris_desc         1324339 non-null  object \n",
      " 17  jurisdiction_code  1323300 non-null  float64\n",
      " 18  x_coord_cd         1324300 non-null  float64\n",
      " 19  y_coord_cd         1324300 non-null  float64\n",
      " 20  susp_age_group     1006492 non-null  object \n",
      " 21  susp_race          1006492 non-null  object \n",
      " 22  susp_sex           1006492 non-null  object \n",
      " 23  latitude           1324300 non-null  float64\n",
      " 24  longitude          1324300 non-null  float64\n",
      " 25  lat_lon            1324300 non-null  object \n",
      " 26  patrol_boro        1323300 non-null  object \n",
      " 27  vic_age_group      1324335 non-null  object \n",
      " 28  vic_race           1324335 non-null  object \n",
      " 29  vic_sex            1324335 non-null  object \n",
      " 30  housing_psa        96803 non-null    object \n",
      " 31  hadevelopt         44805 non-null    object \n",
      " 32  parks_nm           10678 non-null    object \n",
      " 33  transit_district   31023 non-null    float64\n",
      " 34  station_name       31023 non-null    object \n",
      "dtypes: float64(8), int64(2), object(25)\n",
      "memory usage: 353.6+ MB\n"
     ]
    }
   ],
   "source": [
    "ny_df.info()"
   ]
  },
  {
   "cell_type": "code",
   "execution_count": 4,
   "metadata": {},
   "outputs": [
    {
     "data": {
      "text/html": [
       "<div>\n",
       "<style scoped>\n",
       "    .dataframe tbody tr th:only-of-type {\n",
       "        vertical-align: middle;\n",
       "    }\n",
       "\n",
       "    .dataframe tbody tr th {\n",
       "        vertical-align: top;\n",
       "    }\n",
       "\n",
       "    .dataframe thead th {\n",
       "        text-align: right;\n",
       "    }\n",
       "</style>\n",
       "<table border=\"1\" class=\"dataframe\">\n",
       "  <thead>\n",
       "    <tr style=\"text-align: right;\">\n",
       "      <th></th>\n",
       "      <th>cmplnt_num</th>\n",
       "      <th>addr_pct_cd</th>\n",
       "      <th>ky_cd</th>\n",
       "      <th>pd_cd</th>\n",
       "      <th>jurisdiction_code</th>\n",
       "      <th>x_coord_cd</th>\n",
       "      <th>y_coord_cd</th>\n",
       "      <th>latitude</th>\n",
       "      <th>longitude</th>\n",
       "      <th>transit_district</th>\n",
       "    </tr>\n",
       "  </thead>\n",
       "  <tbody>\n",
       "    <tr>\n",
       "      <th>count</th>\n",
       "      <td>1.324339e+06</td>\n",
       "      <td>1.324336e+06</td>\n",
       "      <td>1.324339e+06</td>\n",
       "      <td>1.323300e+06</td>\n",
       "      <td>1.323300e+06</td>\n",
       "      <td>1.324300e+06</td>\n",
       "      <td>1.324300e+06</td>\n",
       "      <td>1.324300e+06</td>\n",
       "      <td>1.324300e+06</td>\n",
       "      <td>31023.000000</td>\n",
       "    </tr>\n",
       "    <tr>\n",
       "      <th>mean</th>\n",
       "      <td>5.501018e+08</td>\n",
       "      <td>6.300579e+01</td>\n",
       "      <td>3.061229e+02</td>\n",
       "      <td>3.989520e+02</td>\n",
       "      <td>8.788869e-01</td>\n",
       "      <td>1.005210e+06</td>\n",
       "      <td>2.076935e+05</td>\n",
       "      <td>4.073670e+01</td>\n",
       "      <td>-7.392434e+01</td>\n",
       "      <td>13.335783</td>\n",
       "    </tr>\n",
       "    <tr>\n",
       "      <th>std</th>\n",
       "      <td>2.597678e+08</td>\n",
       "      <td>3.458939e+01</td>\n",
       "      <td>1.568317e+02</td>\n",
       "      <td>2.155254e+02</td>\n",
       "      <td>7.946196e+00</td>\n",
       "      <td>2.123152e+04</td>\n",
       "      <td>3.022241e+04</td>\n",
       "      <td>8.295715e-02</td>\n",
       "      <td>7.656991e-02</td>\n",
       "      <td>12.454993</td>\n",
       "    </tr>\n",
       "    <tr>\n",
       "      <th>min</th>\n",
       "      <td>1.000001e+08</td>\n",
       "      <td>1.000000e+00</td>\n",
       "      <td>1.010000e+02</td>\n",
       "      <td>1.000000e+02</td>\n",
       "      <td>0.000000e+00</td>\n",
       "      <td>9.134110e+05</td>\n",
       "      <td>1.211310e+05</td>\n",
       "      <td>4.049891e+01</td>\n",
       "      <td>-7.425474e+01</td>\n",
       "      <td>1.000000</td>\n",
       "    </tr>\n",
       "    <tr>\n",
       "      <th>25%</th>\n",
       "      <td>3.248249e+08</td>\n",
       "      <td>4.000000e+01</td>\n",
       "      <td>1.180000e+02</td>\n",
       "      <td>2.540000e+02</td>\n",
       "      <td>0.000000e+00</td>\n",
       "      <td>9.920330e+05</td>\n",
       "      <td>1.850610e+05</td>\n",
       "      <td>4.067460e+01</td>\n",
       "      <td>-7.397191e+01</td>\n",
       "      <td>2.000000</td>\n",
       "    </tr>\n",
       "    <tr>\n",
       "      <th>50%</th>\n",
       "      <td>5.505184e+08</td>\n",
       "      <td>6.300000e+01</td>\n",
       "      <td>3.410000e+02</td>\n",
       "      <td>3.430000e+02</td>\n",
       "      <td>0.000000e+00</td>\n",
       "      <td>1.004544e+06</td>\n",
       "      <td>2.068940e+05</td>\n",
       "      <td>4.073449e+01</td>\n",
       "      <td>-7.392680e+01</td>\n",
       "      <td>11.000000</td>\n",
       "    </tr>\n",
       "    <tr>\n",
       "      <th>75%</th>\n",
       "      <td>7.751082e+08</td>\n",
       "      <td>9.400000e+01</td>\n",
       "      <td>3.510000e+02</td>\n",
       "      <td>6.370000e+02</td>\n",
       "      <td>0.000000e+00</td>\n",
       "      <td>1.016852e+06</td>\n",
       "      <td>2.353300e+05</td>\n",
       "      <td>4.081258e+01</td>\n",
       "      <td>-7.388232e+01</td>\n",
       "      <td>30.000000</td>\n",
       "    </tr>\n",
       "    <tr>\n",
       "      <th>max</th>\n",
       "      <td>9.999989e+08</td>\n",
       "      <td>1.230000e+02</td>\n",
       "      <td>8.810000e+02</td>\n",
       "      <td>9.690000e+02</td>\n",
       "      <td>9.700000e+01</td>\n",
       "      <td>1.067226e+06</td>\n",
       "      <td>2.718200e+05</td>\n",
       "      <td>4.091272e+01</td>\n",
       "      <td>-7.370057e+01</td>\n",
       "      <td>34.000000</td>\n",
       "    </tr>\n",
       "  </tbody>\n",
       "</table>\n",
       "</div>"
      ],
      "text/plain": [
       "         cmplnt_num   addr_pct_cd         ky_cd         pd_cd  \\\n",
       "count  1.324339e+06  1.324336e+06  1.324339e+06  1.323300e+06   \n",
       "mean   5.501018e+08  6.300579e+01  3.061229e+02  3.989520e+02   \n",
       "std    2.597678e+08  3.458939e+01  1.568317e+02  2.155254e+02   \n",
       "min    1.000001e+08  1.000000e+00  1.010000e+02  1.000000e+02   \n",
       "25%    3.248249e+08  4.000000e+01  1.180000e+02  2.540000e+02   \n",
       "50%    5.505184e+08  6.300000e+01  3.410000e+02  3.430000e+02   \n",
       "75%    7.751082e+08  9.400000e+01  3.510000e+02  6.370000e+02   \n",
       "max    9.999989e+08  1.230000e+02  8.810000e+02  9.690000e+02   \n",
       "\n",
       "       jurisdiction_code    x_coord_cd    y_coord_cd      latitude  \\\n",
       "count       1.323300e+06  1.324300e+06  1.324300e+06  1.324300e+06   \n",
       "mean        8.788869e-01  1.005210e+06  2.076935e+05  4.073670e+01   \n",
       "std         7.946196e+00  2.123152e+04  3.022241e+04  8.295715e-02   \n",
       "min         0.000000e+00  9.134110e+05  1.211310e+05  4.049891e+01   \n",
       "25%         0.000000e+00  9.920330e+05  1.850610e+05  4.067460e+01   \n",
       "50%         0.000000e+00  1.004544e+06  2.068940e+05  4.073449e+01   \n",
       "75%         0.000000e+00  1.016852e+06  2.353300e+05  4.081258e+01   \n",
       "max         9.700000e+01  1.067226e+06  2.718200e+05  4.091272e+01   \n",
       "\n",
       "          longitude  transit_district  \n",
       "count  1.324300e+06      31023.000000  \n",
       "mean  -7.392434e+01         13.335783  \n",
       "std    7.656991e-02         12.454993  \n",
       "min   -7.425474e+01          1.000000  \n",
       "25%   -7.397191e+01          2.000000  \n",
       "50%   -7.392680e+01         11.000000  \n",
       "75%   -7.388232e+01         30.000000  \n",
       "max   -7.370057e+01         34.000000  "
      ]
     },
     "execution_count": 4,
     "metadata": {},
     "output_type": "execute_result"
    }
   ],
   "source": [
    "ny_df.describe()"
   ]
  },
  {
   "cell_type": "code",
   "execution_count": 5,
   "metadata": {},
   "outputs": [
    {
     "data": {
      "text/html": [
       "<div>\n",
       "<style scoped>\n",
       "    .dataframe tbody tr th:only-of-type {\n",
       "        vertical-align: middle;\n",
       "    }\n",
       "\n",
       "    .dataframe tbody tr th {\n",
       "        vertical-align: top;\n",
       "    }\n",
       "\n",
       "    .dataframe thead th {\n",
       "        text-align: right;\n",
       "    }\n",
       "</style>\n",
       "<table border=\"1\" class=\"dataframe\">\n",
       "  <thead>\n",
       "    <tr style=\"text-align: right;\">\n",
       "      <th></th>\n",
       "      <th>cmplnt_fr_dt</th>\n",
       "      <th>cmplnt_fr_tm</th>\n",
       "      <th>cmplnt_to_dt</th>\n",
       "      <th>cmplnt_to_tm</th>\n",
       "      <th>rpt_dt</th>\n",
       "      <th>ofns_desc</th>\n",
       "      <th>pd_desc</th>\n",
       "      <th>crm_atpt_cptd_cd</th>\n",
       "      <th>law_cat_cd</th>\n",
       "      <th>boro_nm</th>\n",
       "      <th>...</th>\n",
       "      <th>susp_sex</th>\n",
       "      <th>lat_lon</th>\n",
       "      <th>patrol_boro</th>\n",
       "      <th>vic_age_group</th>\n",
       "      <th>vic_race</th>\n",
       "      <th>vic_sex</th>\n",
       "      <th>housing_psa</th>\n",
       "      <th>hadevelopt</th>\n",
       "      <th>parks_nm</th>\n",
       "      <th>station_name</th>\n",
       "    </tr>\n",
       "  </thead>\n",
       "  <tbody>\n",
       "    <tr>\n",
       "      <th>count</th>\n",
       "      <td>1324339</td>\n",
       "      <td>1324339</td>\n",
       "      <td>1164540</td>\n",
       "      <td>1165153</td>\n",
       "      <td>1324339</td>\n",
       "      <td>1324316</td>\n",
       "      <td>1323300</td>\n",
       "      <td>1324339</td>\n",
       "      <td>1324339</td>\n",
       "      <td>1323267</td>\n",
       "      <td>...</td>\n",
       "      <td>1006492</td>\n",
       "      <td>1324300</td>\n",
       "      <td>1323300</td>\n",
       "      <td>1324335</td>\n",
       "      <td>1324335</td>\n",
       "      <td>1324335</td>\n",
       "      <td>96803.0</td>\n",
       "      <td>44805</td>\n",
       "      <td>10678</td>\n",
       "      <td>31023</td>\n",
       "    </tr>\n",
       "    <tr>\n",
       "      <th>unique</th>\n",
       "      <td>1096</td>\n",
       "      <td>1440</td>\n",
       "      <td>1101</td>\n",
       "      <td>1440</td>\n",
       "      <td>1096</td>\n",
       "      <td>66</td>\n",
       "      <td>376</td>\n",
       "      <td>2</td>\n",
       "      <td>3</td>\n",
       "      <td>5</td>\n",
       "      <td>...</td>\n",
       "      <td>3</td>\n",
       "      <td>151676</td>\n",
       "      <td>8</td>\n",
       "      <td>74</td>\n",
       "      <td>7</td>\n",
       "      <td>5</td>\n",
       "      <td>915.0</td>\n",
       "      <td>263</td>\n",
       "      <td>917</td>\n",
       "      <td>370</td>\n",
       "    </tr>\n",
       "    <tr>\n",
       "      <th>top</th>\n",
       "      <td>2018-01-01T00:00:00.000</td>\n",
       "      <td>12:00:00</td>\n",
       "      <td>2020-06-01T00:00:00.000</td>\n",
       "      <td>12:00:00</td>\n",
       "      <td>2018-07-05T00:00:00.000</td>\n",
       "      <td>PETIT LARCENY</td>\n",
       "      <td>HARASSMENT,SUBD 3,4,5</td>\n",
       "      <td>COMPLETED</td>\n",
       "      <td>MISDEMEANOR</td>\n",
       "      <td>BROOKLYN</td>\n",
       "      <td>...</td>\n",
       "      <td>M</td>\n",
       "      <td>{'latitude': '40.75043076800005', 'longitude':...</td>\n",
       "      <td>PATROL BORO BRONX</td>\n",
       "      <td>25-44</td>\n",
       "      <td>UNKNOWN</td>\n",
       "      <td>F</td>\n",
       "      <td>670.0</td>\n",
       "      <td>CASTLE HILL</td>\n",
       "      <td>CENTRAL PARK</td>\n",
       "      <td>125 STREET</td>\n",
       "    </tr>\n",
       "    <tr>\n",
       "      <th>freq</th>\n",
       "      <td>2074</td>\n",
       "      <td>33370</td>\n",
       "      <td>1459</td>\n",
       "      <td>18713</td>\n",
       "      <td>1610</td>\n",
       "      <td>255901</td>\n",
       "      <td>150266</td>\n",
       "      <td>1302698</td>\n",
       "      <td>703117</td>\n",
       "      <td>384225</td>\n",
       "      <td>...</td>\n",
       "      <td>604924</td>\n",
       "      <td>2300</td>\n",
       "      <td>289570</td>\n",
       "      <td>479560</td>\n",
       "      <td>383386</td>\n",
       "      <td>524991</td>\n",
       "      <td>898.0</td>\n",
       "      <td>897</td>\n",
       "      <td>573</td>\n",
       "      <td>1304</td>\n",
       "    </tr>\n",
       "  </tbody>\n",
       "</table>\n",
       "<p>4 rows × 25 columns</p>\n",
       "</div>"
      ],
      "text/plain": [
       "                   cmplnt_fr_dt cmplnt_fr_tm             cmplnt_to_dt  \\\n",
       "count                   1324339      1324339                  1164540   \n",
       "unique                     1096         1440                     1101   \n",
       "top     2018-01-01T00:00:00.000     12:00:00  2020-06-01T00:00:00.000   \n",
       "freq                       2074        33370                     1459   \n",
       "\n",
       "       cmplnt_to_tm                   rpt_dt      ofns_desc  \\\n",
       "count       1165153                  1324339        1324316   \n",
       "unique         1440                     1096             66   \n",
       "top        12:00:00  2018-07-05T00:00:00.000  PETIT LARCENY   \n",
       "freq          18713                     1610         255901   \n",
       "\n",
       "                      pd_desc crm_atpt_cptd_cd   law_cat_cd   boro_nm  ...  \\\n",
       "count                 1323300          1324339      1324339   1323267  ...   \n",
       "unique                    376                2            3         5  ...   \n",
       "top     HARASSMENT,SUBD 3,4,5        COMPLETED  MISDEMEANOR  BROOKLYN  ...   \n",
       "freq                   150266          1302698       703117    384225  ...   \n",
       "\n",
       "       susp_sex                                            lat_lon  \\\n",
       "count   1006492                                            1324300   \n",
       "unique        3                                             151676   \n",
       "top           M  {'latitude': '40.75043076800005', 'longitude':...   \n",
       "freq     604924                                               2300   \n",
       "\n",
       "              patrol_boro vic_age_group vic_race  vic_sex housing_psa  \\\n",
       "count             1323300       1324335  1324335  1324335     96803.0   \n",
       "unique                  8            74        7        5       915.0   \n",
       "top     PATROL BORO BRONX         25-44  UNKNOWN        F       670.0   \n",
       "freq               289570        479560   383386   524991       898.0   \n",
       "\n",
       "         hadevelopt      parks_nm station_name  \n",
       "count         44805         10678        31023  \n",
       "unique          263           917          370  \n",
       "top     CASTLE HILL  CENTRAL PARK   125 STREET  \n",
       "freq            897           573         1304  \n",
       "\n",
       "[4 rows x 25 columns]"
      ]
     },
     "execution_count": 5,
     "metadata": {},
     "output_type": "execute_result"
    }
   ],
   "source": [
    "ny_df.describe(include=['object'])"
   ]
  },
  {
   "cell_type": "code",
   "execution_count": 6,
   "metadata": {},
   "outputs": [
    {
     "data": {
      "text/plain": [
       "cmplnt_num                 0\n",
       "cmplnt_fr_dt               0\n",
       "cmplnt_fr_tm               0\n",
       "cmplnt_to_dt          159799\n",
       "cmplnt_to_tm          159186\n",
       "addr_pct_cd                3\n",
       "rpt_dt                     0\n",
       "ky_cd                      0\n",
       "ofns_desc                 23\n",
       "pd_cd                   1039\n",
       "pd_desc                 1039\n",
       "crm_atpt_cptd_cd           0\n",
       "law_cat_cd                 0\n",
       "boro_nm                 1072\n",
       "loc_of_occur_desc     232361\n",
       "prem_typ_desc           4884\n",
       "juris_desc                 0\n",
       "jurisdiction_code       1039\n",
       "x_coord_cd                39\n",
       "y_coord_cd                39\n",
       "susp_age_group        317847\n",
       "susp_race             317847\n",
       "susp_sex              317847\n",
       "latitude                  39\n",
       "longitude                 39\n",
       "lat_lon                   39\n",
       "patrol_boro             1039\n",
       "vic_age_group              4\n",
       "vic_race                   4\n",
       "vic_sex                    4\n",
       "housing_psa          1227536\n",
       "hadevelopt           1279534\n",
       "parks_nm             1313661\n",
       "transit_district     1293316\n",
       "station_name         1293316\n",
       "dtype: int64"
      ]
     },
     "execution_count": 6,
     "metadata": {},
     "output_type": "execute_result"
    }
   ],
   "source": [
    "ny_df.isnull().sum()"
   ]
  },
  {
   "cell_type": "markdown",
   "metadata": {},
   "source": [
    "## 2.2 Check offense description for crime classification"
   ]
  },
  {
   "cell_type": "code",
   "execution_count": 7,
   "metadata": {},
   "outputs": [
    {
     "data": {
      "text/plain": [
       "PETIT LARCENY                     255901\n",
       "HARRASSMENT 2                     207771\n",
       "ASSAULT 3 & RELATED OFFENSES      149261\n",
       "CRIMINAL MISCHIEF & RELATED OF    140712\n",
       "GRAND LARCENY                     119456\n",
       "FELONY ASSAULT                     61296\n",
       "OFF. AGNST PUB ORD SENSBLTY &      54915\n",
       "MISCELLANEOUS PENAL LAW            40033\n",
       "ROBBERY                            39341\n",
       "BURGLARY                           37784\n",
       "DANGEROUS DRUGS                    36810\n",
       "OFFENSES AGAINST PUBLIC ADMINI     20579\n",
       "GRAND LARCENY OF MOTOR VEHICLE     19797\n",
       "VEHICLE AND TRAFFIC LAWS           19780\n",
       "DANGEROUS WEAPONS                  19062\n",
       "SEX CRIMES                         17757\n",
       "FORGERY                            11916\n",
       "INTOXICATED & IMPAIRED DRIVING     11724\n",
       "THEFT-FRAUD                         9598\n",
       "CRIMINAL TRESPASS                   8438\n",
       "Name: ofns_desc, dtype: int64"
      ]
     },
     "execution_count": 7,
     "metadata": {},
     "output_type": "execute_result"
    }
   ],
   "source": [
    "# Check offense description\n",
    "ny_df['ofns_desc'].value_counts()[0:20]"
   ]
  },
  {
   "cell_type": "code",
   "execution_count": 8,
   "metadata": {},
   "outputs": [
    {
     "name": "stdout",
     "output_type": "stream",
     "text": [
      "ABORTION                                     1\n",
      "ADMINISTRATIVE CODE                       3013\n",
      "AGRICULTURE & MRKTS LAW-UNCLASSIFIED       363\n",
      "ALCOHOLIC BEVERAGE CONTROL LAW             286\n",
      "ANTICIPATORY OFFENSES                       26\n",
      "ARSON                                     2229\n",
      "ASSAULT 3 & RELATED OFFENSES            149261\n",
      "BURGLAR'S TOOLS                            861\n",
      "BURGLARY                                 37784\n",
      "CHILD ABANDONMENT/NON SUPPORT               54\n",
      "CRIMINAL MISCHIEF & RELATED OF          140712\n",
      "CRIMINAL TRESPASS                         8438\n",
      "DANGEROUS DRUGS                          36810\n",
      "DANGEROUS WEAPONS                        19062\n",
      "DISORDERLY CONDUCT                          93\n",
      "DISRUPTION OF A RELIGIOUS SERV               4\n",
      "ENDAN WELFARE INCOMP                        64\n",
      "ESCAPE 3                                    21\n",
      "FELONY ASSAULT                           61296\n",
      "FELONY SEX CRIMES                           18\n",
      "Name: ofns_desc, dtype: int64\n"
     ]
    }
   ],
   "source": [
    "# Sorting by index\n",
    "print(ny_df['ofns_desc'].value_counts().sort_index()[0:20])"
   ]
  },
  {
   "cell_type": "code",
   "execution_count": 9,
   "metadata": {},
   "outputs": [
    {
     "data": {
      "text/plain": [
       "HARASSMENT,SUBD 3,4,5             150266\n",
       "ASSAULT 3                         118663\n",
       "LARCENY,PETIT FROM STORE-SHOPL     93638\n",
       "HARASSMENT,SUBD 1,CIVILIAN         57505\n",
       "AGGRAVATED HARASSMENT 2            51067\n",
       "                                   ...  \n",
       "FORTUNE TELLING                        1\n",
       "FAC. SEXUAL OFFENSE W/CONTROLL         1\n",
       "HEALTH CODE,VIOLATION                  1\n",
       "NOISE,UNECESSARY                       1\n",
       "PARK R&R,GAMBLING                      1\n",
       "Name: pd_desc, Length: 376, dtype: int64"
      ]
     },
     "execution_count": 9,
     "metadata": {},
     "output_type": "execute_result"
    }
   ],
   "source": [
    "# 'pd_desc'\n",
    "ny_df['pd_desc'].value_counts()"
   ]
  },
  {
   "cell_type": "markdown",
   "metadata": {},
   "source": [
    "- 'pd_desc' attribute has 346 unique values and they are too many and complicate to examine in this anlaysis.\n",
    "- 'pd_desc' attribute will be dropped."
   ]
  },
  {
   "cell_type": "markdown",
   "metadata": {},
   "source": [
    "## 2.3 Other attributes distribution"
   ]
  },
  {
   "cell_type": "code",
   "execution_count": 10,
   "metadata": {},
   "outputs": [
    {
     "data": {
      "text/plain": [
       "BROOKLYN         384225\n",
       "MANHATTAN        324681\n",
       "BRONX            289577\n",
       "QUEENS           268607\n",
       "STATEN ISLAND     56177\n",
       "Name: boro_nm, dtype: int64"
      ]
     },
     "execution_count": 10,
     "metadata": {},
     "output_type": "execute_result"
    }
   ],
   "source": [
    "# 'boro_nm'\n",
    "ny_df['boro_nm'].value_counts()"
   ]
  },
  {
   "cell_type": "code",
   "execution_count": 11,
   "metadata": {},
   "outputs": [
    {
     "data": {
      "text/plain": [
       "PATROL BORO BRONX            289570\n",
       "PATROL BORO BKLYN NORTH      194335\n",
       "PATROL BORO BKLYN SOUTH      189902\n",
       "PATROL BORO MAN SOUTH        162514\n",
       "PATROL BORO MAN NORTH        161878\n",
       "PATROL BORO QUEENS NORTH     139380\n",
       "PATROL BORO QUEENS SOUTH     129548\n",
       "PATROL BORO STATEN ISLAND     56173\n",
       "Name: patrol_boro, dtype: int64"
      ]
     },
     "execution_count": 11,
     "metadata": {},
     "output_type": "execute_result"
    }
   ],
   "source": [
    "# 'patrol_boro'\n",
    "ny_df['patrol_boro'].value_counts()"
   ]
  },
  {
   "cell_type": "markdown",
   "metadata": {},
   "source": [
    "- 'boro_name' attribute may be dropped if we use 'patrol_boro'"
   ]
  },
  {
   "cell_type": "code",
   "execution_count": 12,
   "metadata": {},
   "outputs": [
    {
     "data": {
      "text/plain": [
       "COMPLETED    1302698\n",
       "ATTEMPTED      21641\n",
       "Name: crm_atpt_cptd_cd, dtype: int64"
      ]
     },
     "execution_count": 12,
     "metadata": {},
     "output_type": "execute_result"
    }
   ],
   "source": [
    "# 'crm_atpt_cptd_cd'\n",
    "ny_df['crm_atpt_cptd_cd'].value_counts()"
   ]
  },
  {
   "cell_type": "code",
   "execution_count": 13,
   "metadata": {},
   "outputs": [
    {
     "data": {
      "text/plain": [
       "MISDEMEANOR    703117\n",
       "FELONY         411550\n",
       "VIOLATION      209672\n",
       "Name: law_cat_cd, dtype: int64"
      ]
     },
     "execution_count": 13,
     "metadata": {},
     "output_type": "execute_result"
    }
   ],
   "source": [
    "# 'law_cat_cd'\n",
    "ny_df['law_cat_cd'].value_counts()"
   ]
  },
  {
   "cell_type": "code",
   "execution_count": 14,
   "metadata": {},
   "outputs": [
    {
     "data": {
      "text/plain": [
       "CENTRAL PARK                      573\n",
       "WASHINGTON SQUARE PARK            541\n",
       "FLUSHING MEADOWS CORONA PARK      501\n",
       "CONEY ISLAND BEACH & BOARDWALK    463\n",
       "UNION SQUARE PARK                 284\n",
       "                                 ... \n",
       "WHALEN PARK                         1\n",
       "ABC PLAYGROUND                      1\n",
       "STARS & STRIPES PLAYGROUND          1\n",
       "BLOOMINGDALE PLAYGROUND             1\n",
       "SEDGWICK PLAYGROUND                 1\n",
       "Name: parks_nm, Length: 917, dtype: int64"
      ]
     },
     "execution_count": 14,
     "metadata": {},
     "output_type": "execute_result"
    }
   ],
   "source": [
    "# 'parks_nm'\n",
    "ny_df['parks_nm'].value_counts()"
   ]
  },
  {
   "cell_type": "code",
   "execution_count": 15,
   "metadata": {},
   "outputs": [
    {
     "data": {
      "text/plain": [
       "125 STREET                        1304\n",
       "14 STREET                          763\n",
       "42 ST.-TIMES SQUARE                653\n",
       "42 ST.-PORT AUTHORITY BUS TERM     645\n",
       "34 ST.-PENN STATION                638\n",
       "                                  ... \n",
       "DISTRICT 12 OFFICE                   2\n",
       "DISTRICT 32 OFFICE                   2\n",
       "DISTRICT 34 OFFICE                   1\n",
       "DISTRICT 30 OFFICE                   1\n",
       "DISTRICT 20 OFFICE                   1\n",
       "Name: station_name, Length: 370, dtype: int64"
      ]
     },
     "execution_count": 15,
     "metadata": {},
     "output_type": "execute_result"
    }
   ],
   "source": [
    "# 'station_name'\n",
    "ny_df['station_name'].value_counts()"
   ]
  },
  {
   "cell_type": "code",
   "execution_count": 16,
   "metadata": {},
   "outputs": [
    {
     "data": {
      "text/plain": [
       "UNKNOWN    402918\n",
       "25-44      331978\n",
       "45-64      120061\n",
       "18-24      109571\n",
       "<18         30763\n",
       "65+         11120\n",
       "2019           10\n",
       "2018           10\n",
       "2020           10\n",
       "1018            3\n",
       "-973            2\n",
       "-80             2\n",
       "-965            2\n",
       "-1              2\n",
       "929             2\n",
       "924             2\n",
       "-968            2\n",
       "-966            2\n",
       "928             2\n",
       "1019            1\n",
       "1967            1\n",
       "-942            1\n",
       "938             1\n",
       "1017            1\n",
       "-939            1\n",
       "947             1\n",
       "-12             1\n",
       "-964            1\n",
       "-977            1\n",
       "948             1\n",
       "-64             1\n",
       "955             1\n",
       "920             1\n",
       "952             1\n",
       "-962            1\n",
       "-2              1\n",
       "-928            1\n",
       "940             1\n",
       "-941            1\n",
       "1925            1\n",
       "1020            1\n",
       "-63             1\n",
       "930             1\n",
       "954             1\n",
       "922             1\n",
       "1012            1\n",
       "-974            1\n",
       "-978            1\n",
       "-71             1\n",
       "Name: susp_age_group, dtype: int64"
      ]
     },
     "execution_count": 16,
     "metadata": {},
     "output_type": "execute_result"
    }
   ],
   "source": [
    "# 'susp_age_group'\n",
    "ny_df['susp_age_group'].value_counts()"
   ]
  },
  {
   "cell_type": "markdown",
   "metadata": {},
   "source": [
    "- Need data imputation or cleaning for 'susp_age_group'"
   ]
  },
  {
   "cell_type": "code",
   "execution_count": 17,
   "metadata": {},
   "outputs": [
    {
     "data": {
      "text/plain": [
       "BLACK                             376939\n",
       "UNKNOWN                           265068\n",
       "WHITE HISPANIC                    171680\n",
       "WHITE                              98681\n",
       "BLACK HISPANIC                     54316\n",
       "ASIAN / PACIFIC ISLANDER           36951\n",
       "AMERICAN INDIAN/ALASKAN NATIVE      2857\n",
       "Name: susp_race, dtype: int64"
      ]
     },
     "execution_count": 17,
     "metadata": {},
     "output_type": "execute_result"
    }
   ],
   "source": [
    "# 'susp_race'\n",
    "ny_df['susp_race'].value_counts()"
   ]
  },
  {
   "cell_type": "code",
   "execution_count": 18,
   "metadata": {},
   "outputs": [
    {
     "data": {
      "text/plain": [
       "M    604924\n",
       "U    223132\n",
       "F    178436\n",
       "Name: susp_sex, dtype: int64"
      ]
     },
     "execution_count": 18,
     "metadata": {},
     "output_type": "execute_result"
    }
   ],
   "source": [
    "# 'susp_sex'\n",
    "ny_df['susp_sex'].value_counts()"
   ]
  },
  {
   "cell_type": "code",
   "execution_count": 19,
   "metadata": {},
   "outputs": [
    {
     "data": {
      "text/plain": [
       "25-44      479560\n",
       "UNKNOWN    356511\n",
       "45-64      254637\n",
       "18-24      125672\n",
       "65+         57628\n",
       "            ...  \n",
       "965             1\n",
       "957             1\n",
       "-972            1\n",
       "-59             1\n",
       "-71             1\n",
       "Name: vic_age_group, Length: 74, dtype: int64"
      ]
     },
     "execution_count": 19,
     "metadata": {},
     "output_type": "execute_result"
    }
   ],
   "source": [
    "# 'vic_age_group'\n",
    "ny_df['vic_age_group'].value_counts()"
   ]
  },
  {
   "cell_type": "markdown",
   "metadata": {},
   "source": [
    "- Need data imputation or cleaning for 'vic_age_group'"
   ]
  },
  {
   "cell_type": "code",
   "execution_count": 20,
   "metadata": {},
   "outputs": [
    {
     "data": {
      "text/plain": [
       "UNKNOWN                           383386\n",
       "BLACK                             338870\n",
       "WHITE HISPANIC                    232684\n",
       "WHITE                             210152\n",
       "ASIAN / PACIFIC ISLANDER           98492\n",
       "BLACK HISPANIC                     54213\n",
       "AMERICAN INDIAN/ALASKAN NATIVE      6538\n",
       "Name: vic_race, dtype: int64"
      ]
     },
     "execution_count": 20,
     "metadata": {},
     "output_type": "execute_result"
    }
   ],
   "source": [
    "# 'vic_race'\n",
    "ny_df['vic_race'].value_counts()"
   ]
  },
  {
   "cell_type": "code",
   "execution_count": 21,
   "metadata": {},
   "outputs": [
    {
     "data": {
      "text/plain": [
       "F    524991\n",
       "M    468881\n",
       "D    193167\n",
       "E    137295\n",
       "U         1\n",
       "Name: vic_sex, dtype: int64"
      ]
     },
     "execution_count": 21,
     "metadata": {},
     "output_type": "execute_result"
    }
   ],
   "source": [
    "# 'vic_sex'\n",
    "ny_df['vic_sex'].value_counts()"
   ]
  },
  {
   "cell_type": "code",
   "execution_count": 22,
   "metadata": {},
   "outputs": [
    {
     "data": {
      "text/plain": [
       "4.0     4484\n",
       "2.0     4314\n",
       "1.0     3522\n",
       "3.0     2806\n",
       "11.0    2615\n",
       "20.0    2475\n",
       "33.0    2447\n",
       "12.0    2285\n",
       "30.0    2174\n",
       "32.0    2064\n",
       "34.0    1387\n",
       "23.0     450\n",
       "Name: transit_district, dtype: int64"
      ]
     },
     "execution_count": 22,
     "metadata": {},
     "output_type": "execute_result"
    }
   ],
   "source": [
    "# 'transit_district'\n",
    "ny_df['transit_district'].value_counts()"
   ]
  },
  {
   "cell_type": "markdown",
   "metadata": {},
   "source": [
    "- 'transit_district' attribute will be dropped."
   ]
  },
  {
   "cell_type": "markdown",
   "metadata": {},
   "source": [
    "## 2.4 Data Cleaning\n",
    "### 2.4.1 Drop attributes"
   ]
  },
  {
   "cell_type": "markdown",
   "metadata": {},
   "source": [
    "- Drop unnecessary columns (attributes)\n",
    "- Data cleaning and imputation\n",
    "- 'cmplnt_num' is not necesssary for the data analysis, but they are retained for book-keeping and further reference."
   ]
  },
  {
   "cell_type": "code",
   "execution_count": 23,
   "metadata": {},
   "outputs": [],
   "source": [
    "attributes_to_drop = ['addr_pct_cd', 'cmplnt_to_dt', 'cmplnt_to_tm', 'rpt_dt', 'ky_cd', \n",
    "                      'pd_cd', 'pd_desc', 'boro_nm', 'juris_desc', 'jurisdiction_code', 'x_coord_cd', 'y_coord_cd',\n",
    "                      'lat_lon', 'housing_psa', 'hadevelopt', 'transit_district']\n",
    "ny_dfr = ny_df.drop(attributes_to_drop, axis = 1)"
   ]
  },
  {
   "cell_type": "code",
   "execution_count": 24,
   "metadata": {},
   "outputs": [
    {
     "data": {
      "text/html": [
       "<div>\n",
       "<style scoped>\n",
       "    .dataframe tbody tr th:only-of-type {\n",
       "        vertical-align: middle;\n",
       "    }\n",
       "\n",
       "    .dataframe tbody tr th {\n",
       "        vertical-align: top;\n",
       "    }\n",
       "\n",
       "    .dataframe thead th {\n",
       "        text-align: right;\n",
       "    }\n",
       "</style>\n",
       "<table border=\"1\" class=\"dataframe\">\n",
       "  <thead>\n",
       "    <tr style=\"text-align: right;\">\n",
       "      <th></th>\n",
       "      <th>cmplnt_num</th>\n",
       "      <th>cmplnt_fr_dt</th>\n",
       "      <th>cmplnt_fr_tm</th>\n",
       "      <th>ofns_desc</th>\n",
       "      <th>crm_atpt_cptd_cd</th>\n",
       "      <th>law_cat_cd</th>\n",
       "      <th>loc_of_occur_desc</th>\n",
       "      <th>prem_typ_desc</th>\n",
       "      <th>susp_age_group</th>\n",
       "      <th>susp_race</th>\n",
       "      <th>susp_sex</th>\n",
       "      <th>latitude</th>\n",
       "      <th>longitude</th>\n",
       "      <th>patrol_boro</th>\n",
       "      <th>vic_age_group</th>\n",
       "      <th>vic_race</th>\n",
       "      <th>vic_sex</th>\n",
       "      <th>parks_nm</th>\n",
       "      <th>station_name</th>\n",
       "    </tr>\n",
       "  </thead>\n",
       "  <tbody>\n",
       "    <tr>\n",
       "      <th>0</th>\n",
       "      <td>947161850</td>\n",
       "      <td>2018-01-01T00:00:00.000</td>\n",
       "      <td>08:00:00</td>\n",
       "      <td>GRAND LARCENY</td>\n",
       "      <td>COMPLETED</td>\n",
       "      <td>FELONY</td>\n",
       "      <td>INSIDE</td>\n",
       "      <td>COMMERCIAL BUILDING</td>\n",
       "      <td>25-44</td>\n",
       "      <td>BLACK</td>\n",
       "      <td>F</td>\n",
       "      <td>40.742834</td>\n",
       "      <td>-73.998428</td>\n",
       "      <td>PATROL BORO MAN SOUTH</td>\n",
       "      <td>UNKNOWN</td>\n",
       "      <td>UNKNOWN</td>\n",
       "      <td>D</td>\n",
       "      <td>NaN</td>\n",
       "      <td>NaN</td>\n",
       "    </tr>\n",
       "    <tr>\n",
       "      <th>1</th>\n",
       "      <td>963870686</td>\n",
       "      <td>2018-01-01T00:00:00.000</td>\n",
       "      <td>00:01:00</td>\n",
       "      <td>GRAND LARCENY</td>\n",
       "      <td>COMPLETED</td>\n",
       "      <td>FELONY</td>\n",
       "      <td>INSIDE</td>\n",
       "      <td>RESIDENCE-HOUSE</td>\n",
       "      <td>UNKNOWN</td>\n",
       "      <td>UNKNOWN</td>\n",
       "      <td>U</td>\n",
       "      <td>40.712714</td>\n",
       "      <td>-73.769931</td>\n",
       "      <td>PATROL BORO QUEENS SOUTH</td>\n",
       "      <td>18-24</td>\n",
       "      <td>BLACK</td>\n",
       "      <td>M</td>\n",
       "      <td>NaN</td>\n",
       "      <td>NaN</td>\n",
       "    </tr>\n",
       "    <tr>\n",
       "      <th>2</th>\n",
       "      <td>923975917</td>\n",
       "      <td>2018-01-01T00:00:00.000</td>\n",
       "      <td>07:00:00</td>\n",
       "      <td>CRIMINAL MISCHIEF &amp; RELATED OF</td>\n",
       "      <td>COMPLETED</td>\n",
       "      <td>FELONY</td>\n",
       "      <td>INSIDE</td>\n",
       "      <td>ABANDONED BUILDING</td>\n",
       "      <td>NaN</td>\n",
       "      <td>NaN</td>\n",
       "      <td>NaN</td>\n",
       "      <td>40.730041</td>\n",
       "      <td>-73.851655</td>\n",
       "      <td>PATROL BORO QUEENS NORTH</td>\n",
       "      <td>25-44</td>\n",
       "      <td>WHITE</td>\n",
       "      <td>F</td>\n",
       "      <td>NaN</td>\n",
       "      <td>NaN</td>\n",
       "    </tr>\n",
       "    <tr>\n",
       "      <th>3</th>\n",
       "      <td>553803536</td>\n",
       "      <td>2018-01-01T00:00:00.000</td>\n",
       "      <td>00:01:00</td>\n",
       "      <td>SEX CRIMES</td>\n",
       "      <td>COMPLETED</td>\n",
       "      <td>MISDEMEANOR</td>\n",
       "      <td>INSIDE</td>\n",
       "      <td>RESIDENCE-HOUSE</td>\n",
       "      <td>UNKNOWN</td>\n",
       "      <td>UNKNOWN</td>\n",
       "      <td>U</td>\n",
       "      <td>40.716196</td>\n",
       "      <td>-73.997491</td>\n",
       "      <td>PATROL BORO MAN SOUTH</td>\n",
       "      <td>&lt;18</td>\n",
       "      <td>BLACK</td>\n",
       "      <td>F</td>\n",
       "      <td>NaN</td>\n",
       "      <td>NaN</td>\n",
       "    </tr>\n",
       "    <tr>\n",
       "      <th>4</th>\n",
       "      <td>994797810</td>\n",
       "      <td>2018-01-01T00:00:00.000</td>\n",
       "      <td>12:00:00</td>\n",
       "      <td>SEX CRIMES</td>\n",
       "      <td>COMPLETED</td>\n",
       "      <td>MISDEMEANOR</td>\n",
       "      <td>INSIDE</td>\n",
       "      <td>RESIDENCE - APT. HOUSE</td>\n",
       "      <td>18-24</td>\n",
       "      <td>UNKNOWN</td>\n",
       "      <td>F</td>\n",
       "      <td>40.674583</td>\n",
       "      <td>-73.930222</td>\n",
       "      <td>PATROL BORO BKLYN NORTH</td>\n",
       "      <td>&lt;18</td>\n",
       "      <td>BLACK</td>\n",
       "      <td>M</td>\n",
       "      <td>NaN</td>\n",
       "      <td>NaN</td>\n",
       "    </tr>\n",
       "    <tr>\n",
       "      <th>...</th>\n",
       "      <td>...</td>\n",
       "      <td>...</td>\n",
       "      <td>...</td>\n",
       "      <td>...</td>\n",
       "      <td>...</td>\n",
       "      <td>...</td>\n",
       "      <td>...</td>\n",
       "      <td>...</td>\n",
       "      <td>...</td>\n",
       "      <td>...</td>\n",
       "      <td>...</td>\n",
       "      <td>...</td>\n",
       "      <td>...</td>\n",
       "      <td>...</td>\n",
       "      <td>...</td>\n",
       "      <td>...</td>\n",
       "      <td>...</td>\n",
       "      <td>...</td>\n",
       "      <td>...</td>\n",
       "    </tr>\n",
       "    <tr>\n",
       "      <th>1324334</th>\n",
       "      <td>165691435</td>\n",
       "      <td>2020-12-31T00:00:00.000</td>\n",
       "      <td>20:40:00</td>\n",
       "      <td>DANGEROUS WEAPONS</td>\n",
       "      <td>COMPLETED</td>\n",
       "      <td>FELONY</td>\n",
       "      <td>NaN</td>\n",
       "      <td>STREET</td>\n",
       "      <td>NaN</td>\n",
       "      <td>NaN</td>\n",
       "      <td>NaN</td>\n",
       "      <td>40.679739</td>\n",
       "      <td>-73.937398</td>\n",
       "      <td>PATROL BORO BKLYN NORTH</td>\n",
       "      <td>UNKNOWN</td>\n",
       "      <td>UNKNOWN</td>\n",
       "      <td>E</td>\n",
       "      <td>NaN</td>\n",
       "      <td>NaN</td>\n",
       "    </tr>\n",
       "    <tr>\n",
       "      <th>1324335</th>\n",
       "      <td>408014308</td>\n",
       "      <td>2020-12-31T00:00:00.000</td>\n",
       "      <td>15:00:00</td>\n",
       "      <td>PETIT LARCENY</td>\n",
       "      <td>COMPLETED</td>\n",
       "      <td>MISDEMEANOR</td>\n",
       "      <td>FRONT OF</td>\n",
       "      <td>RESIDENCE - PUBLIC HOUSING</td>\n",
       "      <td>UNKNOWN</td>\n",
       "      <td>UNKNOWN</td>\n",
       "      <td>U</td>\n",
       "      <td>40.723803</td>\n",
       "      <td>-73.979069</td>\n",
       "      <td>PATROL BORO MAN SOUTH</td>\n",
       "      <td>45-64</td>\n",
       "      <td>WHITE HISPANIC</td>\n",
       "      <td>M</td>\n",
       "      <td>NaN</td>\n",
       "      <td>NaN</td>\n",
       "    </tr>\n",
       "    <tr>\n",
       "      <th>1324336</th>\n",
       "      <td>152189917</td>\n",
       "      <td>2020-12-31T00:00:00.000</td>\n",
       "      <td>21:30:00</td>\n",
       "      <td>GRAND LARCENY</td>\n",
       "      <td>COMPLETED</td>\n",
       "      <td>FELONY</td>\n",
       "      <td>INSIDE</td>\n",
       "      <td>HOTEL/MOTEL</td>\n",
       "      <td>NaN</td>\n",
       "      <td>NaN</td>\n",
       "      <td>NaN</td>\n",
       "      <td>40.782077</td>\n",
       "      <td>-73.980835</td>\n",
       "      <td>PATROL BORO MAN NORTH</td>\n",
       "      <td>25-44</td>\n",
       "      <td>WHITE HISPANIC</td>\n",
       "      <td>F</td>\n",
       "      <td>NaN</td>\n",
       "      <td>NaN</td>\n",
       "    </tr>\n",
       "    <tr>\n",
       "      <th>1324337</th>\n",
       "      <td>819066061</td>\n",
       "      <td>2020-12-31T00:00:00.000</td>\n",
       "      <td>20:22:00</td>\n",
       "      <td>DANGEROUS WEAPONS</td>\n",
       "      <td>COMPLETED</td>\n",
       "      <td>FELONY</td>\n",
       "      <td>NaN</td>\n",
       "      <td>STREET</td>\n",
       "      <td>NaN</td>\n",
       "      <td>NaN</td>\n",
       "      <td>NaN</td>\n",
       "      <td>40.669345</td>\n",
       "      <td>-73.873801</td>\n",
       "      <td>PATROL BORO BKLYN NORTH</td>\n",
       "      <td>UNKNOWN</td>\n",
       "      <td>UNKNOWN</td>\n",
       "      <td>E</td>\n",
       "      <td>NaN</td>\n",
       "      <td>NaN</td>\n",
       "    </tr>\n",
       "    <tr>\n",
       "      <th>1324338</th>\n",
       "      <td>675684827</td>\n",
       "      <td>2020-12-31T00:00:00.000</td>\n",
       "      <td>00:42:00</td>\n",
       "      <td>ROBBERY</td>\n",
       "      <td>COMPLETED</td>\n",
       "      <td>FELONY</td>\n",
       "      <td>INSIDE</td>\n",
       "      <td>BEAUTY &amp; NAIL SALON</td>\n",
       "      <td>UNKNOWN</td>\n",
       "      <td>UNKNOWN</td>\n",
       "      <td>M</td>\n",
       "      <td>40.837978</td>\n",
       "      <td>-73.907149</td>\n",
       "      <td>PATROL BORO BRONX</td>\n",
       "      <td>25-44</td>\n",
       "      <td>WHITE HISPANIC</td>\n",
       "      <td>M</td>\n",
       "      <td>NaN</td>\n",
       "      <td>NaN</td>\n",
       "    </tr>\n",
       "  </tbody>\n",
       "</table>\n",
       "<p>1324339 rows × 19 columns</p>\n",
       "</div>"
      ],
      "text/plain": [
       "         cmplnt_num             cmplnt_fr_dt cmplnt_fr_tm  \\\n",
       "0         947161850  2018-01-01T00:00:00.000     08:00:00   \n",
       "1         963870686  2018-01-01T00:00:00.000     00:01:00   \n",
       "2         923975917  2018-01-01T00:00:00.000     07:00:00   \n",
       "3         553803536  2018-01-01T00:00:00.000     00:01:00   \n",
       "4         994797810  2018-01-01T00:00:00.000     12:00:00   \n",
       "...             ...                      ...          ...   \n",
       "1324334   165691435  2020-12-31T00:00:00.000     20:40:00   \n",
       "1324335   408014308  2020-12-31T00:00:00.000     15:00:00   \n",
       "1324336   152189917  2020-12-31T00:00:00.000     21:30:00   \n",
       "1324337   819066061  2020-12-31T00:00:00.000     20:22:00   \n",
       "1324338   675684827  2020-12-31T00:00:00.000     00:42:00   \n",
       "\n",
       "                              ofns_desc crm_atpt_cptd_cd   law_cat_cd  \\\n",
       "0                         GRAND LARCENY        COMPLETED       FELONY   \n",
       "1                         GRAND LARCENY        COMPLETED       FELONY   \n",
       "2        CRIMINAL MISCHIEF & RELATED OF        COMPLETED       FELONY   \n",
       "3                            SEX CRIMES        COMPLETED  MISDEMEANOR   \n",
       "4                            SEX CRIMES        COMPLETED  MISDEMEANOR   \n",
       "...                                 ...              ...          ...   \n",
       "1324334               DANGEROUS WEAPONS        COMPLETED       FELONY   \n",
       "1324335                   PETIT LARCENY        COMPLETED  MISDEMEANOR   \n",
       "1324336                   GRAND LARCENY        COMPLETED       FELONY   \n",
       "1324337               DANGEROUS WEAPONS        COMPLETED       FELONY   \n",
       "1324338                         ROBBERY        COMPLETED       FELONY   \n",
       "\n",
       "        loc_of_occur_desc               prem_typ_desc susp_age_group  \\\n",
       "0                  INSIDE         COMMERCIAL BUILDING          25-44   \n",
       "1                  INSIDE             RESIDENCE-HOUSE        UNKNOWN   \n",
       "2                  INSIDE          ABANDONED BUILDING            NaN   \n",
       "3                  INSIDE             RESIDENCE-HOUSE        UNKNOWN   \n",
       "4                  INSIDE      RESIDENCE - APT. HOUSE          18-24   \n",
       "...                   ...                         ...            ...   \n",
       "1324334               NaN                      STREET            NaN   \n",
       "1324335          FRONT OF  RESIDENCE - PUBLIC HOUSING        UNKNOWN   \n",
       "1324336            INSIDE                 HOTEL/MOTEL            NaN   \n",
       "1324337               NaN                      STREET            NaN   \n",
       "1324338            INSIDE         BEAUTY & NAIL SALON        UNKNOWN   \n",
       "\n",
       "        susp_race susp_sex   latitude  longitude               patrol_boro  \\\n",
       "0           BLACK        F  40.742834 -73.998428     PATROL BORO MAN SOUTH   \n",
       "1         UNKNOWN        U  40.712714 -73.769931  PATROL BORO QUEENS SOUTH   \n",
       "2             NaN      NaN  40.730041 -73.851655  PATROL BORO QUEENS NORTH   \n",
       "3         UNKNOWN        U  40.716196 -73.997491     PATROL BORO MAN SOUTH   \n",
       "4         UNKNOWN        F  40.674583 -73.930222   PATROL BORO BKLYN NORTH   \n",
       "...           ...      ...        ...        ...                       ...   \n",
       "1324334       NaN      NaN  40.679739 -73.937398   PATROL BORO BKLYN NORTH   \n",
       "1324335   UNKNOWN        U  40.723803 -73.979069     PATROL BORO MAN SOUTH   \n",
       "1324336       NaN      NaN  40.782077 -73.980835     PATROL BORO MAN NORTH   \n",
       "1324337       NaN      NaN  40.669345 -73.873801   PATROL BORO BKLYN NORTH   \n",
       "1324338   UNKNOWN        M  40.837978 -73.907149         PATROL BORO BRONX   \n",
       "\n",
       "        vic_age_group        vic_race vic_sex parks_nm station_name  \n",
       "0             UNKNOWN         UNKNOWN       D      NaN          NaN  \n",
       "1               18-24           BLACK       M      NaN          NaN  \n",
       "2               25-44           WHITE       F      NaN          NaN  \n",
       "3                 <18           BLACK       F      NaN          NaN  \n",
       "4                 <18           BLACK       M      NaN          NaN  \n",
       "...               ...             ...     ...      ...          ...  \n",
       "1324334       UNKNOWN         UNKNOWN       E      NaN          NaN  \n",
       "1324335         45-64  WHITE HISPANIC       M      NaN          NaN  \n",
       "1324336         25-44  WHITE HISPANIC       F      NaN          NaN  \n",
       "1324337       UNKNOWN         UNKNOWN       E      NaN          NaN  \n",
       "1324338         25-44  WHITE HISPANIC       M      NaN          NaN  \n",
       "\n",
       "[1324339 rows x 19 columns]"
      ]
     },
     "execution_count": 24,
     "metadata": {},
     "output_type": "execute_result"
    }
   ],
   "source": [
    "ny_dfr"
   ]
  },
  {
   "cell_type": "code",
   "execution_count": 25,
   "metadata": {},
   "outputs": [
    {
     "name": "stdout",
     "output_type": "stream",
     "text": [
      "<class 'pandas.core.frame.DataFrame'>\n",
      "RangeIndex: 1324339 entries, 0 to 1324338\n",
      "Data columns (total 19 columns):\n",
      " #   Column             Non-Null Count    Dtype  \n",
      "---  ------             --------------    -----  \n",
      " 0   cmplnt_num         1324339 non-null  int64  \n",
      " 1   cmplnt_fr_dt       1324339 non-null  object \n",
      " 2   cmplnt_fr_tm       1324339 non-null  object \n",
      " 3   ofns_desc          1324316 non-null  object \n",
      " 4   crm_atpt_cptd_cd   1324339 non-null  object \n",
      " 5   law_cat_cd         1324339 non-null  object \n",
      " 6   loc_of_occur_desc  1091978 non-null  object \n",
      " 7   prem_typ_desc      1319455 non-null  object \n",
      " 8   susp_age_group     1006492 non-null  object \n",
      " 9   susp_race          1006492 non-null  object \n",
      " 10  susp_sex           1006492 non-null  object \n",
      " 11  latitude           1324300 non-null  float64\n",
      " 12  longitude          1324300 non-null  float64\n",
      " 13  patrol_boro        1323300 non-null  object \n",
      " 14  vic_age_group      1324335 non-null  object \n",
      " 15  vic_race           1324335 non-null  object \n",
      " 16  vic_sex            1324335 non-null  object \n",
      " 17  parks_nm           10678 non-null    object \n",
      " 18  station_name       31023 non-null    object \n",
      "dtypes: float64(2), int64(1), object(16)\n",
      "memory usage: 192.0+ MB\n"
     ]
    }
   ],
   "source": [
    "ny_dfr.info()"
   ]
  },
  {
   "cell_type": "markdown",
   "metadata": {},
   "source": [
    "### 2.4.2 Remove rows with null values"
   ]
  },
  {
   "cell_type": "code",
   "execution_count": 26,
   "metadata": {},
   "outputs": [
    {
     "data": {
      "text/plain": [
       "cmplnt_num                 0\n",
       "cmplnt_fr_dt               0\n",
       "cmplnt_fr_tm               0\n",
       "ofns_desc                 23\n",
       "crm_atpt_cptd_cd           0\n",
       "law_cat_cd                 0\n",
       "loc_of_occur_desc     232361\n",
       "prem_typ_desc           4884\n",
       "susp_age_group        317847\n",
       "susp_race             317847\n",
       "susp_sex              317847\n",
       "latitude                  39\n",
       "longitude                 39\n",
       "patrol_boro             1039\n",
       "vic_age_group              4\n",
       "vic_race                   4\n",
       "vic_sex                    4\n",
       "parks_nm             1313661\n",
       "station_name         1293316\n",
       "dtype: int64"
      ]
     },
     "execution_count": 26,
     "metadata": {},
     "output_type": "execute_result"
    }
   ],
   "source": [
    "ny_dfr.isnull().sum()"
   ]
  },
  {
   "cell_type": "markdown",
   "metadata": {},
   "source": [
    "- Data without offense description will be removed.\n",
    "- Data without location will be removed\n",
    "- Attributes to remove rows: 'ofns_desc', 'latitude', 'patrol_boro'."
   ]
  },
  {
   "cell_type": "code",
   "execution_count": 27,
   "metadata": {},
   "outputs": [],
   "source": [
    "subset_row_removal = [\"ofns_desc\", \"latitude\", \"patrol_boro\",\"prem_typ_desc\"]\n",
    "ny_dfr = ny_dfr.dropna(subset = subset_row_removal)"
   ]
  },
  {
   "cell_type": "code",
   "execution_count": 28,
   "metadata": {},
   "outputs": [
    {
     "name": "stdout",
     "output_type": "stream",
     "text": [
      "<class 'pandas.core.frame.DataFrame'>\n",
      "Int64Index: 1319398 entries, 0 to 1324338\n",
      "Data columns (total 19 columns):\n",
      " #   Column             Non-Null Count    Dtype  \n",
      "---  ------             --------------    -----  \n",
      " 0   cmplnt_num         1319398 non-null  int64  \n",
      " 1   cmplnt_fr_dt       1319398 non-null  object \n",
      " 2   cmplnt_fr_tm       1319398 non-null  object \n",
      " 3   ofns_desc          1319398 non-null  object \n",
      " 4   crm_atpt_cptd_cd   1319398 non-null  object \n",
      " 5   law_cat_cd         1319398 non-null  object \n",
      " 6   loc_of_occur_desc  1087287 non-null  object \n",
      " 7   prem_typ_desc      1319398 non-null  object \n",
      " 8   susp_age_group     1003027 non-null  object \n",
      " 9   susp_race          1003027 non-null  object \n",
      " 10  susp_sex           1003027 non-null  object \n",
      " 11  latitude           1319398 non-null  float64\n",
      " 12  longitude          1319398 non-null  float64\n",
      " 13  patrol_boro        1319398 non-null  object \n",
      " 14  vic_age_group      1319394 non-null  object \n",
      " 15  vic_race           1319394 non-null  object \n",
      " 16  vic_sex            1319394 non-null  object \n",
      " 17  parks_nm           10664 non-null    object \n",
      " 18  station_name       31023 non-null    object \n",
      "dtypes: float64(2), int64(1), object(16)\n",
      "memory usage: 201.3+ MB\n"
     ]
    }
   ],
   "source": [
    "ny_dfr.info()"
   ]
  },
  {
   "cell_type": "code",
   "execution_count": 29,
   "metadata": {},
   "outputs": [
    {
     "data": {
      "text/plain": [
       "cmplnt_num                 0\n",
       "cmplnt_fr_dt               0\n",
       "cmplnt_fr_tm               0\n",
       "ofns_desc                  0\n",
       "crm_atpt_cptd_cd           0\n",
       "law_cat_cd                 0\n",
       "loc_of_occur_desc     232111\n",
       "prem_typ_desc              0\n",
       "susp_age_group        316371\n",
       "susp_race             316371\n",
       "susp_sex              316371\n",
       "latitude                   0\n",
       "longitude                  0\n",
       "patrol_boro                0\n",
       "vic_age_group              4\n",
       "vic_race                   4\n",
       "vic_sex                    4\n",
       "parks_nm             1308734\n",
       "station_name         1288375\n",
       "dtype: int64"
      ]
     },
     "execution_count": 29,
     "metadata": {},
     "output_type": "execute_result"
    }
   ],
   "source": [
    "ny_dfr.isnull().sum()"
   ]
  },
  {
   "cell_type": "markdown",
   "metadata": {},
   "source": [
    "### 2.4.3 Data imputation for missing values"
   ]
  },
  {
   "cell_type": "code",
   "execution_count": 30,
   "metadata": {},
   "outputs": [
    {
     "name": "stderr",
     "output_type": "stream",
     "text": [
      "C:\\ProgramData\\Anaconda3\\lib\\site-packages\\pandas\\core\\series.py:4517: SettingWithCopyWarning: \n",
      "A value is trying to be set on a copy of a slice from a DataFrame\n",
      "\n",
      "See the caveats in the documentation: https://pandas.pydata.org/pandas-docs/stable/user_guide/indexing.html#returning-a-view-versus-a-copy\n",
      "  return super().fillna(\n"
     ]
    }
   ],
   "source": [
    "# Place 'NA' for park and station name attributes\n",
    "ny_dfr['parks_nm'].fillna('NA', inplace=True)\n",
    "ny_dfr['station_name'].fillna('NA', inplace=True)"
   ]
  },
  {
   "cell_type": "code",
   "execution_count": 31,
   "metadata": {},
   "outputs": [],
   "source": [
    "# Place 'blank' where there are blanks\n",
    "ny_dfr['susp_age_group'].fillna('UNKNOWN', inplace=True)\n",
    "ny_dfr['susp_race'].fillna('UNKNOWN', inplace=True)\n",
    "ny_dfr['susp_sex'].fillna('UNKNOWN', inplace=True)"
   ]
  },
  {
   "cell_type": "code",
   "execution_count": 32,
   "metadata": {},
   "outputs": [
    {
     "data": {
      "text/plain": [
       "cmplnt_num                0\n",
       "cmplnt_fr_dt              0\n",
       "cmplnt_fr_tm              0\n",
       "ofns_desc                 0\n",
       "crm_atpt_cptd_cd          0\n",
       "law_cat_cd                0\n",
       "loc_of_occur_desc    232111\n",
       "prem_typ_desc             0\n",
       "susp_age_group            0\n",
       "susp_race                 0\n",
       "susp_sex                  0\n",
       "latitude                  0\n",
       "longitude                 0\n",
       "patrol_boro               0\n",
       "vic_age_group             4\n",
       "vic_race                  4\n",
       "vic_sex                   4\n",
       "parks_nm                  0\n",
       "station_name              0\n",
       "dtype: int64"
      ]
     },
     "execution_count": 32,
     "metadata": {},
     "output_type": "execute_result"
    }
   ],
   "source": [
    "ny_dfr.isnull().sum()"
   ]
  },
  {
   "cell_type": "code",
   "execution_count": 33,
   "metadata": {},
   "outputs": [
    {
     "data": {
      "text/plain": [
       "INSIDE         709839\n",
       "FRONT OF       322327\n",
       "OPPOSITE OF     30272\n",
       "REAR OF         24849\n",
       "Name: loc_of_occur_desc, dtype: int64"
      ]
     },
     "execution_count": 33,
     "metadata": {},
     "output_type": "execute_result"
    }
   ],
   "source": [
    "ny_dfr['loc_of_occur_desc'].value_counts()"
   ]
  },
  {
   "cell_type": "code",
   "execution_count": 34,
   "metadata": {},
   "outputs": [
    {
     "data": {
      "text/plain": [
       "STREET                        377713\n",
       "RESIDENCE - APT. HOUSE        299816\n",
       "RESIDENCE-HOUSE               131236\n",
       "RESIDENCE - PUBLIC HOUSING     95980\n",
       "CHAIN STORE                    46063\n",
       "OTHER                          37355\n",
       "COMMERCIAL BUILDING            33611\n",
       "TRANSIT - NYC SUBWAY           30647\n",
       "DEPARTMENT STORE               27786\n",
       "GROCERY/BODEGA                 23104\n",
       "DRUG STORE                     22274\n",
       "RESTAURANT/DINER               16941\n",
       "PARK/PLAYGROUND                12213\n",
       "CLOTHING/BOUTIQUE              11771\n",
       "BAR/NIGHT CLUB                 11164\n",
       "PUBLIC SCHOOL                   8969\n",
       "HOTEL/MOTEL                     8382\n",
       "FAST FOOD                       8132\n",
       "FOOD SUPERMARKET                7709\n",
       "HOSPITAL                        6642\n",
       "Name: prem_typ_desc, dtype: int64"
      ]
     },
     "execution_count": 34,
     "metadata": {},
     "output_type": "execute_result"
    }
   ],
   "source": [
    "ny_dfr['prem_typ_desc'].value_counts()[0:20]"
   ]
  },
  {
   "cell_type": "code",
   "execution_count": 35,
   "metadata": {},
   "outputs": [],
   "source": [
    "# Place 'blank' where there are blanks\n",
    "ny_dfr['loc_of_occur_desc'].fillna('NA', inplace=True)"
   ]
  },
  {
   "cell_type": "code",
   "execution_count": 36,
   "metadata": {},
   "outputs": [],
   "source": [
    "ny_dfr = ny_dfr.dropna(subset =['vic_age_group'])"
   ]
  },
  {
   "cell_type": "code",
   "execution_count": 37,
   "metadata": {},
   "outputs": [
    {
     "data": {
      "text/plain": [
       "cmplnt_num           0\n",
       "cmplnt_fr_dt         0\n",
       "cmplnt_fr_tm         0\n",
       "ofns_desc            0\n",
       "crm_atpt_cptd_cd     0\n",
       "law_cat_cd           0\n",
       "loc_of_occur_desc    0\n",
       "prem_typ_desc        0\n",
       "susp_age_group       0\n",
       "susp_race            0\n",
       "susp_sex             0\n",
       "latitude             0\n",
       "longitude            0\n",
       "patrol_boro          0\n",
       "vic_age_group        0\n",
       "vic_race             0\n",
       "vic_sex              0\n",
       "parks_nm             0\n",
       "station_name         0\n",
       "dtype: int64"
      ]
     },
     "execution_count": 37,
     "metadata": {},
     "output_type": "execute_result"
    }
   ],
   "source": [
    "ny_dfr.isnull().sum()"
   ]
  },
  {
   "cell_type": "code",
   "execution_count": 38,
   "metadata": {},
   "outputs": [
    {
     "data": {
      "text/plain": [
       "UNKNOWN    717812\n",
       "25-44      331039\n",
       "45-64      119760\n",
       "18-24      109047\n",
       "<18         30566\n",
       "65+         11089\n",
       "2019           10\n",
       "2018           10\n",
       "2020           10\n",
       "1018            3\n",
       "-973            2\n",
       "-80             2\n",
       "-965            2\n",
       "-1              2\n",
       "929             2\n",
       "924             2\n",
       "-968            2\n",
       "-966            2\n",
       "928             2\n",
       "1019            1\n",
       "1967            1\n",
       "-942            1\n",
       "938             1\n",
       "1017            1\n",
       "-939            1\n",
       "947             1\n",
       "-12             1\n",
       "-964            1\n",
       "-977            1\n",
       "948             1\n",
       "-64             1\n",
       "955             1\n",
       "920             1\n",
       "952             1\n",
       "-962            1\n",
       "-2              1\n",
       "-928            1\n",
       "940             1\n",
       "-941            1\n",
       "1925            1\n",
       "1020            1\n",
       "-63             1\n",
       "930             1\n",
       "954             1\n",
       "922             1\n",
       "1012            1\n",
       "-974            1\n",
       "-978            1\n",
       "-71             1\n",
       "Name: susp_age_group, dtype: int64"
      ]
     },
     "execution_count": 38,
     "metadata": {},
     "output_type": "execute_result"
    }
   ],
   "source": [
    "# 'susp_age_group'\n",
    "ny_dfr['susp_age_group'].value_counts()"
   ]
  },
  {
   "cell_type": "code",
   "execution_count": 39,
   "metadata": {},
   "outputs": [],
   "source": [
    "age_list = list(ny_dfr['susp_age_group'].unique())"
   ]
  },
  {
   "cell_type": "code",
   "execution_count": 40,
   "metadata": {},
   "outputs": [
    {
     "name": "stdout",
     "output_type": "stream",
     "text": [
      "['25-44', 'UNKNOWN', '18-24', '45-64', '65+', '<18', '954', '1967', '-2', '1018', '938', '2018', '928', '920', '952', '-63', '1017', '-978', '-939', '1012', '922', '924', '948', '955', '-974', '-80', '-941', '929', '-1', '940', '1019', '2019', '-973', '947', '-966', '-968', '-64', '930', '-964', '-965', '-928', '-942', '-71', '2020', '1925', '-12', '1020', '-962', '-977']\n"
     ]
    }
   ],
   "source": [
    "print(age_list)"
   ]
  },
  {
   "cell_type": "code",
   "execution_count": 41,
   "metadata": {},
   "outputs": [
    {
     "data": {
      "text/plain": [
       "['25-44', 'UNKNOWN', '18-24', '45-64', '65+', '<18']"
      ]
     },
     "execution_count": 41,
     "metadata": {},
     "output_type": "execute_result"
    }
   ],
   "source": [
    "age_list_good = age_list[0:6]\n",
    "age_list_good"
   ]
  },
  {
   "cell_type": "code",
   "execution_count": 42,
   "metadata": {},
   "outputs": [
    {
     "name": "stdout",
     "output_type": "stream",
     "text": [
      "['954', '1967', '-2', '1018', '938', '2018', '928', '920', '952', '-63', '1017', '-978', '-939', '1012', '922', '924', '948', '955', '-974', '-80', '-941', '929', '-1', '940', '1019', '2019', '-973', '947', '-966', '-968', '-64', '930', '-964', '-965', '-928', '-942', '-71', '2020', '1925', '-12', '1020', '-962', '-977']\n"
     ]
    }
   ],
   "source": [
    "age_list_bad = age_list[6:]\n",
    "print(age_list_bad)"
   ]
  },
  {
   "cell_type": "markdown",
   "metadata": {},
   "source": [
    "- Merge bad catagories to \"UNKNOWN\". (This data may be removed if we whish.)"
   ]
  },
  {
   "cell_type": "code",
   "execution_count": 43,
   "metadata": {},
   "outputs": [],
   "source": [
    "ny_dfr['susp_age_group'].replace(age_list_bad,\"UNKNOWN\", inplace=True)"
   ]
  },
  {
   "cell_type": "code",
   "execution_count": 44,
   "metadata": {},
   "outputs": [
    {
     "name": "stdout",
     "output_type": "stream",
     "text": [
      "['UNKNOWN', '18-24', '25-44', '<18', '65+', '45-64', '-974', '951', '-962', '-61', '-972', '-43', '-958', '970', '-5', '-956', '-51', '-968', '-55', '-76', '922', '-940', '954', '-955', '-948', '948', '936', '-1', '-970', '957', '965', '-3', '-966', '953', '1017', '-4', '-67', '929', '-59', '-2', '-952', '-978', '-934', '938', '-56', '927', '960', '-946', '-69', '937', '-967', '-942', '1013', '-39', '941', '-50', '-943', '956', '-954', '-71', '-961', '1018', '943', '-938', '-963', '-31', '950', '1016', '932', '1014', '-60', '-965', '-973', '949']\n"
     ]
    }
   ],
   "source": [
    "age_list = list(ny_dfr['vic_age_group'].unique())\n",
    "print(age_list)"
   ]
  },
  {
   "cell_type": "code",
   "execution_count": 45,
   "metadata": {},
   "outputs": [
    {
     "name": "stdout",
     "output_type": "stream",
     "text": [
      "['-974', '951', '-962', '-61', '-972', '-43', '-958', '970', '-5', '-956', '-51', '-968', '-55', '-76', '922', '-940', '954', '-955', '-948', '948', '936', '-1', '-970', '957', '965', '-3', '-966', '953', '1017', '-4', '-67', '929', '-59', '-2', '-952', '-978', '-934', '938', '-56', '927', '960', '-946', '-69', '937', '-967', '-942', '1013', '-39', '941', '-50', '-943', '956', '-954', '-71', '-961', '1018', '943', '-938', '-963', '-31', '950', '1016', '932', '1014', '-60', '-965', '-973', '949']\n"
     ]
    }
   ],
   "source": [
    "age_list_bad = age_list[6:]\n",
    "print(age_list_bad)"
   ]
  },
  {
   "cell_type": "code",
   "execution_count": 46,
   "metadata": {},
   "outputs": [],
   "source": [
    "ny_dfr['vic_age_group'].replace(age_list_bad,\"UNKNOWN\", inplace=True)"
   ]
  },
  {
   "cell_type": "code",
   "execution_count": 47,
   "metadata": {},
   "outputs": [
    {
     "data": {
      "text/plain": [
       "25-44      478075\n",
       "UNKNOWN    355366\n",
       "45-64      253954\n",
       "18-24      124597\n",
       "65+         57493\n",
       "<18         49909\n",
       "Name: vic_age_group, dtype: int64"
      ]
     },
     "execution_count": 47,
     "metadata": {},
     "output_type": "execute_result"
    }
   ],
   "source": [
    "# 'vic_age_group'\n",
    "ny_dfr['vic_age_group'].value_counts()"
   ]
  },
  {
   "cell_type": "markdown",
   "metadata": {},
   "source": [
    "- Data cleaned"
   ]
  },
  {
   "cell_type": "code",
   "execution_count": 48,
   "metadata": {},
   "outputs": [
    {
     "name": "stdout",
     "output_type": "stream",
     "text": [
      "<class 'pandas.core.frame.DataFrame'>\n",
      "Int64Index: 1319394 entries, 0 to 1324338\n",
      "Data columns (total 19 columns):\n",
      " #   Column             Non-Null Count    Dtype  \n",
      "---  ------             --------------    -----  \n",
      " 0   cmplnt_num         1319394 non-null  int64  \n",
      " 1   cmplnt_fr_dt       1319394 non-null  object \n",
      " 2   cmplnt_fr_tm       1319394 non-null  object \n",
      " 3   ofns_desc          1319394 non-null  object \n",
      " 4   crm_atpt_cptd_cd   1319394 non-null  object \n",
      " 5   law_cat_cd         1319394 non-null  object \n",
      " 6   loc_of_occur_desc  1319394 non-null  object \n",
      " 7   prem_typ_desc      1319394 non-null  object \n",
      " 8   susp_age_group     1319394 non-null  object \n",
      " 9   susp_race          1319394 non-null  object \n",
      " 10  susp_sex           1319394 non-null  object \n",
      " 11  latitude           1319394 non-null  float64\n",
      " 12  longitude          1319394 non-null  float64\n",
      " 13  patrol_boro        1319394 non-null  object \n",
      " 14  vic_age_group      1319394 non-null  object \n",
      " 15  vic_race           1319394 non-null  object \n",
      " 16  vic_sex            1319394 non-null  object \n",
      " 17  parks_nm           1319394 non-null  object \n",
      " 18  station_name       1319394 non-null  object \n",
      "dtypes: float64(2), int64(1), object(16)\n",
      "memory usage: 201.3+ MB\n"
     ]
    }
   ],
   "source": [
    "ny_dfr.info()"
   ]
  },
  {
   "cell_type": "code",
   "execution_count": 49,
   "metadata": {},
   "outputs": [],
   "source": [
    "# Write to a csv file\n",
    "ny_dfr.to_csv(\"ny_2018-2020r.csv\", index = False)"
   ]
  },
  {
   "cell_type": "markdown",
   "metadata": {},
   "source": [
    "## 2.5 Preliminary EDA"
   ]
  },
  {
   "cell_type": "code",
   "execution_count": 50,
   "metadata": {},
   "outputs": [],
   "source": [
    "%matplotlib inline\n",
    "import matplotlib.pyplot as plt"
   ]
  },
  {
   "cell_type": "code",
   "execution_count": 51,
   "metadata": {},
   "outputs": [
    {
     "data": {
      "image/png": "[encoded data removed]",
      "text/plain": [
       "<Figure size 1008x360 with 1 Axes>"
      ]
     },
     "metadata": {
      "needs_background": "light"
     },
     "output_type": "display_data"
    }
   ],
   "source": [
    "# Offense description\n",
    "fig = plt.figure(figsize = (14,5))\n",
    "_ = ny_dfr['ofns_desc'].value_counts().sort_index().plot(kind='bar', alpha = 0.6)"
   ]
  },
  {
   "cell_type": "code",
   "execution_count": 52,
   "metadata": {},
   "outputs": [
    {
     "data": {
      "image/png": "[encoded data removed]",
      "text/plain": [
       "<Figure size 288x360 with 1 Axes>"
      ]
     },
     "metadata": {
      "needs_background": "light"
     },
     "output_type": "display_data"
    }
   ],
   "source": [
    "# crm_atpt_cptd_cd\n",
    "fig = plt.figure(figsize = (4,5))\n",
    "_ = ny_dfr['crm_atpt_cptd_cd'].value_counts().sort_index().plot(kind='bar', alpha = 0.6)"
   ]
  },
  {
   "cell_type": "code",
   "execution_count": 53,
   "metadata": {},
   "outputs": [
    {
     "data": {
      "image/png": "[encoded data removed]",
      "text/plain": [
       "<Figure size 288x360 with 1 Axes>"
      ]
     },
     "metadata": {
      "needs_background": "light"
     },
     "output_type": "display_data"
    }
   ],
   "source": [
    "# law_cat_cd\n",
    "fig = plt.figure(figsize = (4,5))\n",
    "_ = ny_dfr['law_cat_cd'].value_counts().sort_index().plot(kind='bar', alpha = 0.6)"
   ]
  },
  {
   "cell_type": "code",
   "execution_count": 54,
   "metadata": {},
   "outputs": [
    {
     "data": {
      "image/png": "[encoded data removed]",
      "text/plain": [
       "<Figure size 576x360 with 1 Axes>"
      ]
     },
     "metadata": {
      "needs_background": "light"
     },
     "output_type": "display_data"
    }
   ],
   "source": [
    "# loc_of_occur_desc\n",
    "fig = plt.figure(figsize = (8,5))\n",
    "_ = ny_dfr['loc_of_occur_desc'].value_counts().sort_index().plot(kind='bar', alpha = 0.6)"
   ]
  },
  {
   "cell_type": "code",
   "execution_count": 55,
   "metadata": {},
   "outputs": [
    {
     "data": {
      "image/png": "[encoded data removed]",
      "text/plain": [
       "<Figure size 1008x360 with 1 Axes>"
      ]
     },
     "metadata": {
      "needs_background": "light"
     },
     "output_type": "display_data"
    }
   ],
   "source": [
    "# prem_typ_desc\n",
    "fig = plt.figure(figsize = (14,5))\n",
    "_ = ny_dfr['prem_typ_desc'].value_counts().sort_index().plot(kind='bar', alpha = 0.6)"
   ]
  },
  {
   "cell_type": "code",
   "execution_count": 56,
   "metadata": {},
   "outputs": [
    {
     "data": {
      "image/png": "[encoded data removed]",
      "text/plain": [
       "<Figure size 576x360 with 1 Axes>"
      ]
     },
     "metadata": {
      "needs_background": "light"
     },
     "output_type": "display_data"
    }
   ],
   "source": [
    "# susp_age_group\n",
    "fig = plt.figure(figsize = (8,5))\n",
    "_ = ny_dfr['susp_age_group'].value_counts().sort_index().plot(kind='bar', alpha = 0.6)"
   ]
  },
  {
   "cell_type": "code",
   "execution_count": 57,
   "metadata": {},
   "outputs": [
    {
     "data": {
      "image/png": "[encoded data removed]",
      "text/plain": [
       "<Figure size 576x360 with 1 Axes>"
      ]
     },
     "metadata": {
      "needs_background": "light"
     },
     "output_type": "display_data"
    }
   ],
   "source": [
    "# susp_race\n",
    "fig = plt.figure(figsize = (8,5))\n",
    "_ = ny_dfr['susp_race'].value_counts().sort_index().plot(kind='bar', alpha = 0.6)"
   ]
  },
  {
   "cell_type": "code",
   "execution_count": 58,
   "metadata": {},
   "outputs": [
    {
     "data": {
      "image/png": "[encoded data removed]",
      "text/plain": [
       "<Figure size 432x360 with 1 Axes>"
      ]
     },
     "metadata": {
      "needs_background": "light"
     },
     "output_type": "display_data"
    }
   ],
   "source": [
    "# susp_sex\n",
    "fig = plt.figure(figsize = (6,5))\n",
    "_ = ny_dfr['susp_sex'].value_counts().sort_index().plot(kind='bar', alpha = 0.6)"
   ]
  },
  {
   "cell_type": "code",
   "execution_count": 59,
   "metadata": {},
   "outputs": [
    {
     "data": {
      "image/png": "[encoded data removed]",
      "text/plain": [
       "<Figure size 576x360 with 1 Axes>"
      ]
     },
     "metadata": {
      "needs_background": "light"
     },
     "output_type": "display_data"
    }
   ],
   "source": [
    "# patrol_boro\n",
    "fig = plt.figure(figsize = (8,5))\n",
    "_ = ny_dfr['patrol_boro'].value_counts().sort_index().plot(kind='bar', alpha = 0.6)"
   ]
  },
  {
   "cell_type": "code",
   "execution_count": 60,
   "metadata": {},
   "outputs": [
    {
     "data": {
      "image/png": "[encoded data removed]",
      "text/plain": [
       "<Figure size 576x360 with 1 Axes>"
      ]
     },
     "metadata": {
      "needs_background": "light"
     },
     "output_type": "display_data"
    }
   ],
   "source": [
    "# vic_age_group\n",
    "fig = plt.figure(figsize = (8,5))\n",
    "_ = ny_dfr['vic_age_group'].value_counts().sort_index().plot(kind='bar', alpha = 0.6)"
   ]
  },
  {
   "cell_type": "code",
   "execution_count": 61,
   "metadata": {},
   "outputs": [
    {
     "data": {
      "image/png": "[encoded data removed]",
      "text/plain": [
       "<Figure size 576x360 with 1 Axes>"
      ]
     },
     "metadata": {
      "needs_background": "light"
     },
     "output_type": "display_data"
    }
   ],
   "source": [
    "# vic_race\n",
    "fig = plt.figure(figsize = (8,5))\n",
    "_ = ny_dfr['vic_race'].value_counts().sort_index().plot(kind='bar', alpha = 0.6)"
   ]
  },
  {
   "cell_type": "code",
   "execution_count": 62,
   "metadata": {},
   "outputs": [
    {
     "data": {
      "image/png": "[encoded data removed]",
      "text/plain": [
       "<Figure size 432x360 with 1 Axes>"
      ]
     },
     "metadata": {
      "needs_background": "light"
     },
     "output_type": "display_data"
    }
   ],
   "source": [
    "# vic_sex\n",
    "fig = plt.figure(figsize = (6,5))\n",
    "_ = ny_dfr['vic_sex'].value_counts().sort_index().plot(kind='bar', alpha = 0.6)"
   ]
  },
  {
   "cell_type": "markdown",
   "metadata": {},
   "source": [
    "## 2.6 Pre-processing time data"
   ]
  },
  {
   "cell_type": "code",
   "execution_count": 63,
   "metadata": {},
   "outputs": [],
   "source": [
    "df =  ny_dfr.copy()"
   ]
  },
  {
   "cell_type": "code",
   "execution_count": 64,
   "metadata": {},
   "outputs": [],
   "source": [
    "# Changing reported date to datetime format for datewise analysis\n",
    "df['cmplnt_fr_dt'] = pd.to_datetime(df['cmplnt_fr_dt'])\n",
    "df['cmplnt_fr_tm'] = pd.to_datetime(df['cmplnt_fr_tm'])"
   ]
  },
  {
   "cell_type": "code",
   "execution_count": 65,
   "metadata": {},
   "outputs": [
    {
     "data": {
      "text/plain": [
       "0         2018-01-01\n",
       "1         2018-01-01\n",
       "2         2018-01-01\n",
       "3         2018-01-01\n",
       "4         2018-01-01\n",
       "             ...    \n",
       "1324334   2020-12-31\n",
       "1324335   2020-12-31\n",
       "1324336   2020-12-31\n",
       "1324337   2020-12-31\n",
       "1324338   2020-12-31\n",
       "Name: cmplnt_fr_dt, Length: 1319394, dtype: datetime64[ns]"
      ]
     },
     "execution_count": 65,
     "metadata": {},
     "output_type": "execute_result"
    }
   ],
   "source": [
    "df['cmplnt_fr_dt']"
   ]
  },
  {
   "cell_type": "code",
   "execution_count": 66,
   "metadata": {},
   "outputs": [
    {
     "data": {
      "text/plain": [
       "0         2021-10-21 08:00:00\n",
       "1         2021-10-21 00:01:00\n",
       "2         2021-10-21 07:00:00\n",
       "3         2021-10-21 00:01:00\n",
       "4         2021-10-21 12:00:00\n",
       "                  ...        \n",
       "1324334   2021-10-21 20:40:00\n",
       "1324335   2021-10-21 15:00:00\n",
       "1324336   2021-10-21 21:30:00\n",
       "1324337   2021-10-21 20:22:00\n",
       "1324338   2021-10-21 00:42:00\n",
       "Name: cmplnt_fr_tm, Length: 1319394, dtype: datetime64[ns]"
      ]
     },
     "execution_count": 66,
     "metadata": {},
     "output_type": "execute_result"
    }
   ],
   "source": [
    "df['cmplnt_fr_tm']"
   ]
  },
  {
   "cell_type": "code",
   "execution_count": 67,
   "metadata": {},
   "outputs": [],
   "source": [
    "# Creating attributes year, day, day of week, month and hour\n",
    "df[\"YEAR\"] = df['cmplnt_fr_dt'].dt.year\n",
    "df[\"DAY\"] = df['cmplnt_fr_dt'].dt.day\n",
    "df[\"DAY_OF_WEEK\"] = df['cmplnt_fr_dt'].dt.dayofweek\n",
    "df[\"MONTH\"] = df['cmplnt_fr_dt'].dt.month\n",
    "df[\"HOUR\"] = df['cmplnt_fr_tm'].dt.hour\n",
    "df.index = pd.DatetimeIndex(df[\"cmplnt_fr_dt\"]) # Make time index"
   ]
  },
  {
   "cell_type": "code",
   "execution_count": 68,
   "metadata": {},
   "outputs": [
    {
     "name": "stdout",
     "output_type": "stream",
     "text": [
      "<class 'pandas.core.frame.DataFrame'>\n",
      "DatetimeIndex: 1319394 entries, 2018-01-01 to 2020-12-31\n",
      "Data columns (total 24 columns):\n",
      " #   Column             Non-Null Count    Dtype         \n",
      "---  ------             --------------    -----         \n",
      " 0   cmplnt_num         1319394 non-null  int64         \n",
      " 1   cmplnt_fr_dt       1319394 non-null  datetime64[ns]\n",
      " 2   cmplnt_fr_tm       1319394 non-null  datetime64[ns]\n",
      " 3   ofns_desc          1319394 non-null  object        \n",
      " 4   crm_atpt_cptd_cd   1319394 non-null  object        \n",
      " 5   law_cat_cd         1319394 non-null  object        \n",
      " 6   loc_of_occur_desc  1319394 non-null  object        \n",
      " 7   prem_typ_desc      1319394 non-null  object        \n",
      " 8   susp_age_group     1319394 non-null  object        \n",
      " 9   susp_race          1319394 non-null  object        \n",
      " 10  susp_sex           1319394 non-null  object        \n",
      " 11  latitude           1319394 non-null  float64       \n",
      " 12  longitude          1319394 non-null  float64       \n",
      " 13  patrol_boro        1319394 non-null  object        \n",
      " 14  vic_age_group      1319394 non-null  object        \n",
      " 15  vic_race           1319394 non-null  object        \n",
      " 16  vic_sex            1319394 non-null  object        \n",
      " 17  parks_nm           1319394 non-null  object        \n",
      " 18  station_name       1319394 non-null  object        \n",
      " 19  YEAR               1319394 non-null  int64         \n",
      " 20  DAY                1319394 non-null  int64         \n",
      " 21  DAY_OF_WEEK        1319394 non-null  int64         \n",
      " 22  MONTH              1319394 non-null  int64         \n",
      " 23  HOUR               1319394 non-null  int64         \n",
      "dtypes: datetime64[ns](2), float64(2), int64(6), object(14)\n",
      "memory usage: 251.7+ MB\n"
     ]
    }
   ],
   "source": [
    "df.info()"
   ]
  },
  {
   "cell_type": "code",
   "execution_count": 69,
   "metadata": {},
   "outputs": [],
   "source": [
    "# Convert day of week to plain text\n",
    "weekdays = [\"Sun\", \"Mon\", \"Tue\", \"Wed\", \"Thu\", \"Fri\", \"Sat\"]\n",
    "for i, wd in enumerate(weekdays):\n",
    "    df[\"DAY_OF_WEEK\"].replace(i, wd, inplace=True)"
   ]
  },
  {
   "cell_type": "code",
   "execution_count": 70,
   "metadata": {},
   "outputs": [],
   "source": [
    "# Add seasons column\n",
    "df[\"Season\"] =  df['cmplnt_fr_dt'].dt.month   # to be converted to season\n",
    "for i in [3, 4, 5]:\n",
    "    df = df.replace({'Season':i},'Spring')\n",
    "for i in [6, 7, 8]:\n",
    "    df = df.replace({'Season':i},'Summer')\n",
    "for i in [9, 10, 11]:\n",
    "    df = df.replace({'Season':i},'Fall')\n",
    "for i in [12, 1, 2]:\n",
    "    df = df.replace({'Season':i},'Winter')"
   ]
  },
  {
   "cell_type": "code",
   "execution_count": 71,
   "metadata": {},
   "outputs": [
    {
     "data": {
      "text/html": [
       "<div>\n",
       "<style scoped>\n",
       "    .dataframe tbody tr th:only-of-type {\n",
       "        vertical-align: middle;\n",
       "    }\n",
       "\n",
       "    .dataframe tbody tr th {\n",
       "        vertical-align: top;\n",
       "    }\n",
       "\n",
       "    .dataframe thead th {\n",
       "        text-align: right;\n",
       "    }\n",
       "</style>\n",
       "<table border=\"1\" class=\"dataframe\">\n",
       "  <thead>\n",
       "    <tr style=\"text-align: right;\">\n",
       "      <th></th>\n",
       "      <th>cmplnt_num</th>\n",
       "      <th>cmplnt_fr_dt</th>\n",
       "      <th>cmplnt_fr_tm</th>\n",
       "      <th>ofns_desc</th>\n",
       "      <th>crm_atpt_cptd_cd</th>\n",
       "      <th>law_cat_cd</th>\n",
       "      <th>loc_of_occur_desc</th>\n",
       "      <th>prem_typ_desc</th>\n",
       "      <th>susp_age_group</th>\n",
       "      <th>susp_race</th>\n",
       "      <th>...</th>\n",
       "      <th>vic_race</th>\n",
       "      <th>vic_sex</th>\n",
       "      <th>parks_nm</th>\n",
       "      <th>station_name</th>\n",
       "      <th>YEAR</th>\n",
       "      <th>DAY</th>\n",
       "      <th>DAY_OF_WEEK</th>\n",
       "      <th>MONTH</th>\n",
       "      <th>HOUR</th>\n",
       "      <th>Season</th>\n",
       "    </tr>\n",
       "    <tr>\n",
       "      <th>cmplnt_fr_dt</th>\n",
       "      <th></th>\n",
       "      <th></th>\n",
       "      <th></th>\n",
       "      <th></th>\n",
       "      <th></th>\n",
       "      <th></th>\n",
       "      <th></th>\n",
       "      <th></th>\n",
       "      <th></th>\n",
       "      <th></th>\n",
       "      <th></th>\n",
       "      <th></th>\n",
       "      <th></th>\n",
       "      <th></th>\n",
       "      <th></th>\n",
       "      <th></th>\n",
       "      <th></th>\n",
       "      <th></th>\n",
       "      <th></th>\n",
       "      <th></th>\n",
       "      <th></th>\n",
       "    </tr>\n",
       "  </thead>\n",
       "  <tbody>\n",
       "    <tr>\n",
       "      <th>2018-01-01</th>\n",
       "      <td>947161850</td>\n",
       "      <td>2018-01-01</td>\n",
       "      <td>2021-10-21 08:00:00</td>\n",
       "      <td>GRAND LARCENY</td>\n",
       "      <td>COMPLETED</td>\n",
       "      <td>FELONY</td>\n",
       "      <td>INSIDE</td>\n",
       "      <td>COMMERCIAL BUILDING</td>\n",
       "      <td>25-44</td>\n",
       "      <td>BLACK</td>\n",
       "      <td>...</td>\n",
       "      <td>UNKNOWN</td>\n",
       "      <td>D</td>\n",
       "      <td>NA</td>\n",
       "      <td>NA</td>\n",
       "      <td>2018</td>\n",
       "      <td>1</td>\n",
       "      <td>Sun</td>\n",
       "      <td>1</td>\n",
       "      <td>8</td>\n",
       "      <td>Winter</td>\n",
       "    </tr>\n",
       "    <tr>\n",
       "      <th>2018-01-01</th>\n",
       "      <td>963870686</td>\n",
       "      <td>2018-01-01</td>\n",
       "      <td>2021-10-21 00:01:00</td>\n",
       "      <td>GRAND LARCENY</td>\n",
       "      <td>COMPLETED</td>\n",
       "      <td>FELONY</td>\n",
       "      <td>INSIDE</td>\n",
       "      <td>RESIDENCE-HOUSE</td>\n",
       "      <td>UNKNOWN</td>\n",
       "      <td>UNKNOWN</td>\n",
       "      <td>...</td>\n",
       "      <td>BLACK</td>\n",
       "      <td>M</td>\n",
       "      <td>NA</td>\n",
       "      <td>NA</td>\n",
       "      <td>2018</td>\n",
       "      <td>1</td>\n",
       "      <td>Sun</td>\n",
       "      <td>1</td>\n",
       "      <td>0</td>\n",
       "      <td>Winter</td>\n",
       "    </tr>\n",
       "    <tr>\n",
       "      <th>2018-01-01</th>\n",
       "      <td>923975917</td>\n",
       "      <td>2018-01-01</td>\n",
       "      <td>2021-10-21 07:00:00</td>\n",
       "      <td>CRIMINAL MISCHIEF &amp; RELATED OF</td>\n",
       "      <td>COMPLETED</td>\n",
       "      <td>FELONY</td>\n",
       "      <td>INSIDE</td>\n",
       "      <td>ABANDONED BUILDING</td>\n",
       "      <td>UNKNOWN</td>\n",
       "      <td>UNKNOWN</td>\n",
       "      <td>...</td>\n",
       "      <td>WHITE</td>\n",
       "      <td>F</td>\n",
       "      <td>NA</td>\n",
       "      <td>NA</td>\n",
       "      <td>2018</td>\n",
       "      <td>1</td>\n",
       "      <td>Sun</td>\n",
       "      <td>1</td>\n",
       "      <td>7</td>\n",
       "      <td>Winter</td>\n",
       "    </tr>\n",
       "    <tr>\n",
       "      <th>2018-01-01</th>\n",
       "      <td>553803536</td>\n",
       "      <td>2018-01-01</td>\n",
       "      <td>2021-10-21 00:01:00</td>\n",
       "      <td>SEX CRIMES</td>\n",
       "      <td>COMPLETED</td>\n",
       "      <td>MISDEMEANOR</td>\n",
       "      <td>INSIDE</td>\n",
       "      <td>RESIDENCE-HOUSE</td>\n",
       "      <td>UNKNOWN</td>\n",
       "      <td>UNKNOWN</td>\n",
       "      <td>...</td>\n",
       "      <td>BLACK</td>\n",
       "      <td>F</td>\n",
       "      <td>NA</td>\n",
       "      <td>NA</td>\n",
       "      <td>2018</td>\n",
       "      <td>1</td>\n",
       "      <td>Sun</td>\n",
       "      <td>1</td>\n",
       "      <td>0</td>\n",
       "      <td>Winter</td>\n",
       "    </tr>\n",
       "    <tr>\n",
       "      <th>2018-01-01</th>\n",
       "      <td>994797810</td>\n",
       "      <td>2018-01-01</td>\n",
       "      <td>2021-10-21 12:00:00</td>\n",
       "      <td>SEX CRIMES</td>\n",
       "      <td>COMPLETED</td>\n",
       "      <td>MISDEMEANOR</td>\n",
       "      <td>INSIDE</td>\n",
       "      <td>RESIDENCE - APT. HOUSE</td>\n",
       "      <td>18-24</td>\n",
       "      <td>UNKNOWN</td>\n",
       "      <td>...</td>\n",
       "      <td>BLACK</td>\n",
       "      <td>M</td>\n",
       "      <td>NA</td>\n",
       "      <td>NA</td>\n",
       "      <td>2018</td>\n",
       "      <td>1</td>\n",
       "      <td>Sun</td>\n",
       "      <td>1</td>\n",
       "      <td>12</td>\n",
       "      <td>Winter</td>\n",
       "    </tr>\n",
       "    <tr>\n",
       "      <th>...</th>\n",
       "      <td>...</td>\n",
       "      <td>...</td>\n",
       "      <td>...</td>\n",
       "      <td>...</td>\n",
       "      <td>...</td>\n",
       "      <td>...</td>\n",
       "      <td>...</td>\n",
       "      <td>...</td>\n",
       "      <td>...</td>\n",
       "      <td>...</td>\n",
       "      <td>...</td>\n",
       "      <td>...</td>\n",
       "      <td>...</td>\n",
       "      <td>...</td>\n",
       "      <td>...</td>\n",
       "      <td>...</td>\n",
       "      <td>...</td>\n",
       "      <td>...</td>\n",
       "      <td>...</td>\n",
       "      <td>...</td>\n",
       "      <td>...</td>\n",
       "    </tr>\n",
       "    <tr>\n",
       "      <th>2020-12-31</th>\n",
       "      <td>165691435</td>\n",
       "      <td>2020-12-31</td>\n",
       "      <td>2021-10-21 20:40:00</td>\n",
       "      <td>DANGEROUS WEAPONS</td>\n",
       "      <td>COMPLETED</td>\n",
       "      <td>FELONY</td>\n",
       "      <td>NA</td>\n",
       "      <td>STREET</td>\n",
       "      <td>UNKNOWN</td>\n",
       "      <td>UNKNOWN</td>\n",
       "      <td>...</td>\n",
       "      <td>UNKNOWN</td>\n",
       "      <td>E</td>\n",
       "      <td>NA</td>\n",
       "      <td>NA</td>\n",
       "      <td>2020</td>\n",
       "      <td>31</td>\n",
       "      <td>Wed</td>\n",
       "      <td>12</td>\n",
       "      <td>20</td>\n",
       "      <td>Winter</td>\n",
       "    </tr>\n",
       "    <tr>\n",
       "      <th>2020-12-31</th>\n",
       "      <td>408014308</td>\n",
       "      <td>2020-12-31</td>\n",
       "      <td>2021-10-21 15:00:00</td>\n",
       "      <td>PETIT LARCENY</td>\n",
       "      <td>COMPLETED</td>\n",
       "      <td>MISDEMEANOR</td>\n",
       "      <td>FRONT OF</td>\n",
       "      <td>RESIDENCE - PUBLIC HOUSING</td>\n",
       "      <td>UNKNOWN</td>\n",
       "      <td>UNKNOWN</td>\n",
       "      <td>...</td>\n",
       "      <td>WHITE HISPANIC</td>\n",
       "      <td>M</td>\n",
       "      <td>NA</td>\n",
       "      <td>NA</td>\n",
       "      <td>2020</td>\n",
       "      <td>31</td>\n",
       "      <td>Wed</td>\n",
       "      <td>12</td>\n",
       "      <td>15</td>\n",
       "      <td>Winter</td>\n",
       "    </tr>\n",
       "    <tr>\n",
       "      <th>2020-12-31</th>\n",
       "      <td>152189917</td>\n",
       "      <td>2020-12-31</td>\n",
       "      <td>2021-10-21 21:30:00</td>\n",
       "      <td>GRAND LARCENY</td>\n",
       "      <td>COMPLETED</td>\n",
       "      <td>FELONY</td>\n",
       "      <td>INSIDE</td>\n",
       "      <td>HOTEL/MOTEL</td>\n",
       "      <td>UNKNOWN</td>\n",
       "      <td>UNKNOWN</td>\n",
       "      <td>...</td>\n",
       "      <td>WHITE HISPANIC</td>\n",
       "      <td>F</td>\n",
       "      <td>NA</td>\n",
       "      <td>NA</td>\n",
       "      <td>2020</td>\n",
       "      <td>31</td>\n",
       "      <td>Wed</td>\n",
       "      <td>12</td>\n",
       "      <td>21</td>\n",
       "      <td>Winter</td>\n",
       "    </tr>\n",
       "    <tr>\n",
       "      <th>2020-12-31</th>\n",
       "      <td>819066061</td>\n",
       "      <td>2020-12-31</td>\n",
       "      <td>2021-10-21 20:22:00</td>\n",
       "      <td>DANGEROUS WEAPONS</td>\n",
       "      <td>COMPLETED</td>\n",
       "      <td>FELONY</td>\n",
       "      <td>NA</td>\n",
       "      <td>STREET</td>\n",
       "      <td>UNKNOWN</td>\n",
       "      <td>UNKNOWN</td>\n",
       "      <td>...</td>\n",
       "      <td>UNKNOWN</td>\n",
       "      <td>E</td>\n",
       "      <td>NA</td>\n",
       "      <td>NA</td>\n",
       "      <td>2020</td>\n",
       "      <td>31</td>\n",
       "      <td>Wed</td>\n",
       "      <td>12</td>\n",
       "      <td>20</td>\n",
       "      <td>Winter</td>\n",
       "    </tr>\n",
       "    <tr>\n",
       "      <th>2020-12-31</th>\n",
       "      <td>675684827</td>\n",
       "      <td>2020-12-31</td>\n",
       "      <td>2021-10-21 00:42:00</td>\n",
       "      <td>ROBBERY</td>\n",
       "      <td>COMPLETED</td>\n",
       "      <td>FELONY</td>\n",
       "      <td>INSIDE</td>\n",
       "      <td>BEAUTY &amp; NAIL SALON</td>\n",
       "      <td>UNKNOWN</td>\n",
       "      <td>UNKNOWN</td>\n",
       "      <td>...</td>\n",
       "      <td>WHITE HISPANIC</td>\n",
       "      <td>M</td>\n",
       "      <td>NA</td>\n",
       "      <td>NA</td>\n",
       "      <td>2020</td>\n",
       "      <td>31</td>\n",
       "      <td>Wed</td>\n",
       "      <td>12</td>\n",
       "      <td>0</td>\n",
       "      <td>Winter</td>\n",
       "    </tr>\n",
       "  </tbody>\n",
       "</table>\n",
       "<p>1319394 rows × 25 columns</p>\n",
       "</div>"
      ],
      "text/plain": [
       "              cmplnt_num cmplnt_fr_dt        cmplnt_fr_tm  \\\n",
       "cmplnt_fr_dt                                                \n",
       "2018-01-01     947161850   2018-01-01 2021-10-21 08:00:00   \n",
       "2018-01-01     963870686   2018-01-01 2021-10-21 00:01:00   \n",
       "2018-01-01     923975917   2018-01-01 2021-10-21 07:00:00   \n",
       "2018-01-01     553803536   2018-01-01 2021-10-21 00:01:00   \n",
       "2018-01-01     994797810   2018-01-01 2021-10-21 12:00:00   \n",
       "...                  ...          ...                 ...   \n",
       "2020-12-31     165691435   2020-12-31 2021-10-21 20:40:00   \n",
       "2020-12-31     408014308   2020-12-31 2021-10-21 15:00:00   \n",
       "2020-12-31     152189917   2020-12-31 2021-10-21 21:30:00   \n",
       "2020-12-31     819066061   2020-12-31 2021-10-21 20:22:00   \n",
       "2020-12-31     675684827   2020-12-31 2021-10-21 00:42:00   \n",
       "\n",
       "                                   ofns_desc crm_atpt_cptd_cd   law_cat_cd  \\\n",
       "cmplnt_fr_dt                                                                 \n",
       "2018-01-01                     GRAND LARCENY        COMPLETED       FELONY   \n",
       "2018-01-01                     GRAND LARCENY        COMPLETED       FELONY   \n",
       "2018-01-01    CRIMINAL MISCHIEF & RELATED OF        COMPLETED       FELONY   \n",
       "2018-01-01                        SEX CRIMES        COMPLETED  MISDEMEANOR   \n",
       "2018-01-01                        SEX CRIMES        COMPLETED  MISDEMEANOR   \n",
       "...                                      ...              ...          ...   \n",
       "2020-12-31                 DANGEROUS WEAPONS        COMPLETED       FELONY   \n",
       "2020-12-31                     PETIT LARCENY        COMPLETED  MISDEMEANOR   \n",
       "2020-12-31                     GRAND LARCENY        COMPLETED       FELONY   \n",
       "2020-12-31                 DANGEROUS WEAPONS        COMPLETED       FELONY   \n",
       "2020-12-31                           ROBBERY        COMPLETED       FELONY   \n",
       "\n",
       "             loc_of_occur_desc               prem_typ_desc susp_age_group  \\\n",
       "cmplnt_fr_dt                                                                \n",
       "2018-01-01              INSIDE         COMMERCIAL BUILDING          25-44   \n",
       "2018-01-01              INSIDE             RESIDENCE-HOUSE        UNKNOWN   \n",
       "2018-01-01              INSIDE          ABANDONED BUILDING        UNKNOWN   \n",
       "2018-01-01              INSIDE             RESIDENCE-HOUSE        UNKNOWN   \n",
       "2018-01-01              INSIDE      RESIDENCE - APT. HOUSE          18-24   \n",
       "...                        ...                         ...            ...   \n",
       "2020-12-31                  NA                      STREET        UNKNOWN   \n",
       "2020-12-31            FRONT OF  RESIDENCE - PUBLIC HOUSING        UNKNOWN   \n",
       "2020-12-31              INSIDE                 HOTEL/MOTEL        UNKNOWN   \n",
       "2020-12-31                  NA                      STREET        UNKNOWN   \n",
       "2020-12-31              INSIDE         BEAUTY & NAIL SALON        UNKNOWN   \n",
       "\n",
       "             susp_race  ...        vic_race  vic_sex  parks_nm station_name  \\\n",
       "cmplnt_fr_dt            ...                                                   \n",
       "2018-01-01       BLACK  ...         UNKNOWN        D        NA           NA   \n",
       "2018-01-01     UNKNOWN  ...           BLACK        M        NA           NA   \n",
       "2018-01-01     UNKNOWN  ...           WHITE        F        NA           NA   \n",
       "2018-01-01     UNKNOWN  ...           BLACK        F        NA           NA   \n",
       "2018-01-01     UNKNOWN  ...           BLACK        M        NA           NA   \n",
       "...                ...  ...             ...      ...       ...          ...   \n",
       "2020-12-31     UNKNOWN  ...         UNKNOWN        E        NA           NA   \n",
       "2020-12-31     UNKNOWN  ...  WHITE HISPANIC        M        NA           NA   \n",
       "2020-12-31     UNKNOWN  ...  WHITE HISPANIC        F        NA           NA   \n",
       "2020-12-31     UNKNOWN  ...         UNKNOWN        E        NA           NA   \n",
       "2020-12-31     UNKNOWN  ...  WHITE HISPANIC        M        NA           NA   \n",
       "\n",
       "              YEAR DAY DAY_OF_WEEK MONTH HOUR  Season  \n",
       "cmplnt_fr_dt                                           \n",
       "2018-01-01    2018   1         Sun     1    8  Winter  \n",
       "2018-01-01    2018   1         Sun     1    0  Winter  \n",
       "2018-01-01    2018   1         Sun     1    7  Winter  \n",
       "2018-01-01    2018   1         Sun     1    0  Winter  \n",
       "2018-01-01    2018   1         Sun     1   12  Winter  \n",
       "...            ...  ..         ...   ...  ...     ...  \n",
       "2020-12-31    2020  31         Wed    12   20  Winter  \n",
       "2020-12-31    2020  31         Wed    12   15  Winter  \n",
       "2020-12-31    2020  31         Wed    12   21  Winter  \n",
       "2020-12-31    2020  31         Wed    12   20  Winter  \n",
       "2020-12-31    2020  31         Wed    12    0  Winter  \n",
       "\n",
       "[1319394 rows x 25 columns]"
      ]
     },
     "execution_count": 71,
     "metadata": {},
     "output_type": "execute_result"
    }
   ],
   "source": [
    "df"
   ]
  },
  {
   "cell_type": "code",
   "execution_count": 72,
   "metadata": {},
   "outputs": [],
   "source": [
    "# Write to a csv file\n",
    "df.to_csv(\"df_2018-2020.csv\",index = False)"
   ]
  },
  {
   "cell_type": "code",
   "execution_count": 73,
   "metadata": {},
   "outputs": [
    {
     "data": {
      "image/png": "[encoded data removed]",
      "text/plain": [
       "<Figure size 576x360 with 1 Axes>"
      ]
     },
     "metadata": {
      "needs_background": "light"
     },
     "output_type": "display_data"
    }
   ],
   "source": [
    "# Month\n",
    "fig = plt.figure(figsize = (8,5))\n",
    "_ = df['MONTH'].value_counts().sort_index().plot(kind='bar', alpha = 0.6)"
   ]
  },
  {
   "cell_type": "code",
   "execution_count": 74,
   "metadata": {},
   "outputs": [
    {
     "data": {
      "image/png": "[encoded data removed]",
      "text/plain": [
       "<Figure size 432x360 with 1 Axes>"
      ]
     },
     "metadata": {
      "needs_background": "light"
     },
     "output_type": "display_data"
    }
   ],
   "source": [
    "# DAY_OF_WEEK\n",
    "fig = plt.figure(figsize = (6,5))\n",
    "_ = df['DAY_OF_WEEK'].value_counts().plot(kind='bar', alpha = 0.6)"
   ]
  },
  {
   "cell_type": "code",
   "execution_count": 75,
   "metadata": {},
   "outputs": [
    {
     "data": {
      "image/png": "[encoded data removed]",
      "text/plain": [
       "<Figure size 432x360 with 1 Axes>"
      ]
     },
     "metadata": {
      "needs_background": "light"
     },
     "output_type": "display_data"
    }
   ],
   "source": [
    "# Season\n",
    "fig = plt.figure(figsize = (6,5))\n",
    "_ = df['Season'].value_counts().sort_index().plot(kind='bar', alpha = 0.6)"
   ]
  },
  {
   "cell_type": "code",
   "execution_count": 76,
   "metadata": {},
   "outputs": [],
   "source": [
    "# Finding trend in the commited crimes\n",
    "crimes_per_day = pd.DataFrame(df.resample('D').size())\n",
    "\n",
    "# mean and STD\n",
    "crimes_per_day[\"MEAN\"] = df.resample('D').size().mean()\n",
    "crimes_per_day[\"STD\"] = df.resample('D').size().std()"
   ]
  },
  {
   "cell_type": "code",
   "execution_count": 77,
   "metadata": {},
   "outputs": [
    {
     "data": {
      "image/png": "[encoded data removed]",
      "text/plain": [
       "<Figure size 1008x360 with 1 Axes>"
      ]
     },
     "metadata": {
      "needs_background": "light"
     },
     "output_type": "display_data"
    }
   ],
   "source": [
    "# Plotting the daily trend\n",
    "fig = plt.figure(figsize=(14,5))\n",
    "_ = df.resample('D').size().plot()\n",
    "_ = crimes_per_day['MEAN'].plot()\n",
    "_ = plt.title('Number of crimes per day in NYC', fontsize=16)\n",
    "_ = plt.xlabel('Day')\n",
    "_ = plt.ylabel('Number of crimes')"
   ]
  },
  {
   "cell_type": "code",
   "execution_count": 82,
   "metadata": {},
   "outputs": [
    {
     "data": {
      "text/plain": [
       "Text(50.999999999999986, 0.5, 'Type of crime')"
      ]
     },
     "execution_count": 82,
     "metadata": {},
     "output_type": "execute_result"
    },
    {
     "data": {
      "image/png": "[encoded data removed]",
      "text/plain": [
       "<Figure size 576x720 with 2 Axes>"
      ]
     },
     "metadata": {
      "needs_background": "light"
     },
     "output_type": "display_data"
    }
   ],
   "source": [
    "\n",
    "months = ['Jan','Feb','Mar','Apr','May','Jun','Jul','Aug','Sep','Oct','Nov','Dec']\n",
    "# Turning int month values to string name\n",
    "crimes_pt = df.pivot_table(index='ofns_desc', columns='MONTH', aggfunc='size')\n",
    "crimes_freq = crimes_pt.apply(lambda x: x / crimes_pt.max(axis=1))\n",
    "crimes_freq.columns = months\n",
    "# creating graph\n",
    "plt.figure(figsize=(8,10))\n",
    "plt.title('Average Number of Crimes per Category and Month', fontsize=14)\n",
    "sns.heatmap(crimes_freq, cmap='inferno', cbar=True, annot=False, fmt=\".0f\")\n",
    "\n",
    "plt.xlabel(\"No. of Incidents\",fontsize=13)\n",
    "plt.ylabel(\"Type of crime\",fontsize=13)\n"
   ]
  },
  {
   "cell_type": "code",
   "execution_count": 81,
   "metadata": {},
   "outputs": [],
   "source": [
    "import seaborn as sns"
   ]
  }
 ],
 "metadata": {
  "kernelspec": {
   "display_name": "Python 3",
   "language": "python",
   "name": "python3"
  },
  "language_info": {
   "codemirror_mode": {
    "name": "ipython",
    "version": 3
   },
   "file_extension": ".py",
   "mimetype": "text/x-python",
   "name": "python",
   "nbconvert_exporter": "python",
   "pygments_lexer": "ipython3",
   "version": "3.8.5"
  }
 },
 "nbformat": 4,
 "nbformat_minor": 4
}
